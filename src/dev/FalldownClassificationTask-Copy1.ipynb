{
 "cells": [
  {
   "cell_type": "code",
   "execution_count": 11,
   "metadata": {},
   "outputs": [],
   "source": [
    "import os\n",
    "os.environ[\"CUDA_VISIBLE_DEVICES\"] = \"2\"  # titan RTX"
   ]
  },
  {
   "cell_type": "code",
   "execution_count": 12,
   "metadata": {},
   "outputs": [],
   "source": [
    "import warnings\n",
    "warnings.filterwarnings(\"ignore\")"
   ]
  },
  {
   "cell_type": "markdown",
   "metadata": {},
   "source": [
    "# Load configurations"
   ]
  },
  {
   "cell_type": "code",
   "execution_count": 21,
   "metadata": {
    "pixiedust": {
     "displayParams": {}
    }
   },
   "outputs": [],
   "source": [
    "import json\n",
    "\n",
    "class Opt():\n",
    "    def __init__(self):\n",
    "        pass\n",
    "\n",
    "opt = Opt()\n",
    "with open('manifest/DefaultAGNet_MulticamFD@r2plus1d_18_cv.cfg', 'r') as f: \n",
    "    opt.__dict__ = json.load(f)"
   ]
  },
  {
   "cell_type": "code",
   "execution_count": 22,
   "metadata": {},
   "outputs": [],
   "source": [
    "opt.multiple_clip = False\n",
    "opt.batch_size = 16\n",
    "opt.balanced_batch = False"
   ]
  },
  {
   "cell_type": "code",
   "execution_count": 23,
   "metadata": {},
   "outputs": [],
   "source": [
    "import utils.engine\n",
    "from datasets import get_data_loader\n",
    "from models import generate_network\n",
    "\n",
    "import torch\n",
    "import torch.optim as optim\n",
    "import torch.nn as nn\n",
    "import pytorch_warmup as warmup  # for LR warmup\n",
    "import os\n",
    "import numpy as np\n",
    "import sklearn.metrics"
   ]
  },
  {
   "cell_type": "markdown",
   "metadata": {},
   "source": [
    "# TEST"
   ]
  },
  {
   "cell_type": "code",
   "execution_count": 24,
   "metadata": {
    "scrolled": true
   },
   "outputs": [
    {
     "data": {
      "application/vnd.jupyter.widget-view+json": {
       "model_id": "a6340e87c1d24faa969aad221045a827",
       "version_major": 2,
       "version_minor": 0
      },
      "text/plain": [
       "HBox(children=(IntProgress(value=0, max=57), HTML(value='')))"
      ]
     },
     "metadata": {},
     "output_type": "display_data"
    },
    {
     "name": "stderr",
     "output_type": "stream",
     "text": [
      "Exception ignored in: <bound method _MultiProcessingDataLoaderIter.__del__ of <torch.utils.data.dataloader._MultiProcessingDataLoaderIter object at 0x7f23100c8f60>>\n",
      "Traceback (most recent call last):\n",
      "  File \"/opt/conda/envs/torch/lib/python3.6/site-packages/torch/utils/data/dataloader.py\", line 961, in __del__\n",
      "    self._shutdown_workers()\n",
      "  File \"/opt/conda/envs/torch/lib/python3.6/site-packages/torch/utils/data/dataloader.py\", line 941, in _shutdown_workers\n",
      "    w.join()\n",
      "  File \"/opt/conda/envs/torch/lib/python3.6/multiprocessing/process.py\", line 122, in join\n",
      "    assert self._parent_pid == os.getpid(), 'can only join a child process'\n",
      "AssertionError: can only join a child process\n"
     ]
    },
    {
     "name": "stdout",
     "output_type": "stream",
     "text": [
      "\n",
      "train : 856, test : 344\n",
      "\n",
      "freezing backbone layers...\n",
      "After freezing, # of trainable params of a backbone layers : 0\n",
      "Load pretrained model from /data/GaitData/ckpt_dir/DefaultAGNet_MulticamFD@r2plus1d_18/model_fold-1.pth...\n",
      "Start Evaluation...\n"
     ]
    },
    {
     "name": "stderr",
     "output_type": "stream",
     "text": [
      "Exception ignored in: <bound method _MultiProcessingDataLoaderIter.__del__ of <torch.utils.data.dataloader._MultiProcessingDataLoaderIter object at 0x7f23100c8f60>>\n",
      "Traceback (most recent call last):\n",
      "  File \"/opt/conda/envs/torch/lib/python3.6/site-packages/torch/utils/data/dataloader.py\", line 961, in __del__\n",
      "    self._shutdown_workers()\n",
      "  File \"/opt/conda/envs/torch/lib/python3.6/site-packages/torch/utils/data/dataloader.py\", line 941, in _shutdown_workers\n",
      "    w.join()\n",
      "  File \"/opt/conda/envs/torch/lib/python3.6/multiprocessing/process.py\", line 122, in join\n",
      "    assert self._parent_pid == os.getpid(), 'can only join a child process'\n",
      "AssertionError: can only join a child process\n",
      "Exception ignored in: <bound method _MultiProcessingDataLoaderIter.__del__ of <torch.utils.data.dataloader._MultiProcessingDataLoaderIter object at 0x7f23100c8f60>>\n",
      "Traceback (most recent call last):\n",
      "  File \"/opt/conda/envs/torch/lib/python3.6/site-packages/torch/utils/data/dataloader.py\", line 961, in __del__\n",
      "    self._shutdown_workers()\n",
      "Exception ignored in: <bound method _MultiProcessingDataLoaderIter.__del__ of <torch.utils.data.dataloader._MultiProcessingDataLoaderIter object at 0x7f23100c8f60>>\n",
      "  File \"/opt/conda/envs/torch/lib/python3.6/site-packages/torch/utils/data/dataloader.py\", line 941, in _shutdown_workers\n",
      "Traceback (most recent call last):\n",
      "    w.join()\n",
      "  File \"/opt/conda/envs/torch/lib/python3.6/site-packages/torch/utils/data/dataloader.py\", line 961, in __del__\n",
      "  File \"/opt/conda/envs/torch/lib/python3.6/multiprocessing/process.py\", line 122, in join\n",
      "    assert self._parent_pid == os.getpid(), 'can only join a child process'\n",
      "AssertionError: can only join a child process\n",
      "    self._shutdown_workers()\n",
      "  File \"/opt/conda/envs/torch/lib/python3.6/site-packages/torch/utils/data/dataloader.py\", line 941, in _shutdown_workers\n",
      "    w.join()\n",
      "  File \"/opt/conda/envs/torch/lib/python3.6/multiprocessing/process.py\", line 122, in join\n",
      "    assert self._parent_pid == os.getpid(), 'can only join a child process'\n",
      "AssertionError: can only join a child process\n",
      "Exception ignored in: <bound method _MultiProcessingDataLoaderIter.__del__ of <torch.utils.data.dataloader._MultiProcessingDataLoaderIter object at 0x7f23100c8f60>>\n",
      "Traceback (most recent call last):\n",
      "Exception ignored in: <bound method _MultiProcessingDataLoaderIter.__del__ of <torch.utils.data.dataloader._MultiProcessingDataLoaderIter object at 0x7f23100c8f60>>\n",
      "  File \"/opt/conda/envs/torch/lib/python3.6/site-packages/torch/utils/data/dataloader.py\", line 961, in __del__\n",
      "    self._shutdown_workers()\n",
      "Traceback (most recent call last):\n",
      "  File \"/opt/conda/envs/torch/lib/python3.6/site-packages/torch/utils/data/dataloader.py\", line 941, in _shutdown_workers\n",
      "  File \"/opt/conda/envs/torch/lib/python3.6/site-packages/torch/utils/data/dataloader.py\", line 961, in __del__\n",
      "    w.join()\n",
      "  File \"/opt/conda/envs/torch/lib/python3.6/multiprocessing/process.py\", line 122, in join\n",
      "    self._shutdown_workers()\n",
      "    assert self._parent_pid == os.getpid(), 'can only join a child process'\n",
      "  File \"/opt/conda/envs/torch/lib/python3.6/site-packages/torch/utils/data/dataloader.py\", line 941, in _shutdown_workers\n",
      "AssertionError: can only join a child process\n",
      "    w.join()\n",
      "  File \"/opt/conda/envs/torch/lib/python3.6/multiprocessing/process.py\", line 122, in join\n",
      "    assert self._parent_pid == os.getpid(), 'can only join a child process'\n",
      "AssertionError: can only join a child process\n",
      "Exception ignored in: <bound method _MultiProcessingDataLoaderIter.__del__ of <torch.utils.data.dataloader._MultiProcessingDataLoaderIter object at 0x7f23100c8f60>>\n",
      "Traceback (most recent call last):\n",
      "  File \"/opt/conda/envs/torch/lib/python3.6/site-packages/torch/utils/data/dataloader.py\", line 961, in __del__\n",
      "    self._shutdown_workers()\n",
      "  File \"/opt/conda/envs/torch/lib/python3.6/site-packages/torch/utils/data/dataloader.py\", line 941, in _shutdown_workers\n",
      "    w.join()\n",
      "  File \"/opt/conda/envs/torch/lib/python3.6/multiprocessing/process.py\", line 122, in join\n",
      "    assert self._parent_pid == os.getpid(), 'can only join a child process'\n",
      "AssertionError: can only join a child process\n",
      "Exception ignored in: <bound method _MultiProcessingDataLoaderIter.__del__ of <torch.utils.data.dataloader._MultiProcessingDataLoaderIter object at 0x7f23100c8f60>>\n",
      "Traceback (most recent call last):\n",
      "  File \"/opt/conda/envs/torch/lib/python3.6/site-packages/torch/utils/data/dataloader.py\", line 961, in __del__\n",
      "    self._shutdown_workers()\n",
      "  File \"/opt/conda/envs/torch/lib/python3.6/site-packages/torch/utils/data/dataloader.py\", line 941, in _shutdown_workers\n",
      "    w.join()\n",
      "  File \"/opt/conda/envs/torch/lib/python3.6/multiprocessing/process.py\", line 122, in join\n",
      "    assert self._parent_pid == os.getpid(), 'can only join a child process'\n",
      "AssertionError: can only join a child process\n",
      "Exception ignored in: <bound method _MultiProcessingDataLoaderIter.__del__ of <torch.utils.data.dataloader._MultiProcessingDataLoaderIter object at 0x7f23100c8f60>>\n",
      "Traceback (most recent call last):\n",
      "  File \"/opt/conda/envs/torch/lib/python3.6/site-packages/torch/utils/data/dataloader.py\", line 961, in __del__\n",
      "    self._shutdown_workers()\n",
      "  File \"/opt/conda/envs/torch/lib/python3.6/site-packages/torch/utils/data/dataloader.py\", line 941, in _shutdown_workers\n",
      "    w.join()\n",
      "  File \"/opt/conda/envs/torch/lib/python3.6/multiprocessing/process.py\", line 122, in join\n",
      "    assert self._parent_pid == os.getpid(), 'can only join a child process'\n",
      "AssertionError: can only join a child process\n"
     ]
    },
    {
     "data": {
      "application/vnd.jupyter.widget-view+json": {
       "model_id": "0726aa7f8a5f41f08c62f1cc307a5c6a",
       "version_major": 2,
       "version_minor": 0
      },
      "text/plain": [
       "HBox(children=(IntProgress(value=0, max=57), HTML(value='')))"
      ]
     },
     "metadata": {},
     "output_type": "display_data"
    },
    {
     "name": "stdout",
     "output_type": "stream",
     "text": [
      "\n",
      "train : 840, test : 296\n",
      "\n",
      "freezing backbone layers...\n",
      "After freezing, # of trainable params of a backbone layers : 0\n",
      "Load pretrained model from /data/GaitData/ckpt_dir/DefaultAGNet_MulticamFD@r2plus1d_18/model_fold-2.pth...\n",
      "Start Evaluation...\n"
     ]
    },
    {
     "data": {
      "application/vnd.jupyter.widget-view+json": {
       "model_id": "631ea5ad2ad0471ba80842a854cad1c4",
       "version_major": 2,
       "version_minor": 0
      },
      "text/plain": [
       "HBox(children=(IntProgress(value=0, max=57), HTML(value='')))"
      ]
     },
     "metadata": {},
     "output_type": "display_data"
    },
    {
     "name": "stdout",
     "output_type": "stream",
     "text": [
      "\n",
      "train : 864, test : 248\n",
      "\n",
      "freezing backbone layers...\n",
      "After freezing, # of trainable params of a backbone layers : 0\n",
      "Load pretrained model from /data/GaitData/ckpt_dir/DefaultAGNet_MulticamFD@r2plus1d_18/model_fold-3.pth...\n",
      "Start Evaluation...\n"
     ]
    },
    {
     "data": {
      "application/vnd.jupyter.widget-view+json": {
       "model_id": "8db69ce250d94bb28ca9e189a453798e",
       "version_major": 2,
       "version_minor": 0
      },
      "text/plain": [
       "HBox(children=(IntProgress(value=0, max=57), HTML(value='')))"
      ]
     },
     "metadata": {},
     "output_type": "display_data"
    },
    {
     "name": "stdout",
     "output_type": "stream",
     "text": [
      "\n",
      "train : 888, test : 96\n",
      "\n",
      "freezing backbone layers...\n",
      "After freezing, # of trainable params of a backbone layers : 0\n",
      "Load pretrained model from /data/GaitData/ckpt_dir/DefaultAGNet_MulticamFD@r2plus1d_18/model_fold-4.pth...\n",
      "Start Evaluation...\n"
     ]
    },
    {
     "data": {
      "application/vnd.jupyter.widget-view+json": {
       "model_id": "0c37a8e2362348c28c8843ca237f72b5",
       "version_major": 2,
       "version_minor": 0
      },
      "text/plain": [
       "HBox(children=(IntProgress(value=0, max=57), HTML(value='')))"
      ]
     },
     "metadata": {},
     "output_type": "display_data"
    },
    {
     "name": "stdout",
     "output_type": "stream",
     "text": [
      "\n",
      "train : 816, test : 256\n",
      "\n",
      "freezing backbone layers...\n",
      "After freezing, # of trainable params of a backbone layers : 0\n",
      "Load pretrained model from /data/GaitData/ckpt_dir/DefaultAGNet_MulticamFD@r2plus1d_18/model_fold-5.pth...\n",
      "Start Evaluation...\n"
     ]
    },
    {
     "data": {
      "application/vnd.jupyter.widget-view+json": {
       "model_id": "c6c17faf249d43759c7189da7542a9a0",
       "version_major": 2,
       "version_minor": 0
      },
      "text/plain": [
       "HBox(children=(IntProgress(value=0, max=57), HTML(value='')))"
      ]
     },
     "metadata": {},
     "output_type": "display_data"
    },
    {
     "name": "stdout",
     "output_type": "stream",
     "text": [
      "\n",
      "train : 888, test : 136\n",
      "\n",
      "freezing backbone layers...\n",
      "After freezing, # of trainable params of a backbone layers : 0\n",
      "Load pretrained model from /data/GaitData/ckpt_dir/DefaultAGNet_MulticamFD@r2plus1d_18/model_fold-6.pth...\n",
      "Start Evaluation...\n"
     ]
    },
    {
     "data": {
      "application/vnd.jupyter.widget-view+json": {
       "model_id": "98ff69c76a8449d3ba685e164ad4cd8e",
       "version_major": 2,
       "version_minor": 0
      },
      "text/plain": [
       "HBox(children=(IntProgress(value=0, max=57), HTML(value='')))"
      ]
     },
     "metadata": {},
     "output_type": "display_data"
    },
    {
     "name": "stdout",
     "output_type": "stream",
     "text": [
      "\n",
      "train : 880, test : 176\n",
      "\n",
      "freezing backbone layers...\n",
      "After freezing, # of trainable params of a backbone layers : 0\n",
      "Load pretrained model from /data/GaitData/ckpt_dir/DefaultAGNet_MulticamFD@r2plus1d_18/model_fold-7.pth...\n",
      "Start Evaluation...\n"
     ]
    },
    {
     "data": {
      "application/vnd.jupyter.widget-view+json": {
       "model_id": "fa685792176a46fa9abda1b3283cf32a",
       "version_major": 2,
       "version_minor": 0
      },
      "text/plain": [
       "HBox(children=(IntProgress(value=0, max=57), HTML(value='')))"
      ]
     },
     "metadata": {},
     "output_type": "display_data"
    },
    {
     "name": "stdout",
     "output_type": "stream",
     "text": [
      "\n",
      "train : 888, test : 160\n",
      "\n",
      "freezing backbone layers...\n",
      "After freezing, # of trainable params of a backbone layers : 0\n",
      "Load pretrained model from /data/GaitData/ckpt_dir/DefaultAGNet_MulticamFD@r2plus1d_18/model_fold-8.pth...\n",
      "Start Evaluation...\n"
     ]
    },
    {
     "data": {
      "application/vnd.jupyter.widget-view+json": {
       "model_id": "8e6af573441b4b28a1d811ba3524c3d0",
       "version_major": 2,
       "version_minor": 0
      },
      "text/plain": [
       "HBox(children=(IntProgress(value=0, max=57), HTML(value='')))"
      ]
     },
     "metadata": {},
     "output_type": "display_data"
    },
    {
     "name": "stdout",
     "output_type": "stream",
     "text": [
      "\n",
      "train : 888, test : 232\n",
      "\n",
      "freezing backbone layers...\n",
      "After freezing, # of trainable params of a backbone layers : 0\n",
      "Load pretrained model from /data/GaitData/ckpt_dir/DefaultAGNet_MulticamFD@r2plus1d_18/model_fold-9.pth...\n",
      "Start Evaluation...\n"
     ]
    },
    {
     "data": {
      "application/vnd.jupyter.widget-view+json": {
       "model_id": "ec72cc1697204c8596c4f14b25cf87d0",
       "version_major": 2,
       "version_minor": 0
      },
      "text/plain": [
       "HBox(children=(IntProgress(value=0, max=57), HTML(value='')))"
      ]
     },
     "metadata": {},
     "output_type": "display_data"
    },
    {
     "name": "stdout",
     "output_type": "stream",
     "text": [
      "\n",
      "train : 888, test : 200\n",
      "\n",
      "freezing backbone layers...\n",
      "After freezing, # of trainable params of a backbone layers : 0\n",
      "Load pretrained model from /data/GaitData/ckpt_dir/DefaultAGNet_MulticamFD@r2plus1d_18/model_fold-10.pth...\n",
      "Start Evaluation...\n"
     ]
    },
    {
     "data": {
      "application/vnd.jupyter.widget-view+json": {
       "model_id": "fcffe1413b4a4f75b0e9c0cb7ee0f542",
       "version_major": 2,
       "version_minor": 0
      },
      "text/plain": [
       "HBox(children=(IntProgress(value=0, max=57), HTML(value='')))"
      ]
     },
     "metadata": {},
     "output_type": "display_data"
    },
    {
     "name": "stdout",
     "output_type": "stream",
     "text": [
      "\n",
      "train : 880, test : 192\n",
      "\n",
      "freezing backbone layers...\n",
      "After freezing, # of trainable params of a backbone layers : 0\n",
      "Load pretrained model from /data/GaitData/ckpt_dir/DefaultAGNet_MulticamFD@r2plus1d_18/model_fold-11.pth...\n",
      "Start Evaluation...\n"
     ]
    },
    {
     "data": {
      "application/vnd.jupyter.widget-view+json": {
       "model_id": "0f510991823c477c8b921594f8e50804",
       "version_major": 2,
       "version_minor": 0
      },
      "text/plain": [
       "HBox(children=(IntProgress(value=0, max=57), HTML(value='')))"
      ]
     },
     "metadata": {},
     "output_type": "display_data"
    },
    {
     "name": "stdout",
     "output_type": "stream",
     "text": [
      "\n",
      "train : 888, test : 72\n",
      "\n",
      "freezing backbone layers...\n",
      "After freezing, # of trainable params of a backbone layers : 0\n",
      "Load pretrained model from /data/GaitData/ckpt_dir/DefaultAGNet_MulticamFD@r2plus1d_18/model_fold-12.pth...\n",
      "Start Evaluation...\n"
     ]
    },
    {
     "data": {
      "application/vnd.jupyter.widget-view+json": {
       "model_id": "c943a9c570e343a3bf190ee68368c08f",
       "version_major": 2,
       "version_minor": 0
      },
      "text/plain": [
       "HBox(children=(IntProgress(value=0, max=57), HTML(value='')))"
      ]
     },
     "metadata": {},
     "output_type": "display_data"
    },
    {
     "name": "stdout",
     "output_type": "stream",
     "text": [
      "\n",
      "train : 816, test : 256\n",
      "\n",
      "freezing backbone layers...\n",
      "After freezing, # of trainable params of a backbone layers : 0\n",
      "Load pretrained model from /data/GaitData/ckpt_dir/DefaultAGNet_MulticamFD@r2plus1d_18/model_fold-13.pth...\n",
      "Start Evaluation...\n"
     ]
    },
    {
     "data": {
      "application/vnd.jupyter.widget-view+json": {
       "model_id": "8c58a16c56664d45bcc7689b1505ce3c",
       "version_major": 2,
       "version_minor": 0
      },
      "text/plain": [
       "HBox(children=(IntProgress(value=0, max=57), HTML(value='')))"
      ]
     },
     "metadata": {},
     "output_type": "display_data"
    },
    {
     "name": "stdout",
     "output_type": "stream",
     "text": [
      "\n",
      "train : 888, test : 192\n",
      "\n",
      "freezing backbone layers...\n",
      "After freezing, # of trainable params of a backbone layers : 0\n",
      "Load pretrained model from /data/GaitData/ckpt_dir/DefaultAGNet_MulticamFD@r2plus1d_18/model_fold-14.pth...\n",
      "Start Evaluation...\n"
     ]
    },
    {
     "data": {
      "application/vnd.jupyter.widget-view+json": {
       "model_id": "1465da7e2b0b4134b914ba5ff1940758",
       "version_major": 2,
       "version_minor": 0
      },
      "text/plain": [
       "HBox(children=(IntProgress(value=0, max=57), HTML(value='')))"
      ]
     },
     "metadata": {},
     "output_type": "display_data"
    },
    {
     "name": "stdout",
     "output_type": "stream",
     "text": [
      "\n",
      "train : 864, test : 296\n",
      "\n",
      "freezing backbone layers...\n",
      "After freezing, # of trainable params of a backbone layers : 0\n",
      "Load pretrained model from /data/GaitData/ckpt_dir/DefaultAGNet_MulticamFD@r2plus1d_18/model_fold-15.pth...\n",
      "Start Evaluation...\n"
     ]
    },
    {
     "data": {
      "application/vnd.jupyter.widget-view+json": {
       "model_id": "ac39b111d5ff47f184f4abad984ea1e7",
       "version_major": 2,
       "version_minor": 0
      },
      "text/plain": [
       "HBox(children=(IntProgress(value=0, max=57), HTML(value='')))"
      ]
     },
     "metadata": {},
     "output_type": "display_data"
    },
    {
     "name": "stdout",
     "output_type": "stream",
     "text": [
      "\n",
      "train : 864, test : 232\n",
      "\n",
      "freezing backbone layers...\n",
      "After freezing, # of trainable params of a backbone layers : 0\n",
      "Load pretrained model from /data/GaitData/ckpt_dir/DefaultAGNet_MulticamFD@r2plus1d_18/model_fold-16.pth...\n",
      "Start Evaluation...\n"
     ]
    },
    {
     "data": {
      "application/vnd.jupyter.widget-view+json": {
       "model_id": "eaa4416115b64762964df6d2dd47542b",
       "version_major": 2,
       "version_minor": 0
      },
      "text/plain": [
       "HBox(children=(IntProgress(value=0, max=57), HTML(value='')))"
      ]
     },
     "metadata": {},
     "output_type": "display_data"
    },
    {
     "name": "stdout",
     "output_type": "stream",
     "text": [
      "\n",
      "train : 888, test : 200\n",
      "\n",
      "freezing backbone layers...\n",
      "After freezing, # of trainable params of a backbone layers : 0\n",
      "Load pretrained model from /data/GaitData/ckpt_dir/DefaultAGNet_MulticamFD@r2plus1d_18/model_fold-17.pth...\n",
      "Start Evaluation...\n"
     ]
    },
    {
     "data": {
      "application/vnd.jupyter.widget-view+json": {
       "model_id": "cebabb0db33c46ad8c9228f33b4044de",
       "version_major": 2,
       "version_minor": 0
      },
      "text/plain": [
       "HBox(children=(IntProgress(value=0, max=57), HTML(value='')))"
      ]
     },
     "metadata": {},
     "output_type": "display_data"
    },
    {
     "name": "stdout",
     "output_type": "stream",
     "text": [
      "\n",
      "train : 864, test : 208\n",
      "\n",
      "freezing backbone layers...\n",
      "After freezing, # of trainable params of a backbone layers : 0\n",
      "Load pretrained model from /data/GaitData/ckpt_dir/DefaultAGNet_MulticamFD@r2plus1d_18/model_fold-18.pth...\n",
      "Start Evaluation...\n"
     ]
    },
    {
     "data": {
      "application/vnd.jupyter.widget-view+json": {
       "model_id": "79796d14eb254cd099a4ddb4248df804",
       "version_major": 2,
       "version_minor": 0
      },
      "text/plain": [
       "HBox(children=(IntProgress(value=0, max=57), HTML(value='')))"
      ]
     },
     "metadata": {},
     "output_type": "display_data"
    },
    {
     "name": "stdout",
     "output_type": "stream",
     "text": [
      "\n",
      "train : 888, test : 248\n",
      "\n",
      "freezing backbone layers...\n",
      "After freezing, # of trainable params of a backbone layers : 0\n",
      "Load pretrained model from /data/GaitData/ckpt_dir/DefaultAGNet_MulticamFD@r2plus1d_18/model_fold-19.pth...\n",
      "Start Evaluation...\n"
     ]
    },
    {
     "data": {
      "application/vnd.jupyter.widget-view+json": {
       "model_id": "dc0899f0f77d449183014b9c9e3c018b",
       "version_major": 2,
       "version_minor": 0
      },
      "text/plain": [
       "HBox(children=(IntProgress(value=0, max=57), HTML(value='')))"
      ]
     },
     "metadata": {},
     "output_type": "display_data"
    },
    {
     "name": "stdout",
     "output_type": "stream",
     "text": [
      "\n",
      "train : 864, test : 280\n",
      "\n",
      "freezing backbone layers...\n",
      "After freezing, # of trainable params of a backbone layers : 0\n",
      "Load pretrained model from /data/GaitData/ckpt_dir/DefaultAGNet_MulticamFD@r2plus1d_18/model_fold-20.pth...\n",
      "Start Evaluation...\n"
     ]
    },
    {
     "data": {
      "application/vnd.jupyter.widget-view+json": {
       "model_id": "4b036fcc34a74e2886fa75b3d0eb8f97",
       "version_major": 2,
       "version_minor": 0
      },
      "text/plain": [
       "HBox(children=(IntProgress(value=0, max=57), HTML(value='')))"
      ]
     },
     "metadata": {},
     "output_type": "display_data"
    },
    {
     "name": "stdout",
     "output_type": "stream",
     "text": [
      "\n",
      "train : 888, test : 104\n",
      "\n",
      "freezing backbone layers...\n",
      "After freezing, # of trainable params of a backbone layers : 0\n",
      "Load pretrained model from /data/GaitData/ckpt_dir/DefaultAGNet_MulticamFD@r2plus1d_18/model_fold-21.pth...\n",
      "Start Evaluation...\n"
     ]
    },
    {
     "data": {
      "application/vnd.jupyter.widget-view+json": {
       "model_id": "303f51cb5c314860924e03caaf59ba94",
       "version_major": 2,
       "version_minor": 0
      },
      "text/plain": [
       "HBox(children=(IntProgress(value=0, max=57), HTML(value='')))"
      ]
     },
     "metadata": {},
     "output_type": "display_data"
    },
    {
     "name": "stdout",
     "output_type": "stream",
     "text": [
      "\n",
      "train : 864, test : 192\n",
      "\n",
      "freezing backbone layers...\n",
      "After freezing, # of trainable params of a backbone layers : 0\n",
      "Load pretrained model from /data/GaitData/ckpt_dir/DefaultAGNet_MulticamFD@r2plus1d_18/model_fold-22.pth...\n",
      "Start Evaluation...\n"
     ]
    }
   ],
   "source": [
    "res = []\n",
    "for fold in range(1, opt.n_folds+1):\n",
    "    # Load data\n",
    "    train_loader, test_loader, target_transform, n_outputs = get_data_loader(\n",
    "            opt, fold=fold)\n",
    "\n",
    "    # Init model\n",
    "    model = generate_network(opt, n_outputs=n_outputs, target_transform=target_transform)\n",
    "\n",
    "    # Define NeuralNetwork Wrapper Class\n",
    "    net = utils.engine.VideoClassifier(model, optimizer=None)\n",
    "    \n",
    "    mpath = os.path.join(opt.ckpt_dir, opt.model_indicator) + '/' + 'model_fold-{}.pth'.format(fold)\n",
    "    \n",
    "    res.append(net.test(test_loader, \n",
    "                        metrics={\n",
    "        'f1-score': (lambda y_true, y_pred: sklearn.metrics.f1_score(y_true, y_pred), False),\n",
    "        'accuray': (lambda y_true, y_pred: sklearn.metrics.accuracy_score(y_true, y_pred), False),\n",
    "        'roc_auc': (lambda y_true, y_score: sklearn.metrics.roc_auc_score(y_true, y_score), True),\n",
    "        'ap': (lambda y_true, y_score: sklearn.metrics.average_precision_score(y_true, y_score), True),\n",
    "        # custom callbacks\n",
    "        'sensitivity': (lambda y_true, y_pred: sklearn.metrics.recall_score(y_true, y_pred, pos_label=1), False),\n",
    "        'specificity': (lambda y_true, y_pred: sklearn.metrics.recall_score(y_true, y_pred, pos_label=0), False),\n",
    "        'precision': (lambda y_true, y_pred: sklearn.metrics.precision_score(y_true, y_pred, pos_label=1), False)\n",
    "    },\n",
    "                        multiple_clip=opt.multiple_clip, \n",
    "             pretrained_path=mpath))"
   ]
  },
  {
   "cell_type": "code",
   "execution_count": 25,
   "metadata": {
    "scrolled": true
   },
   "outputs": [
    {
     "name": "stdout",
     "output_type": "stream",
     "text": [
      "DefaultAGNet\n",
      "################################\n",
      "f1-score : 0.8863909298723395\n",
      "ap : 0.9169159694151445\n",
      "sensitivity : 0.8656655848026276\n",
      "specificity : 0.9927129637111317\n",
      "roc_auc : 0.9746702557260339\n",
      "accuray : 0.9805426028641787\n",
      "precision : 0.9290312718261372\n",
      "clip-loss :  0.1006773930593309\n"
     ]
    }
   ],
   "source": [
    "print(opt.model_arch)\n",
    "print('#'*32)\n",
    "for name in ['f1-score', 'ap', 'sensitivity', 'specificity', 'roc_auc', 'accuray', 'precision']:\n",
    "    print(name, ':', np.mean([ x[1]['clip']['clip_{}'.format(name)] for x in res ]))\n",
    "print('clip-loss : ', np.mean([ x[0]['clip'] for x in res ] ))"
   ]
  },
  {
   "cell_type": "code",
   "execution_count": 60,
   "metadata": {},
   "outputs": [
    {
     "data": {
      "text/plain": [
       "torch.Size([3, 16, 112, 112])"
      ]
     },
     "execution_count": 60,
     "metadata": {},
     "output_type": "execute_result"
    }
   ],
   "source": [
    "video, masks, *_ = train_loader.dataset[0]\n",
    "video.shape"
   ]
  },
  {
   "cell_type": "code",
   "execution_count": 61,
   "metadata": {},
   "outputs": [
    {
     "data": {
      "text/plain": [
       "torch.Size([1, 16, 112, 112])"
      ]
     },
     "execution_count": 61,
     "metadata": {},
     "output_type": "execute_result"
    }
   ],
   "source": [
    "masks.shape"
   ]
  },
  {
   "cell_type": "code",
   "execution_count": 62,
   "metadata": {},
   "outputs": [
    {
     "data": {
      "text/plain": [
       "torch.Size([1, 52, 112, 112])"
      ]
     },
     "execution_count": 62,
     "metadata": {},
     "output_type": "execute_result"
    }
   ],
   "source": [
    "import torch.nn.functional as F\n",
    "maxlen = 52\n",
    "nframes = video.size(1)\n",
    "pad = (0, 0,)*(video.dim()-2) + \\\n",
    "            (0, maxlen-nframes)\n",
    "\n",
    "# zero-pad\n",
    "masks = F.pad(masks, pad)\n",
    "masks.shape"
   ]
  },
  {
   "cell_type": "code",
   "execution_count": 53,
   "metadata": {},
   "outputs": [
    {
     "data": {
      "text/plain": [
       "torch.Size([3, 32, 112, 112])"
      ]
     },
     "execution_count": 53,
     "metadata": {},
     "output_type": "execute_result"
    }
   ],
   "source": [
    "F.pad(video, (0,0, 0,0, 0,16)).shape"
   ]
  },
  {
   "cell_type": "code",
   "execution_count": 35,
   "metadata": {},
   "outputs": [
    {
     "name": "stderr",
     "output_type": "stream",
     "text": [
      "100%|██████████| 12/12 [00:12<00:00,  1.34s/it]\n"
     ]
    }
   ],
   "source": [
    "from tqdm import tqdm\n",
    "labels = []\n",
    "for batch in tqdm(test_loader):\n",
    "    _,_, lab, *_ = batch\n",
    "    labels += lab.tolist()"
   ]
  },
  {
   "cell_type": "code",
   "execution_count": 36,
   "metadata": {},
   "outputs": [
    {
     "data": {
      "text/plain": [
       "(array([0, 1]), array([184,   8]))"
      ]
     },
     "execution_count": 36,
     "metadata": {},
     "output_type": "execute_result"
    }
   ],
   "source": [
    "np.unique(labels, return_counts=True)"
   ]
  },
  {
   "cell_type": "code",
   "execution_count": null,
   "metadata": {},
   "outputs": [],
   "source": [
    "# TripletAGNet\n",
    "# ################################\n",
    "# f1-score : 0.8886189623312517\n",
    "# ap : 0.9239796481349252\n",
    "# sensitivity : 0.8927218616008759\n",
    "# specificity : 0.9907605675133792\n",
    "# roc_auc : 0.9771349619735371\n",
    "# accuray : 0.9816639016975056\n",
    "\n",
    "# TripletAGNet (new)\n",
    "# ################################\n",
    "# f1-score : 0.8791041645136747\n",
    "# ap : 0.9094617935744199\n",
    "# sensitivity : 0.8756764043461193\n",
    "# specificity : 0.9906228482723236\n",
    "# roc_auc : 0.9721098460934379\n",
    "# accuray : 0.9805201481689106\n",
    "# precision : 0.9098273136399009\n"
   ]
  },
  {
   "cell_type": "code",
   "execution_count": null,
   "metadata": {},
   "outputs": [],
   "source": [
    "# FineTunedConvNet\n",
    "# ################################\n",
    "# f1-score : 0.8995978633562723\n",
    "# ap : 0.929789231883155\n",
    "# sensitivity : 0.8733465605311923\n",
    "# specificity : 0.9942724704742432\n",
    "# roc_auc : 0.9879426625039842\n",
    "# accuray : 0.9849691655900743\n",
    "\n",
    "# FineTunedConvNet (new)\n",
    "# ################################\n",
    "# f1-score : 0.8836251714012839\n",
    "# ap : 0.9171967777338895\n",
    "# sensitivity : 0.8938041139732708\n",
    "# specificity : 0.9896703687581149\n",
    "# roc_auc : 0.9816999652168967\n",
    "# accuray : 0.9820064929398623\n",
    "# precision : 0.8892490294846621\n",
    "\n",
    "# FineTunedConvNet (lastest)\n",
    "# ################################\n",
    "# f1-score : 0.8739519336006858\n",
    "# ap : 0.907070899551565\n",
    "# sensitivity : 0.8663419918580488\n",
    "# specificity : 0.9894266778772528\n",
    "# roc_auc : 0.9741257591681047\n",
    "# accuray : 0.9793224524367939\n",
    "# precision : 0.9011967398903586\n",
    "# clip-loss :  0.09922439842061563"
   ]
  },
  {
   "cell_type": "code",
   "execution_count": null,
   "metadata": {},
   "outputs": [],
   "source": [
    "# DefaultAGNet\n",
    "# ################################\n",
    "# f1-score : 0.8857661431485956\n",
    "# ap : 0.9206784150817178\n",
    "# sensitivity : 0.8978625563057986\n",
    "# specificity : 0.9887633973901923\n",
    "# roc_auc : 0.9823689271103252\n",
    "# accuray : 0.9809909896417097\n",
    "\n",
    "# DefaultAGNet (new)\n",
    "# ################################\n",
    "# f1-score : 0.8974748416380449\n",
    "# ap : 0.9255893691019579\n",
    "# sensitivity : 0.8938041139732708\n",
    "# specificity : 0.9918434728275646\n",
    "# roc_auc : 0.9794890094887126\n",
    "# accuray : 0.9835794134573503\n",
    "# precision : 0.914643561298197\n",
    "# clip-loss : 0.08843961898343299\n",
    "\n",
    "# DefaultAGNet (latest)\n",
    "# ################################\n",
    "# f1-score : 0.8863909298723395\n",
    "# ap : 0.9169159694151445\n",
    "# sensitivity : 0.8656655848026276\n",
    "# specificity : 0.9927129637111317\n",
    "# roc_auc : 0.9746702557260339\n",
    "# accuray : 0.9805426028641787\n",
    "# precision : 0.9290312718261372\n",
    "# clip-loss :  0.1006773930593309\n"
   ]
  },
  {
   "cell_type": "code",
   "execution_count": null,
   "metadata": {},
   "outputs": [],
   "source": [
    "# FineTuned\n",
    "[({'clip': 0.09274008870124817},\n",
    "  {'clip': {'clip_f1-score': 0.8125,\n",
    "    'clip_accuray': 0.9825581312179565,\n",
    "    'clip_roc_auc': 0.9830411672592163,\n",
    "    'clip_ap': 0.850435197353363,\n",
    "    'clip_sensitivity': 0.8125,\n",
    "    'clip_specificity': 0.9908536672592163}},\n",
    "  ['clip'])]"
   ]
  },
  {
   "cell_type": "code",
   "execution_count": null,
   "metadata": {},
   "outputs": [],
   "source": [
    "# Triplet\n",
    "[({'clip': 0.07548850774765015},\n",
    "  {'clip': {'clip_f1-score': 0.8205128312110901,\n",
    "    'clip_accuray': 0.979651153087616,\n",
    "    'clip_roc_auc': 0.9927591681480408,\n",
    "    'clip_ap': 0.8681272268295288,\n",
    "    'clip_sensitivity': 1.0,\n",
    "    'clip_specificity': 0.9786585569381714}},\n",
    "  ['clip'])]"
   ]
  },
  {
   "cell_type": "code",
   "execution_count": null,
   "metadata": {},
   "outputs": [],
   "source": [
    "# DefaultAGNet\n",
    "[({'clip': 0.10109958797693253},\n",
    "  {'clip': {'clip_f1-score': 0.7878788113594055,\n",
    "    'clip_accuray': 0.979651153087616,\n",
    "    'clip_roc_auc': 0.9668444991111755,\n",
    "    'clip_ap': 0.8226718902587891,\n",
    "    'clip_sensitivity': 0.8125,\n",
    "    'clip_specificity': 0.9878048896789551}},\n",
    "  ['clip'])]"
   ]
  },
  {
   "cell_type": "code",
   "execution_count": null,
   "metadata": {},
   "outputs": [],
   "source": [
    "test_batch = iter(test_loader).next()\n"
   ]
  },
  {
   "cell_type": "code",
   "execution_count": null,
   "metadata": {},
   "outputs": [],
   "source": [
    "len(test_batch)"
   ]
  },
  {
   "cell_type": "code",
   "execution_count": null,
   "metadata": {},
   "outputs": [],
   "source": [
    "import pandas as pd\n",
    "pd.DataFrame([ res[i][1]['video'] for i in range(opt.n_folds) ] ).mean()"
   ]
  },
  {
   "cell_type": "code",
   "execution_count": null,
   "metadata": {},
   "outputs": [],
   "source": [
    "import pandas as pd\n",
    "pd.DataFrame([ res[i][1]['clip'] for i in range(opt.n_folds) ] ).mean()"
   ]
  },
  {
   "cell_type": "code",
   "execution_count": null,
   "metadata": {},
   "outputs": [],
   "source": [
    "model = generate_network(opt, n_outputs=n_outputs, target_transform=target_transform)\n",
    "model"
   ]
  },
  {
   "cell_type": "code",
   "execution_count": null,
   "metadata": {},
   "outputs": [],
   "source": [
    "ls /data/GaitData/ckpt_dir/DefaultAGNet_MulticamFD@r2plus1d_18/"
   ]
  },
  {
   "cell_type": "code",
   "execution_count": null,
   "metadata": {},
   "outputs": [],
   "source": [
    "# sklearn.metrics.classification_report(out_history_cat.argmax(1).detach().cpu().numpy(), target_history_cat.detach().cpu().numpy())"
   ]
  },
  {
   "cell_type": "code",
   "execution_count": null,
   "metadata": {},
   "outputs": [],
   "source": [
    "import os\n",
    "os.path.basename(os.path.join(opt.ckpt_dir, opt.model_indicator))"
   ]
  },
  {
   "cell_type": "code",
   "execution_count": null,
   "metadata": {},
   "outputs": [],
   "source": [
    "import torch\n",
    "y_true = torch.tensor([0, 0, 0,0, 0])\n",
    "y_pred = torch.tensor([1, 1, 1,0, 0])"
   ]
  },
  {
   "cell_type": "code",
   "execution_count": null,
   "metadata": {},
   "outputs": [],
   "source": [
    "# sensitivity\n",
    "np.logical_and(y_true==1, y_pred == 1).sum() / (y_true==1).sum()"
   ]
  },
  {
   "cell_type": "code",
   "execution_count": null,
   "metadata": {},
   "outputs": [],
   "source": [
    "# specificity\n",
    "np.logical_and(y_true==0, y_pred == 0).sum() / (y_true==0).sum()"
   ]
  },
  {
   "cell_type": "code",
   "execution_count": null,
   "metadata": {},
   "outputs": [],
   "source": [
    "print(sklearn.metrics.classification_report(y_true, y_pred))"
   ]
  },
  {
   "cell_type": "code",
   "execution_count": null,
   "metadata": {},
   "outputs": [],
   "source": [
    "len(y_true.unique())"
   ]
  },
  {
   "cell_type": "code",
   "execution_count": null,
   "metadata": {},
   "outputs": [],
   "source": [
    "class MyModel(nn.Module):\n",
    "    def __init__(self):\n",
    "        super(MyModel, self).__init__()\n",
    "        self.m = nn.Linear(10, 2)\n",
    "        \n",
    "    def set_p(self, p):\n",
    "        self.p = p\n",
    "    \n",
    "    def forward(self, x):\n",
    "        x = self.m(x)\n",
    "        x = self.p(x)\n",
    "        \n",
    "        return x"
   ]
  },
  {
   "cell_type": "code",
   "execution_count": null,
   "metadata": {},
   "outputs": [],
   "source": [
    "m = MyModel()\n",
    "m"
   ]
  },
  {
   "cell_type": "code",
   "execution_count": null,
   "metadata": {},
   "outputs": [],
   "source": [
    "m.set_p(nn.Linear(2,1))"
   ]
  },
  {
   "cell_type": "code",
   "execution_count": null,
   "metadata": {},
   "outputs": [],
   "source": [
    "m(torch.randn(3,10))"
   ]
  },
  {
   "cell_type": "code",
   "execution_count": null,
   "metadata": {},
   "outputs": [],
   "source": []
  }
 ],
 "metadata": {
  "kernelspec": {
   "display_name": "Python 3",
   "language": "python",
   "name": "python3"
  },
  "language_info": {
   "codemirror_mode": {
    "name": "ipython",
    "version": 3
   },
   "file_extension": ".py",
   "mimetype": "text/x-python",
   "name": "python",
   "nbconvert_exporter": "python",
   "pygments_lexer": "ipython3",
   "version": "3.6.8"
  }
 },
 "nbformat": 4,
 "nbformat_minor": 2
}

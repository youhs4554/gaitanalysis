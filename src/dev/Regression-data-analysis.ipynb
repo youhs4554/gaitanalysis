{
 "cells": [
  {
   "cell_type": "code",
   "execution_count": null,
   "metadata": {},
   "outputs": [],
   "source": [
    "%matplotlib inline\n",
    "\n",
    "import numpy as np\n",
    "import pandas as pd\n",
    "import matplotlib.pyplot as plt\n",
    "import json\n",
    "from IPython.core.debugger import set_trace"
   ]
  },
  {
   "cell_type": "code",
   "execution_count": null,
   "metadata": {},
   "outputs": [],
   "source": [
    "import torchvision\n",
    "import torch\n",
    "from torch import nn\n",
    "import cv2"
   ]
  },
  {
   "cell_type": "code",
   "execution_count": null,
   "metadata": {},
   "outputs": [],
   "source": [
    "model = torch.load('./resnext-101-kinetics-ucf101_split1.pth')"
   ]
  },
  {
   "cell_type": "code",
   "execution_count": null,
   "metadata": {},
   "outputs": [],
   "source": [
    "model"
   ]
  },
  {
   "cell_type": "code",
   "execution_count": null,
   "metadata": {},
   "outputs": [],
   "source": [
    "from params import *\n",
    "path = '/data/GaitData/CroppedFrameArrays/7026976_test_0_trial_0.npy'\n",
    "frames = np.load(path)"
   ]
  },
  {
   "cell_type": "code",
   "execution_count": null,
   "metadata": {},
   "outputs": [],
   "source": [
    "frame = frames[10]\n",
    "model_conv = torchvision.models.resnet101(pretrained=True)\n",
    "modules = nn.Sequential(*list(model_conv.children())[:-2])\n",
    "res = modules(torch.from_numpy(cv2.resize(frame, (128,384)).transpose(2,0,1)[None,:,:,:].astype(np.float32)/255))\n",
    "\n",
    "plt.imshow(cv2.resize(frame, (128,384))); plt.show()\n",
    "plt.imshow(cv2.resize(res[0].mean(0).detach().numpy(),(128,384) )); plt.show()"
   ]
  },
  {
   "cell_type": "code",
   "execution_count": null,
   "metadata": {
    "scrolled": false
   },
   "outputs": [],
   "source": [
    "import cv2\n",
    "import os\n",
    "for i in range(len(os.listdir('./feats_viz'))): \n",
    "    plt.imshow(np.mean([cv2.cvtColor(cv2.imread(os.path.join('feats_viz',f)),cv2.COLOR_BGR2RGB) for f in os.listdir('./feats_viz')[:i+1]],0)/255); \n",
    "    plt.show()"
   ]
  },
  {
   "cell_type": "code",
   "execution_count": null,
   "metadata": {},
   "outputs": [],
   "source": [
    "from collections import defaultdict\n",
    "traj_data = json.load(open('./UDysRS_UPDRS_Export/LA_split_all_export.txt'))\n",
    "traj_data_dict = defaultdict(list)\n",
    "\n",
    "maxlen = 0\n",
    "for key, val in traj_data.items():\n",
    "    body_parts = sorted(val['position'].keys())\n",
    "    body_parts = list(x for x in body_parts if '_' in x)\n",
    "    \n",
    "    \n",
    "    body_dict = defaultdict(list)\n",
    "    for b in body_parts:\n",
    "        pure_name = b.split('_')[0]\n",
    "        body_dict[pure_name] += val['position'][b]\n",
    "    \n",
    "    position_vec = np.array(list(body_dict.values())).flatten()\n",
    "    if len(position_vec) > maxlen:\n",
    "        maxlen = len(position_vec)\n",
    "        \n",
    "    traj_data_dict['position'].append(  position_vec  )\n",
    "\n",
    "for i in range(len(traj_data_dict['position'])):\n",
    "    pos = traj_data_dict['position'][i].tolist()\n",
    "    traj_data_dict['position'][i] = np.array(pos + [ 0.0 ] * (maxlen-len(traj_data_dict['position'][i])))\n",
    "\n",
    "traj_df = pd.DataFrame(data=traj_data_dict, index=traj_data.keys())\n",
    "traj_df.index\n",
    "\n",
    "score_data = json.load(open('./UDysRS_UPDRS_Export/UPDRS.txt'))['Total']\n",
    "score_data_dict = {}\n",
    "score_data_dict['score'] = list(score_data.values())\n",
    "\n",
    "score_df = pd.DataFrame(data=score_data_dict, index=score_data.keys())\n",
    "len(score_df)\n",
    "\n",
    "traj_df = traj_df.loc[score_df.index].dropna()\n",
    "score_df = score_df.loc[traj_df.index].dropna()\n",
    "\n",
    "X =np.array(traj_df.position.values.tolist())\n",
    "y = score_df.score.values\n",
    "\n",
    "from sklearn.linear_model import LinearRegression\n",
    "from sklearn.model_selection import train_test_split\n",
    "from sklearn.ensemble import RandomForestRegressor\n",
    "\n",
    "X_train, X_test, y_train, y_test = train_test_split(X, y, test_size=0.33, random_state=42)\n",
    "lm = RandomForestRegressor(n_jobs=-1)\n",
    "lm.fit(X_train, y_train)\n",
    "y_pred = lm.predict(X_test)\n",
    "\n",
    "def MAE(y_true, y_pred):\n",
    "    return np.mean(np.abs(y_true-y_pred))\n",
    "def MSE(y_true, y_pred):\n",
    "    return np.mean( np.square(y_true-y_pred)  )\n",
    "def RMSLE(y_true, y_pred):\n",
    "    return np.mean( np.square(np.log(y_true+1)-np.log(y_pred+1)))\n",
    "\n",
    "print('MAE : ', MAE(y_test, y_pred))\n",
    "print('MSE : ', MSE(y_test, y_pred))\n",
    "print('RMSLE : ', RMSLE(y_test, y_pred))\n",
    "\n",
    "y_pred\n",
    "\n",
    "y_test\n",
    "\n",
    "np.abs(y_pred-y_test).mean()\n",
    "\n"
   ]
  },
  {
   "cell_type": "code",
   "execution_count": null,
   "metadata": {},
   "outputs": [],
   "source": [
    "import pandas as pd\n",
    "import matplotlib.pyplot as plt\n",
    "import numpy as np\n",
    "import os\n",
    "plt.ion()\n",
    "%matplotlib inline"
   ]
  },
  {
   "cell_type": "code",
   "execution_count": null,
   "metadata": {},
   "outputs": [],
   "source": [
    "file = '../../preprocess/data/targets_dataframe.pkl'"
   ]
  },
  {
   "cell_type": "code",
   "execution_count": null,
   "metadata": {},
   "outputs": [],
   "source": [
    "df = pd.read_pickle(file).iloc[:,:-2]\n",
    "df.head()"
   ]
  },
  {
   "cell_type": "code",
   "execution_count": null,
   "metadata": {},
   "outputs": [],
   "source": [
    "import seaborn as sns"
   ]
  },
  {
   "cell_type": "code",
   "execution_count": null,
   "metadata": {},
   "outputs": [],
   "source": [
    "fig, ax = plt.subplots(1, figsize=(15,15))\n",
    "corr = df.corr()\n",
    "sns.heatmap(corr, xticklabels=corr.columns, yticklabels=corr.columns, ax=ax, annot=True)"
   ]
  },
  {
   "cell_type": "code",
   "execution_count": null,
   "metadata": {},
   "outputs": [],
   "source": [
    "g = sns.PairGrid(df)\n",
    "g.map(plt.scatter)"
   ]
  },
  {
   "cell_type": "code",
   "execution_count": null,
   "metadata": {},
   "outputs": [],
   "source": [
    "plt.show()"
   ]
  },
  {
   "cell_type": "code",
   "execution_count": null,
   "metadata": {},
   "outputs": [],
   "source": [
    "plt.plot(sorted(np.abs(corr[\"Velocity\"].values)))"
   ]
  },
  {
   "cell_type": "code",
   "execution_count": null,
   "metadata": {},
   "outputs": [],
   "source": [
    "corr.columns"
   ]
  },
  {
   "cell_type": "code",
   "execution_count": null,
   "metadata": {},
   "outputs": [],
   "source": [
    "import matplotlib.ticker as plticker"
   ]
  },
  {
   "cell_type": "code",
   "execution_count": null,
   "metadata": {
    "scrolled": false
   },
   "outputs": [],
   "source": [
    "fig, axes = plt.subplots(len(corr.columns), figsize=(25,25))\n",
    "\n",
    "step = 1\n",
    "for ax,col in zip(axes,corr.columns):\n",
    "    values = np.abs(corr[col].values)\n",
    "    ixs = np.argsort(-values)\n",
    "    \n",
    "    names = corr.columns[ixs].values\n",
    "    values = values[ixs]\n",
    "    ax.plot(np.arange(step*len(ixs), step=step), values, '*-', linewidth=1)\n",
    "    loc = plticker.MultipleLocator(base=1.0) # this locator puts ticks at regular intervals\n",
    "    ax.xaxis.set_major_locator(loc)\n",
    "    xticks = list(ax.get_xticks())\n",
    "    for i in range(len(names)):\n",
    "        xticks[i] = names[i]\n",
    "        \n",
    "    xticks = [''] + xticks\n",
    "    ax.set_xticklabels(xticks,fontsize=8, rotation=15)\n",
    "\n",
    "    ax.set_title(col)\n",
    "    ax.set_ylabel('|correlation|')\n",
    "\n",
    "plt.tight_layout()\n"
   ]
  },
  {
   "cell_type": "code",
   "execution_count": null,
   "metadata": {},
   "outputs": [],
   "source": [
    "df_trans = df.T\n",
    "df_summary = df_trans.iloc[:3]\n",
    "df_pair = df_trans.iloc[3:]\n",
    "\n",
    "columns = [ s.split('/')[0] for s in df_pair.index.values ]\n",
    "\n",
    "new_colums = []\n",
    "for col in columns:\n",
    "    if col not in new_colums:\n",
    "        new_colums.append(col.strip())\n",
    "\n",
    "avged_data = {}\n",
    "odds, evens = np.arange(start=1, stop=len(df_pair),step=2), np.arange(start=0, stop=len(df_pair),step=2)\n",
    "for ix, (odd, even) in enumerate(zip(odds, evens)):\n",
    "    avged = np.mean([df_pair.iloc[odd], df_pair.iloc[even]], axis=0).T\n",
    "    name=df_pair.iloc[2*ix].name.split('/')[0].strip()\n",
    "    avged_data[name] = avged\n",
    "    \n",
    "df_pair_avg = pd.DataFrame(avged_data, index=df_pair.columns).T"
   ]
  },
  {
   "cell_type": "code",
   "execution_count": null,
   "metadata": {},
   "outputs": [],
   "source": [
    "df_summary.head()"
   ]
  },
  {
   "cell_type": "code",
   "execution_count": null,
   "metadata": {},
   "outputs": [],
   "source": [
    "df_pair_avg.head()"
   ]
  },
  {
   "cell_type": "code",
   "execution_count": null,
   "metadata": {},
   "outputs": [],
   "source": [
    "df_trans = pd.concat([df_summary, df_pair_avg])\n",
    "df_trans"
   ]
  },
  {
   "cell_type": "code",
   "execution_count": null,
   "metadata": {},
   "outputs": [],
   "source": [
    "df_trans.T.corr()"
   ]
  },
  {
   "cell_type": "code",
   "execution_count": null,
   "metadata": {},
   "outputs": [],
   "source": [
    "measurements = df_trans.values\n",
    "measurements.shape"
   ]
  },
  {
   "cell_type": "code",
   "execution_count": null,
   "metadata": {},
   "outputs": [],
   "source": [
    "C = np.cov(df_trans.values)\n",
    "C.shape"
   ]
  },
  {
   "cell_type": "code",
   "execution_count": null,
   "metadata": {},
   "outputs": [],
   "source": [
    "target_factors = df_trans.index.values.tolist()\n",
    "target_factors"
   ]
  },
  {
   "cell_type": "code",
   "execution_count": null,
   "metadata": {},
   "outputs": [],
   "source": [
    "target_factors = df_trans.index.values.tolist()\n",
    "target_factors.pop(target_factors.index('Toe In'))"
   ]
  },
  {
   "cell_type": "code",
   "execution_count": null,
   "metadata": {},
   "outputs": [],
   "source": [
    "np.random.seed(16); rand_ixs = np.random.permutation(len(target_factors))\n",
    "target_factors = np.array(target_factors)[rand_ixs].tolist()"
   ]
  },
  {
   "cell_type": "code",
   "execution_count": null,
   "metadata": {},
   "outputs": [],
   "source": [
    "target_factors"
   ]
  },
  {
   "cell_type": "code",
   "execution_count": null,
   "metadata": {},
   "outputs": [],
   "source": [
    "df_trans = df_trans.reindex(target_factors)\n",
    "df_trans"
   ]
  },
  {
   "cell_type": "code",
   "execution_count": null,
   "metadata": {},
   "outputs": [],
   "source": [
    "corr = df_trans.T.corr()\n",
    "sns.heatmap(corr, xticklabels=corr.columns, yticklabels=corr.columns, annot=True)"
   ]
  },
  {
   "cell_type": "code",
   "execution_count": null,
   "metadata": {},
   "outputs": [],
   "source": [
    "import numpy as np\n",
    "from matplotlib import pyplot as plt\n",
    "import math\n",
    "\n",
    "n_clusters = 3\n",
    "\n",
    "# (n_variables x n_sample)\n",
    "measurements = df_trans.values\n",
    "\n",
    "# This generates 100 variables that could possibly be assigned to 5 clusters\n",
    "n_variables, n_samples = measurements.shape\n",
    "\n",
    "\n",
    "# To keep this example simple, each cluster will have a fixed size\n",
    "cluster_size = n_variables // n_clusters\n",
    "\n",
    "C = df_trans.T.corr().values\n",
    "\n",
    "def score(C):\n",
    "    '''\n",
    "    Function to assign a score to an ordered covariance matrix.\n",
    "    High correlations within a cluster improve the score.\n",
    "    High correlations between clusters decease the score.\n",
    "    '''\n",
    "    score = 0\n",
    "    for cluster in range(n_clusters):\n",
    "        inside_cluster = np.arange(cluster_size) + cluster * cluster_size\n",
    "        outside_cluster = np.setdiff1d(range(n_variables), inside_cluster)\n",
    "\n",
    "        # Belonging to the same cluster\n",
    "        score += np.sum(C[inside_cluster, :][:, inside_cluster])\n",
    "\n",
    "        # Belonging to different clusters\n",
    "        score -= np.sum(C[inside_cluster, :][:, outside_cluster])\n",
    "        score -= np.sum(C[outside_cluster, :][:, inside_cluster])\n",
    "\n",
    "    return score\n",
    "\n",
    "\n",
    "initial_C = C\n",
    "initial_score = score(C)\n",
    "initial_ordering = np.arange(n_variables)\n",
    "\n",
    "plt.figure()\n",
    "plt.imshow(C, interpolation='nearest')\n",
    "plt.title('Initial C')\n",
    "print('Initial ordering:', [df_trans.index.values[i] for i in initial_ordering])\n",
    "print('Initial covariance matrix score:', initial_score)\n",
    "\n",
    "# Pretty dumb greedy optimization algorithm that continuously\n",
    "# swaps rows to improve the score\n",
    "def swap_rows(C, var1, var2):\n",
    "    '''\n",
    "    Function to swap two rows in a covariance matrix,\n",
    "    updating the appropriate columns as well.\n",
    "    '''\n",
    "    D = C.copy()\n",
    "    D[var2, :] = C[var1, :]\n",
    "    D[var1, :] = C[var2, :]\n",
    "\n",
    "    E = D.copy()\n",
    "    E[:, var2] = D[:, var1]\n",
    "    E[:, var1] = D[:, var2]\n",
    "\n",
    "    return E\n",
    "\n",
    "current_C = C\n",
    "current_ordering = initial_ordering\n",
    "current_score = initial_score\n",
    "\n",
    "max_iter = 2000\n",
    "for i in range(max_iter):\n",
    "    # Find the best row swap to make\n",
    "    best_C = current_C\n",
    "    best_ordering = current_ordering\n",
    "    best_score = current_score\n",
    "    for row1 in range(n_variables):\n",
    "        for row2 in range(n_variables):\n",
    "            if row1 == row2:\n",
    "                continue\n",
    "            option_ordering = best_ordering.copy()\n",
    "            option_ordering[row1] = best_ordering[row2]\n",
    "            option_ordering[row2] = best_ordering[row1]\n",
    "            option_C = swap_rows(best_C, row1, row2)\n",
    "            option_score = score(option_C)\n",
    "\n",
    "            if option_score > best_score:\n",
    "                best_C = option_C\n",
    "                best_ordering = option_ordering\n",
    "                best_score = option_score\n",
    "\n",
    "    if best_score > current_score:\n",
    "        # Perform the best row swap\n",
    "        current_C = best_C\n",
    "        current_ordering = best_ordering\n",
    "        current_score = best_score\n",
    "    else:\n",
    "        # No row swap found that improves the solution, we're done\n",
    "        break\n",
    "        \n",
    "# Output the result\n",
    "plt.figure()\n",
    "plt.imshow(current_C, interpolation='nearest')\n",
    "plt.title('Best C')\n",
    "print('Best ordering:', [df_trans.index.values[i] for i in current_ordering])\n",
    "print('Best score:', current_score)\n",
    "print()\n",
    "print('Cluster     [variables assigned to this cluster]')\n",
    "print('------------------------------------------------')\n",
    "\n",
    "import copy\n",
    "current_ordering = current_ordering.tolist()\n",
    "tmp = copy.copy(current_ordering)\n",
    "\n",
    "cluster = 0\n",
    "while 1:\n",
    "    start, end = cluster*cluster_size, (cluster+1)*cluster_size\n",
    "    print('Cluster %02d  %s' % (cluster + 1, [ df_trans.index.values[i] for i in current_ordering[start:end]]))\n",
    "    for e in current_ordering[start:end]:\n",
    "        tmp.pop(tmp.index(e))\n",
    "        \n",
    "    cluster += 1\n",
    "    if not tmp:\n",
    "        break"
   ]
  },
  {
   "cell_type": "code",
   "execution_count": null,
   "metadata": {},
   "outputs": [],
   "source": [
    "import numpy as np\n",
    "from matplotlib import pyplot as plt\n",
    "\n",
    "# This generates 100 variables that could possibly be assigned to 5 clusters\n",
    "n_variables = 100\n",
    "n_clusters = 5\n",
    "n_samples = 1000\n",
    "\n",
    "# To keep this example simple, each cluster will have a fixed size\n",
    "cluster_size = n_variables // n_clusters\n",
    "\n",
    "# Assign each variable to a cluster\n",
    "belongs_to_cluster = np.repeat(range(n_clusters), cluster_size)\n",
    "np.random.shuffle(belongs_to_cluster)\n",
    "\n",
    "# This latent data is used to make variables that belong\n",
    "# to the same cluster correlated.\n",
    "latent = np.random.randn(n_clusters, n_samples)\n",
    "\n",
    "variables = []\n",
    "for i in range(n_variables):\n",
    "    variables.append(\n",
    "        np.random.randn(n_samples) + latent[belongs_to_cluster[i], :]\n",
    "    )\n",
    "\n",
    "variables = np.array(variables)\n",
    "\n",
    "C = np.cov(variables)\n",
    "\n",
    "def score(C):\n",
    "    '''\n",
    "    Function to assign a score to an ordered covariance matrix.\n",
    "    High correlations within a cluster improve the score.\n",
    "    High correlations between clusters decease the score.\n",
    "    '''\n",
    "    score = 0\n",
    "    for cluster in range(n_clusters):\n",
    "        inside_cluster = np.arange(cluster_size) + cluster * cluster_size\n",
    "        outside_cluster = np.setdiff1d(range(n_variables), inside_cluster)\n",
    "\n",
    "        # Belonging to the same cluster\n",
    "        score += np.sum(C[inside_cluster, :][:, inside_cluster])\n",
    "\n",
    "        # Belonging to different clusters\n",
    "        score -= np.sum(C[inside_cluster, :][:, outside_cluster])\n",
    "        score -= np.sum(C[outside_cluster, :][:, inside_cluster])\n",
    "\n",
    "    return score\n",
    "\n",
    "\n",
    "initial_C = C\n",
    "initial_score = score(C)\n",
    "initial_ordering = np.arange(n_variables)\n",
    "\n",
    "plt.figure()\n",
    "plt.imshow(C, interpolation='nearest')\n",
    "plt.title('Initial C')\n",
    "print('Initial ordering:', initial_ordering)\n",
    "print('Initial covariance matrix score:', initial_score)\n",
    "\n",
    "# Pretty dumb greedy optimization algorithm that continuously\n",
    "# swaps rows to improve the score\n",
    "def swap_rows(C, var1, var2):\n",
    "    '''\n",
    "    Function to swap two rows in a covariance matrix,\n",
    "    updating the appropriate columns as well.\n",
    "    '''\n",
    "    D = C.copy()\n",
    "    D[var2, :] = C[var1, :]\n",
    "    D[var1, :] = C[var2, :]\n",
    "\n",
    "    E = D.copy()\n",
    "    E[:, var2] = D[:, var1]\n",
    "    E[:, var1] = D[:, var2]\n",
    "\n",
    "    return E\n",
    "\n",
    "current_C = C\n",
    "current_ordering = initial_ordering\n",
    "current_score = initial_score\n",
    "\n",
    "max_iter = 1000\n",
    "for i in range(max_iter):\n",
    "    # Find the best row swap to make\n",
    "    best_C = current_C\n",
    "    best_ordering = current_ordering\n",
    "    best_score = current_score\n",
    "    for row1 in range(n_variables):\n",
    "        for row2 in range(n_variables):\n",
    "            if row1 == row2:\n",
    "                continue\n",
    "            option_ordering = best_ordering.copy()\n",
    "            option_ordering[row1] = best_ordering[row2]\n",
    "            option_ordering[row2] = best_ordering[row1]\n",
    "            option_C = swap_rows(best_C, row1, row2)\n",
    "            option_score = score(option_C)\n",
    "\n",
    "            if option_score > best_score:\n",
    "                best_C = option_C\n",
    "                best_ordering = option_ordering\n",
    "                best_score = option_score\n",
    "\n",
    "    if best_score > current_score:\n",
    "        # Perform the best row swap\n",
    "        current_C = best_C\n",
    "        current_ordering = best_ordering\n",
    "        current_score = best_score\n",
    "    else:\n",
    "        # No row swap found that improves the solution, we're done\n",
    "        break\n",
    "\n",
    "# Output the result\n",
    "plt.figure()\n",
    "plt.imshow(current_C, interpolation='nearest')\n",
    "plt.title('Best C')\n",
    "print('Best ordering:', current_ordering)\n",
    "print('Best score:', current_score)\n",
    "print()\n",
    "print('Cluster     [variables assigned to this cluster]')\n",
    "print('------------------------------------------------')\n",
    "for cluster in range(n_clusters):\n",
    "    print('Cluster %02d  %s' % (cluster + 1, current_ordering[cluster*cluster_size:(cluster+1)*cluster_size]))"
   ]
  },
  {
   "cell_type": "code",
   "execution_count": null,
   "metadata": {},
   "outputs": [],
   "source": [
    "a = A()\n",
    "a.fuck()"
   ]
  },
  {
   "cell_type": "code",
   "execution_count": null,
   "metadata": {},
   "outputs": [],
   "source": [
    "import numpy as np\n",
    "import os\n",
    "import cv2\n",
    "import matplotlib.pyplot as plt"
   ]
  },
  {
   "cell_type": "code",
   "execution_count": null,
   "metadata": {},
   "outputs": [],
   "source": [
    "path = '/data/GaitData/CroppedFrameArrays/7026976_test_0_trial_3.npy'"
   ]
  },
  {
   "cell_type": "code",
   "execution_count": null,
   "metadata": {},
   "outputs": [],
   "source": [
    "arr = np.load(path)"
   ]
  },
  {
   "cell_type": "code",
   "execution_count": null,
   "metadata": {},
   "outputs": [],
   "source": [
    "arr.shape"
   ]
  },
  {
   "cell_type": "code",
   "execution_count": null,
   "metadata": {},
   "outputs": [],
   "source": [
    "for e in arr:\n",
    "    plt.imshow(cv2.cvtColor(e,cv2.COLOR_BGR2RGB))\n",
    "    plt.show()\n",
    "    "
   ]
  },
  {
   "cell_type": "code",
   "execution_count": null,
   "metadata": {},
   "outputs": [],
   "source": [
    "import pandas as pd\n",
    "file = '../../preprocess/data/targets_dataframe.pkl'"
   ]
  },
  {
   "cell_type": "code",
   "execution_count": null,
   "metadata": {},
   "outputs": [],
   "source": [
    "df = pd.read_pickle(file)"
   ]
  },
  {
   "cell_type": "code",
   "execution_count": null,
   "metadata": {},
   "outputs": [],
   "source": [
    "df.columns"
   ]
  },
  {
   "cell_type": "code",
   "execution_count": null,
   "metadata": {},
   "outputs": [],
   "source": [
    "import matplotlib.pyplot as plt\n",
    "from sklearn.preprocessing import StandardScaler, QuantileTransformer"
   ]
  },
  {
   "cell_type": "code",
   "execution_count": null,
   "metadata": {},
   "outputs": [],
   "source": [
    "scaler = QuantileTransformer(random_state=0, output_distribution='normal')\n",
    "scaled_X1 = scaler.fit_transform((df['Toe In / Out/R']).values[:, None])\n",
    "plt.hist(scaled_X1, bins=100)"
   ]
  },
  {
   "cell_type": "code",
   "execution_count": null,
   "metadata": {},
   "outputs": [],
   "source": [
    "scaler = QuantileTransformer(random_state=0, output_distribution='normal')\n",
    "scaled_X2 = scaler.fit_transform((df['Toe In / Out/R']+90).values[:, None])\n",
    "plt.hist(scaled_X2, bins=100)"
   ]
  },
  {
   "cell_type": "code",
   "execution_count": null,
   "metadata": {},
   "outputs": [],
   "source": [
    "import numpy as np\n",
    "np.where(scaled_X1 != scaled_X2)"
   ]
  },
  {
   "cell_type": "code",
   "execution_count": null,
   "metadata": {},
   "outputs": [],
   "source": [
    "scaled_X1[8]"
   ]
  },
  {
   "cell_type": "code",
   "execution_count": null,
   "metadata": {},
   "outputs": [],
   "source": [
    "scaled_X2[8]"
   ]
  },
  {
   "cell_type": "code",
   "execution_count": null,
   "metadata": {},
   "outputs": [],
   "source": [
    "df['Toe In / Out/R'] = df['Toe In / Out/R']+90"
   ]
  },
  {
   "cell_type": "code",
   "execution_count": null,
   "metadata": {},
   "outputs": [],
   "source": [
    "plt.hist(df['CV Stride Length/R'], bins=100)"
   ]
  },
  {
   "cell_type": "code",
   "execution_count": null,
   "metadata": {},
   "outputs": [],
   "source": [
    "df.columns"
   ]
  },
  {
   "cell_type": "code",
   "execution_count": null,
   "metadata": {},
   "outputs": [],
   "source": [
    "plt.hist(df['Swing % of Cycle/L'], bins=100)"
   ]
  },
  {
   "cell_type": "code",
   "execution_count": null,
   "metadata": {},
   "outputs": [],
   "source": [
    "df['Stance % of Cycle/L'][1]"
   ]
  },
  {
   "cell_type": "code",
   "execution_count": null,
   "metadata": {},
   "outputs": [],
   "source": [
    "df['Stance Time(sec)/L'][1]/df['Cycle Time(sec)/L'][1]"
   ]
  },
  {
   "cell_type": "code",
   "execution_count": null,
   "metadata": {},
   "outputs": [],
   "source": [
    "df['Stance % of Cycle/L'][0]"
   ]
  },
  {
   "cell_type": "code",
   "execution_count": null,
   "metadata": {},
   "outputs": [],
   "source": [
    "df['Stance Time(sec)/L'][0]/df['Cycle Time(sec)/L'][0]"
   ]
  },
  {
   "cell_type": "code",
   "execution_count": null,
   "metadata": {},
   "outputs": [],
   "source": [
    "df['Double Supp % Cycle/L'][1]"
   ]
  },
  {
   "cell_type": "code",
   "execution_count": null,
   "metadata": {},
   "outputs": [],
   "source": [
    "df['Double Supp. Time(sec)/L'][0]/df['Cycle Time(sec)/L'][0]"
   ]
  },
  {
   "cell_type": "code",
   "execution_count": null,
   "metadata": {},
   "outputs": [],
   "source": [
    "df['Stride Length Std Dev/L'][0]/df['Stride Length(cm)/L'][0]"
   ]
  },
  {
   "cell_type": "code",
   "execution_count": null,
   "metadata": {},
   "outputs": [],
   "source": [
    "plt.hist(df['Stride Length(cm)/L'], bins=100)"
   ]
  },
  {
   "cell_type": "code",
   "execution_count": null,
   "metadata": {},
   "outputs": [],
   "source": [
    "plt.hist(df['Stride Length Std Dev/L'], bins=100)"
   ]
  },
  {
   "cell_type": "code",
   "execution_count": null,
   "metadata": {},
   "outputs": [],
   "source": [
    "for i in range(10):\n",
    "    print(df['Stride Length(cm)/L'][i], df['Stride Length Std Dev/L'][i])"
   ]
  },
  {
   "cell_type": "code",
   "execution_count": null,
   "metadata": {},
   "outputs": [],
   "source": [
    "plt.scatter(df['Stride Length(cm)/L'].values, df['Stride Length Std Dev/L'])"
   ]
  },
  {
   "cell_type": "code",
   "execution_count": null,
   "metadata": {},
   "outputs": [],
   "source": [
    "df['Stride Length(cm)/L'][0]"
   ]
  },
  {
   "cell_type": "code",
   "execution_count": null,
   "metadata": {},
   "outputs": [],
   "source": [
    "df_X2 = df['Stride Length Std Dev/L']**2 + df['Stride Length(cm)/L']**2\n",
    "scaler = QuantileTransformer(random_state=0, output_distribution='normal')\n",
    "plt.hist(scaler.fit_transform(df_X2[:,None]), bins=100)"
   ]
  },
  {
   "cell_type": "code",
   "execution_count": null,
   "metadata": {},
   "outputs": [],
   "source": [
    "df_X2"
   ]
  },
  {
   "cell_type": "code",
   "execution_count": 115,
   "metadata": {},
   "outputs": [
    {
     "data": {
      "text/plain": [
       "0.00028900000000000003"
      ]
     },
     "execution_count": 115,
     "metadata": {},
     "output_type": "execute_result"
    }
   ],
   "source": [
    "import pandas as pd\n",
    "file = '../../preprocess/data/targets_dataframe.pkl'\n",
    "df = pd.read_pickle(file)\n",
    "df = df[~(df == 0).any(axis=1)]\n",
    "import numpy as np\n",
    "np.abs(df.values).min()"
   ]
  },
  {
   "cell_type": "code",
   "execution_count": 128,
   "metadata": {},
   "outputs": [],
   "source": [
    "from sklearn.preprocessing import QuantileTransformer, MinMaxScaler, StandardScaler\n",
    "from sklearn.pipeline import Pipeline\n",
    "import matplotlib.pyplot as plt"
   ]
  },
  {
   "cell_type": "code",
   "execution_count": 134,
   "metadata": {},
   "outputs": [],
   "source": [
    "scaler = StandardScaler()\n",
    "\n",
    "# scaler = Pipeline([\n",
    "#     ('qt', scaler),\n",
    "#     ('minmax', MinMaxScaler())\n",
    "# ])\n",
    "\n",
    "scaled_vals = scaler.fit_transform(df)"
   ]
  },
  {
   "cell_type": "code",
   "execution_count": 135,
   "metadata": {},
   "outputs": [
    {
     "data": {
      "text/plain": [
       "(array([  1.,   0.,   0.,   0.,   0.,   0.,   0.,   0.,   0.,   2.,   1.,\n",
       "          1.,   1.,   0.,   0.,   1.,   1.,   0.,   0.,   0.,   0.,   0.,\n",
       "          0.,   0.,   1.,   5.,   0.,   2.,   1.,   6.,   4.,  17.,  15.,\n",
       "         29.,  24.,  25.,  44.,  22.,  65.,  63.,  77., 101.,  94., 102.,\n",
       "        117., 141., 127., 131., 169., 172., 165., 141., 148., 154., 157.,\n",
       "        123., 132., 141., 120., 121., 104.,  83.,  80.,  96.,  75.,  51.,\n",
       "         62.,  31.,  20.,  23.,  22.,  13.,  17.,  11.,   8.,  10.,   5.,\n",
       "          9.,   4.,   4.,   6.,   3.,   1.,   4.,   3.,   4.,   1.,   2.,\n",
       "          0.,   2.,   0.,   1.,   0.,   0.,   1.,   0.,   0.,   1.,   1.,\n",
       "          1.]),\n",
       " array([-30.3  , -29.489, -28.678, -27.867, -27.056, -26.245, -25.434,\n",
       "        -24.623, -23.812, -23.001, -22.19 , -21.379, -20.568, -19.757,\n",
       "        -18.946, -18.135, -17.324, -16.513, -15.702, -14.891, -14.08 ,\n",
       "        -13.269, -12.458, -11.647, -10.836, -10.025,  -9.214,  -8.403,\n",
       "         -7.592,  -6.781,  -5.97 ,  -5.159,  -4.348,  -3.537,  -2.726,\n",
       "         -1.915,  -1.104,  -0.293,   0.518,   1.329,   2.14 ,   2.951,\n",
       "          3.762,   4.573,   5.384,   6.195,   7.006,   7.817,   8.628,\n",
       "          9.439,  10.25 ,  11.061,  11.872,  12.683,  13.494,  14.305,\n",
       "         15.116,  15.927,  16.738,  17.549,  18.36 ,  19.171,  19.982,\n",
       "         20.793,  21.604,  22.415,  23.226,  24.037,  24.848,  25.659,\n",
       "         26.47 ,  27.281,  28.092,  28.903,  29.714,  30.525,  31.336,\n",
       "         32.147,  32.958,  33.769,  34.58 ,  35.391,  36.202,  37.013,\n",
       "         37.824,  38.635,  39.446,  40.257,  41.068,  41.879,  42.69 ,\n",
       "         43.501,  44.312,  45.123,  45.934,  46.745,  47.556,  48.367,\n",
       "         49.178,  49.989,  50.8  ]),\n",
       " <a list of 100 Patch objects>)"
      ]
     },
     "execution_count": 135,
     "metadata": {},
     "output_type": "execute_result"
    },
    {
     "data": {
      "image/png": "[encoded data removed]",
      "text/plain": [
       "<Figure size 432x288 with 1 Axes>"
      ]
     },
     "metadata": {
      "needs_background": "light"
     },
     "output_type": "display_data"
    }
   ],
   "source": [
    "plt.hist(df.values[:, 16], bins=100)"
   ]
  },
  {
   "cell_type": "code",
   "execution_count": 136,
   "metadata": {},
   "outputs": [
    {
     "data": {
      "text/plain": [
       "(array([  1.,   0.,   0.,   0.,   0.,   0.,   0.,   0.,   0.,   2.,   1.,\n",
       "          1.,   1.,   0.,   0.,   1.,   1.,   0.,   0.,   0.,   0.,   0.,\n",
       "          0.,   0.,   1.,   5.,   0.,   2.,   1.,   6.,   4.,  17.,  15.,\n",
       "         29.,  24.,  25.,  44.,  22.,  65.,  63.,  77., 101.,  94., 102.,\n",
       "        117., 141., 127., 131., 169., 172., 165., 141., 148., 154., 157.,\n",
       "        123., 132., 141., 120., 121., 104.,  83.,  80.,  96.,  75.,  51.,\n",
       "         62.,  31.,  20.,  23.,  22.,  13.,  17.,  11.,   8.,  10.,   5.,\n",
       "          9.,   4.,   4.,   6.,   3.,   1.,   4.,   3.,   4.,   1.,   2.,\n",
       "          0.,   2.,   0.,   1.,   0.,   0.,   1.,   0.,   0.,   1.,   1.,\n",
       "          1.]),\n",
       " array([-5.36264722, -5.26017612, -5.15770502, -5.05523392, -4.95276282,\n",
       "        -4.85029172, -4.74782062, -4.64534952, -4.54287842, -4.44040732,\n",
       "        -4.33793622, -4.23546512, -4.13299402, -4.03052292, -3.92805182,\n",
       "        -3.82558072, -3.72310962, -3.62063852, -3.51816742, -3.41569632,\n",
       "        -3.31322522, -3.21075412, -3.10828302, -3.00581192, -2.90334082,\n",
       "        -2.80086972, -2.69839862, -2.59592752, -2.49345641, -2.39098531,\n",
       "        -2.28851421, -2.18604311, -2.08357201, -1.98110091, -1.87862981,\n",
       "        -1.77615871, -1.67368761, -1.57121651, -1.46874541, -1.36627431,\n",
       "        -1.26380321, -1.16133211, -1.05886101, -0.95638991, -0.85391881,\n",
       "        -0.75144771, -0.64897661, -0.54650551, -0.44403441, -0.34156331,\n",
       "        -0.23909221, -0.13662111, -0.03415001,  0.06832109,  0.17079219,\n",
       "         0.27326329,  0.37573439,  0.47820549,  0.58067659,  0.68314769,\n",
       "         0.78561879,  0.88808989,  0.99056099,  1.09303209,  1.1955032 ,\n",
       "         1.2979743 ,  1.4004454 ,  1.5029165 ,  1.6053876 ,  1.7078587 ,\n",
       "         1.8103298 ,  1.9128009 ,  2.015272  ,  2.1177431 ,  2.2202142 ,\n",
       "         2.3226853 ,  2.4251564 ,  2.5276275 ,  2.6300986 ,  2.7325697 ,\n",
       "         2.8350408 ,  2.9375119 ,  3.039983  ,  3.1424541 ,  3.2449252 ,\n",
       "         3.3473963 ,  3.4498674 ,  3.5523385 ,  3.6548096 ,  3.7572807 ,\n",
       "         3.8597518 ,  3.9622229 ,  4.064694  ,  4.1671651 ,  4.2696362 ,\n",
       "         4.3721073 ,  4.4745784 ,  4.5770495 ,  4.6795206 ,  4.7819917 ,\n",
       "         4.88446281]),\n",
       " <a list of 100 Patch objects>)"
      ]
     },
     "execution_count": 136,
     "metadata": {},
     "output_type": "execute_result"
    },
    {
     "data": {
      "image/png": "[encoded data removed]",
      "text/plain": [
       "<Figure size 432x288 with 1 Axes>"
      ]
     },
     "metadata": {
      "needs_background": "light"
     },
     "output_type": "display_data"
    }
   ],
   "source": [
    "plt.hist(scaled_vals[:, 16], bins=100)"
   ]
  },
  {
   "cell_type": "code",
   "execution_count": 107,
   "metadata": {},
   "outputs": [
    {
     "data": {
      "text/plain": [
       "16"
      ]
     },
     "execution_count": 107,
     "metadata": {},
     "output_type": "execute_result"
    }
   ],
   "source": [
    "list(df.columns).index('Toe In / Out/L')"
   ]
  },
  {
   "cell_type": "code",
   "execution_count": 139,
   "metadata": {},
   "outputs": [
    {
     "data": {
      "text/plain": [
       "count    3723.000000\n",
       "mean       12.142278\n",
       "std         7.915490\n",
       "min       -30.300000\n",
       "25%         7.000000\n",
       "50%        11.800000\n",
       "75%        17.200000\n",
       "max        50.800000\n",
       "Name: Toe In / Out/L, dtype: float64"
      ]
     },
     "execution_count": 139,
     "metadata": {},
     "output_type": "execute_result"
    }
   ],
   "source": [
    "df['Toe In / Out/L'].describe()"
   ]
  },
  {
   "cell_type": "code",
   "execution_count": 141,
   "metadata": {},
   "outputs": [
    {
     "data": {
      "text/plain": [
       "count    3723.000000\n",
       "mean       71.108515\n",
       "std        27.139210\n",
       "min         7.000000\n",
       "25%        51.800000\n",
       "50%        71.500000\n",
       "75%        90.200000\n",
       "max       192.300000\n",
       "Name: Velocity, dtype: float64"
      ]
     },
     "execution_count": 141,
     "metadata": {},
     "output_type": "execute_result"
    }
   ],
   "source": [
    "df['Velocity'].describe()"
   ]
  },
  {
   "cell_type": "code",
   "execution_count": 142,
   "metadata": {},
   "outputs": [
    {
     "data": {
      "text/plain": [
       "count    3723.000000\n",
       "mean        0.067861\n",
       "std         0.119826\n",
       "min         0.001000\n",
       "25%         0.026000\n",
       "50%         0.042000\n",
       "75%         0.068000\n",
       "max         2.350000\n",
       "Name: Stride Time Std Dev/L, dtype: float64"
      ]
     },
     "execution_count": 142,
     "metadata": {},
     "output_type": "execute_result"
    }
   ],
   "source": [
    "df['Stride Time Std Dev/L'].describe()"
   ]
  },
  {
   "cell_type": "code",
   "execution_count": 144,
   "metadata": {},
   "outputs": [
    {
     "data": {
      "text/plain": [
       "count    3723.000000\n",
       "mean        1.161489\n",
       "std         0.253123\n",
       "min         0.716000\n",
       "25%         1.033000\n",
       "50%         1.119000\n",
       "75%         1.223000\n",
       "max         5.669000\n",
       "Name: Cycle Time(sec)/L, dtype: float64"
      ]
     },
     "execution_count": 144,
     "metadata": {},
     "output_type": "execute_result"
    }
   ],
   "source": [
    "df['Cycle Time(sec)/L'].describe()"
   ]
  },
  {
   "cell_type": "code",
   "execution_count": 145,
   "metadata": {},
   "outputs": [],
   "source": [
    "from sklearn.datasets import fetch_olivetti_faces"
   ]
  },
  {
   "cell_type": "code",
   "execution_count": 146,
   "metadata": {},
   "outputs": [
    {
     "name": "stdout",
     "output_type": "stream",
     "text": [
      "downloading Olivetti faces from https://ndownloader.figshare.com/files/5976027 to /root/scikit_learn_data\n"
     ]
    }
   ],
   "source": [
    "data = fetch_olivetti_faces()"
   ]
  },
  {
   "cell_type": "code",
   "execution_count": 154,
   "metadata": {},
   "outputs": [
    {
     "data": {
      "text/plain": [
       "1.0"
      ]
     },
     "execution_count": 154,
     "metadata": {},
     "output_type": "execute_result"
    }
   ],
   "source": [
    "data.images.max()"
   ]
  },
  {
   "cell_type": "code",
   "execution_count": 155,
   "metadata": {},
   "outputs": [],
   "source": [
    "import pandas as pd"
   ]
  },
  {
   "cell_type": "code",
   "execution_count": 156,
   "metadata": {},
   "outputs": [],
   "source": [
    "df = pd.read_pickle('../../preprocess/data/targets_dataframe.pkl')"
   ]
  },
  {
   "cell_type": "code",
   "execution_count": 168,
   "metadata": {},
   "outputs": [
    {
     "data": {
      "text/plain": [
       "(1.918, 128.717)"
      ]
     },
     "execution_count": 168,
     "metadata": {},
     "output_type": "execute_result"
    }
   ],
   "source": [
    "df['Stride Length Std Dev/L'][0], df['Stride Length(cm)/R'][0]"
   ]
  },
  {
   "cell_type": "code",
   "execution_count": 172,
   "metadata": {},
   "outputs": [
    {
     "data": {
      "text/plain": [
       "(array([7.160e+02, 1.786e+03, 8.810e+02, 2.650e+02, 7.900e+01, 2.400e+01,\n",
       "        7.000e+00, 0.000e+00, 1.000e+00, 1.000e+00]),\n",
       " array([ 0.    ,  2.9705,  5.941 ,  8.9115, 11.882 , 14.8525, 17.823 ,\n",
       "        20.7935, 23.764 , 26.7345, 29.705 ]),\n",
       " <a list of 10 Patch objects>)"
      ]
     },
     "execution_count": 172,
     "metadata": {},
     "output_type": "execute_result"
    },
    {
     "data": {
      "image/png": "[encoded data removed]",
      "text/plain": [
       "<Figure size 432x288 with 1 Axes>"
      ]
     },
     "metadata": {
      "needs_background": "light"
     },
     "output_type": "display_data"
    }
   ],
   "source": [
    "plt.hist(df['Stride Length Std Dev/L'])"
   ]
  },
  {
   "cell_type": "code",
   "execution_count": 170,
   "metadata": {},
   "outputs": [
    {
     "data": {
      "text/plain": [
       "(array([7.660e+02, 1.368e+03, 7.720e+02, 3.210e+02, 1.530e+02, 9.400e+01,\n",
       "        6.600e+01, 4.000e+01, 3.200e+01, 2.000e+01, 1.600e+01, 1.500e+01,\n",
       "        1.200e+01, 1.100e+01, 4.000e+00, 2.000e+00, 1.000e+00, 8.000e+00,\n",
       "        1.000e+00, 7.000e+00, 6.000e+00, 5.000e+00, 2.000e+00, 2.000e+00,\n",
       "        1.000e+00, 2.000e+00, 1.000e+00, 0.000e+00, 5.000e+00, 1.000e+00,\n",
       "        0.000e+00, 0.000e+00, 1.000e+00, 3.000e+00, 1.000e+00, 0.000e+00,\n",
       "        3.000e+00, 3.000e+00, 0.000e+00, 0.000e+00, 1.000e+00, 1.000e+00,\n",
       "        0.000e+00, 0.000e+00, 0.000e+00, 1.000e+00, 1.000e+00, 1.000e+00,\n",
       "        0.000e+00, 1.000e+00, 0.000e+00, 1.000e+00, 1.000e+00, 1.000e+00,\n",
       "        0.000e+00, 0.000e+00, 2.000e+00, 0.000e+00, 0.000e+00, 0.000e+00,\n",
       "        0.000e+00, 0.000e+00, 0.000e+00, 0.000e+00, 0.000e+00, 0.000e+00,\n",
       "        0.000e+00, 0.000e+00, 0.000e+00, 0.000e+00, 1.000e+00, 0.000e+00,\n",
       "        0.000e+00, 0.000e+00, 0.000e+00, 0.000e+00, 0.000e+00, 0.000e+00,\n",
       "        0.000e+00, 0.000e+00, 1.000e+00, 0.000e+00, 0.000e+00, 0.000e+00,\n",
       "        0.000e+00, 0.000e+00, 0.000e+00, 0.000e+00, 0.000e+00, 0.000e+00,\n",
       "        0.000e+00, 0.000e+00, 0.000e+00, 0.000e+00, 0.000e+00, 0.000e+00,\n",
       "        0.000e+00, 1.000e+00, 0.000e+00, 1.000e+00]),\n",
       " array([0.    , 0.0235, 0.047 , 0.0705, 0.094 , 0.1175, 0.141 , 0.1645,\n",
       "        0.188 , 0.2115, 0.235 , 0.2585, 0.282 , 0.3055, 0.329 , 0.3525,\n",
       "        0.376 , 0.3995, 0.423 , 0.4465, 0.47  , 0.4935, 0.517 , 0.5405,\n",
       "        0.564 , 0.5875, 0.611 , 0.6345, 0.658 , 0.6815, 0.705 , 0.7285,\n",
       "        0.752 , 0.7755, 0.799 , 0.8225, 0.846 , 0.8695, 0.893 , 0.9165,\n",
       "        0.94  , 0.9635, 0.987 , 1.0105, 1.034 , 1.0575, 1.081 , 1.1045,\n",
       "        1.128 , 1.1515, 1.175 , 1.1985, 1.222 , 1.2455, 1.269 , 1.2925,\n",
       "        1.316 , 1.3395, 1.363 , 1.3865, 1.41  , 1.4335, 1.457 , 1.4805,\n",
       "        1.504 , 1.5275, 1.551 , 1.5745, 1.598 , 1.6215, 1.645 , 1.6685,\n",
       "        1.692 , 1.7155, 1.739 , 1.7625, 1.786 , 1.8095, 1.833 , 1.8565,\n",
       "        1.88  , 1.9035, 1.927 , 1.9505, 1.974 , 1.9975, 2.021 , 2.0445,\n",
       "        2.068 , 2.0915, 2.115 , 2.1385, 2.162 , 2.1855, 2.209 , 2.2325,\n",
       "        2.256 , 2.2795, 2.303 , 2.3265, 2.35  ]),\n",
       " <a list of 100 Patch objects>)"
      ]
     },
     "execution_count": 170,
     "metadata": {},
     "output_type": "execute_result"
    },
    {
     "data": {
      "image/png": "[encoded data removed]",
      "text/plain": [
       "<Figure size 432x288 with 1 Axes>"
      ]
     },
     "metadata": {
      "needs_background": "light"
     },
     "output_type": "display_data"
    }
   ],
   "source": [
    "plt.hist(df['Stride Time Std Dev/L'], bins=100)"
   ]
  },
  {
   "cell_type": "code",
   "execution_count": null,
   "metadata": {},
   "outputs": [],
   "source": []
  }
 ],
 "metadata": {
  "kernelspec": {
   "display_name": "Python 3",
   "language": "python",
   "name": "python3"
  },
  "language_info": {
   "codemirror_mode": {
    "name": "ipython",
    "version": 3
   },
   "file_extension": ".py",
   "mimetype": "text/x-python",
   "name": "python",
   "nbconvert_exporter": "python",
   "pygments_lexer": "ipython3",
   "version": "3.6.8"
  }
 },
 "nbformat": 4,
 "nbformat_minor": 2
}

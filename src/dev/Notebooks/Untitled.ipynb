{
 "cells": [
  {
   "cell_type": "code",
   "execution_count": 1,
   "metadata": {},
   "outputs": [],
   "source": [
    "import numpy as np\n",
    "import torch\n",
    "import torch.nn as nn\n",
    "import torch.optim as optim\n",
    "from torch.utils.data import Dataset, DataLoader\n",
    "import matplotlib.pyplot as plt\n",
    "import sklearn\n",
    "from sklearn.datasets import load_boston, make_regression\n",
    "from sklearn.metrics.regression import r2_score, mean_absolute_error\n",
    "from sklearn.model_selection import train_test_split\n",
    "import sklearn.preprocessing as P\n",
    "from sklearn.pipeline import Pipeline"
   ]
  },
  {
   "cell_type": "code",
   "execution_count": 2,
   "metadata": {},
   "outputs": [
    {
     "name": "stderr",
     "output_type": "stream",
     "text": [
      "/opt/conda/envs/torch/lib/python3.6/site-packages/sklearn/preprocessing/data.py:2239: UserWarning: n_quantiles (1000) is greater than the total number of samples (506). n_quantiles is set to n_samples.\n",
      "  % (self.n_quantiles, n_samples))\n",
      "/opt/conda/envs/torch/lib/python3.6/site-packages/sklearn/preprocessing/data.py:2239: UserWarning: n_quantiles (1000) is greater than the total number of samples (506). n_quantiles is set to n_samples.\n",
      "  % (self.n_quantiles, n_samples))\n"
     ]
    }
   ],
   "source": [
    "dataset = load_boston()\n",
    "\n",
    "scaler = P.QuantileTransformer(output_distribution='normal')\n",
    "#scaler = P.MinMaxScaler((-1,1))\n",
    "X = dataset.data[:, :5].astype(np.float32)\n",
    "y = dataset.data[:, 5:6].astype(np.float32)\n",
    "X = scaler.fit_transform(X)\n",
    "y = scaler.fit_transform(y)\n",
    "\n",
    "X_train, X_test, y_train, y_test = train_test_split(X, y, random_state=1)"
   ]
  },
  {
   "cell_type": "code",
   "execution_count": 3,
   "metadata": {},
   "outputs": [],
   "source": [
    "m = nn.Sequential(\n",
    "    nn.Linear(5, 100),\n",
    "    nn.BatchNorm1d(100),\n",
    "    nn.ReLU(),\n",
    "    nn.Linear(100, 100),\n",
    "    nn.BatchNorm1d(100),\n",
    "    nn.ReLU(),\n",
    "    nn.Linear(100, 1),\n",
    "    #nn.Tanh()\n",
    ")"
   ]
  },
  {
   "cell_type": "code",
   "execution_count": 33,
   "metadata": {},
   "outputs": [],
   "source": [
    "X = dataset.data[:, :5].astype(np.float32)\n",
    "X_trans = P.StandardScaler().fit_transform(X)"
   ]
  },
  {
   "cell_type": "code",
   "execution_count": 34,
   "metadata": {},
   "outputs": [
    {
     "data": {
      "text/plain": [
       "(array([439.,  44.,  14.,   1.,   3.,   2.,   0.,   1.,   1.,   1.]),\n",
       " array([-0.41978195,  0.61558926,  1.6509606 ,  2.6863317 ,  3.721703  ,\n",
       "         4.7570744 ,  5.7924457 ,  6.8278165 ,  7.863188  ,  8.89856   ,\n",
       "         9.93393   ], dtype=float32),\n",
       " <a list of 10 Patch objects>)"
      ]
     },
     "execution_count": 34,
     "metadata": {},
     "output_type": "execute_result"
    },
    {
     "data": {
      "image/png": "[encoded data removed]",
      "text/plain": [
       "<Figure size 432x288 with 1 Axes>"
      ]
     },
     "metadata": {
      "needs_background": "light"
     },
     "output_type": "display_data"
    }
   ],
   "source": [
    "plt.hist(X_trans[:,0])"
   ]
  },
  {
   "cell_type": "code",
   "execution_count": 4,
   "metadata": {},
   "outputs": [],
   "source": [
    "class ToyDataset(Dataset):\n",
    "    def __init__(self, X, y):\n",
    "        self.X = X\n",
    "        self.y = y\n",
    "    \n",
    "    def __len__(self,):\n",
    "        return self.X.shape[0]\n",
    "    \n",
    "    def __getitem__(self, ix):\n",
    "        return self.X[ix], self.y[ix]"
   ]
  },
  {
   "cell_type": "code",
   "execution_count": 5,
   "metadata": {},
   "outputs": [],
   "source": [
    "ds = ToyDataset(X_train, y_train)\n",
    "myloader = DataLoader(ds, batch_size=64, shuffle=True, drop_last=True)"
   ]
  },
  {
   "cell_type": "code",
   "execution_count": 6,
   "metadata": {},
   "outputs": [],
   "source": [
    "criterion = nn.MSELoss()\n",
    "optimizer = optim.Adam(m.parameters())"
   ]
  },
  {
   "cell_type": "code",
   "execution_count": 7,
   "metadata": {},
   "outputs": [
    {
     "name": "stdout",
     "output_type": "stream",
     "text": [
      "ep : 0 MSE :  1.1571001768112184 R-squqred :  -0.01835622976669866\n",
      "ep : 1 MSE :  0.9290132999420166 R-squqred :  0.1681592578862108\n",
      "ep : 2 MSE :  0.8915402293205261 R-squqred :  0.21387973370094385\n",
      "ep : 3 MSE :  0.8888368010520935 R-squqred :  0.18277364205508936\n",
      "ep : 4 MSE :  0.8745867848396301 R-squqred :  0.22110326065508829\n",
      "ep : 5 MSE :  0.7744320154190063 R-squqred :  0.22874428786083909\n",
      "ep : 6 MSE :  0.8620406150817871 R-squqred :  0.2354815277472734\n",
      "ep : 7 MSE :  0.7970944523811341 R-squqred :  0.19993458794567792\n",
      "ep : 8 MSE :  0.8604711174964905 R-squqred :  0.22383487483810632\n",
      "ep : 9 MSE :  0.8093324780464173 R-squqred :  0.2228549119721485\n",
      "ep : 10 MSE :  0.8494763612747193 R-squqred :  0.2305659000276779\n",
      "ep : 11 MSE :  0.8560098290443421 R-squqred :  0.23919687025861994\n",
      "ep : 12 MSE :  0.6966538667678833 R-squqred :  0.2542540713989157\n",
      "ep : 13 MSE :  0.7879696488380432 R-squqred :  0.2797380608523956\n",
      "ep : 14 MSE :  0.8563932299613952 R-squqred :  0.24991865432356186\n",
      "ep : 15 MSE :  0.8482864558696747 R-squqred :  0.19568651188755906\n",
      "ep : 16 MSE :  0.7625322341918945 R-squqred :  0.268071577648154\n",
      "ep : 17 MSE :  0.8142747998237609 R-squqred :  0.263080532728159\n",
      "ep : 18 MSE :  0.8378751397132873 R-squqred :  0.24653377442423413\n",
      "ep : 19 MSE :  0.8076301455497742 R-squqred :  0.2724182844510237\n",
      "ep : 20 MSE :  0.7990150928497315 R-squqred :  0.26386390493199835\n",
      "ep : 21 MSE :  0.757527756690979 R-squqred :  0.24610014349430182\n",
      "ep : 22 MSE :  0.758488941192627 R-squqred :  0.2414677922575982\n",
      "ep : 23 MSE :  0.7056183159351349 R-squqred :  0.2999139211877284\n",
      "ep : 24 MSE :  0.7943460941314697 R-squqred :  0.2792220838523898\n",
      "ep : 25 MSE :  0.8381368160247803 R-squqred :  0.2311309938933052\n",
      "ep : 26 MSE :  0.7572255849838256 R-squqred :  0.23433158269008825\n",
      "ep : 27 MSE :  0.7671387314796447 R-squqred :  0.23468917113140453\n",
      "ep : 28 MSE :  0.8147222518920898 R-squqred :  0.25359227989109306\n",
      "ep : 29 MSE :  0.7246221423149108 R-squqred :  0.24764518671671715\n",
      "ep : 30 MSE :  0.7948280215263367 R-squqred :  0.2607524817784938\n",
      "ep : 31 MSE :  0.8148240685462952 R-squqred :  0.25833366655574996\n",
      "ep : 32 MSE :  0.7961205840110779 R-squqred :  0.2945942260926532\n",
      "ep : 33 MSE :  0.6897548198699951 R-squqred :  0.320176004441372\n",
      "ep : 34 MSE :  0.7823348999023437 R-squqred :  0.2903074391177659\n",
      "ep : 35 MSE :  0.7852129578590393 R-squqred :  0.29390846081360406\n",
      "ep : 36 MSE :  0.8104061126708985 R-squqred :  0.281873256033924\n",
      "ep : 37 MSE :  0.8271297633647918 R-squqred :  0.28385281606872637\n",
      "ep : 38 MSE :  0.732649302482605 R-squqred :  0.2832838485215934\n",
      "ep : 39 MSE :  0.7571519315242767 R-squqred :  0.2739615155476425\n",
      "ep : 40 MSE :  0.8318799138069153 R-squqred :  0.24776169424744082\n",
      "ep : 41 MSE :  0.7945154309272766 R-squqred :  0.31146755036388707\n",
      "ep : 42 MSE :  0.7043132901191711 R-squqred :  0.2740828854906264\n",
      "ep : 43 MSE :  0.8482763051986695 R-squqred :  0.24596049428471667\n",
      "ep : 44 MSE :  0.8196497201919556 R-squqred :  0.2829664334500755\n",
      "ep : 45 MSE :  0.6868250966072083 R-squqred :  0.28705675652915197\n",
      "ep : 46 MSE :  0.8277739763259888 R-squqred :  0.23928954072342642\n",
      "ep : 47 MSE :  0.8412598371505737 R-squqred :  0.2487907670920813\n",
      "ep : 48 MSE :  0.7899601936340332 R-squqred :  0.260267238892579\n",
      "ep : 49 MSE :  0.8009202122688294 R-squqred :  0.26949735462156676\n",
      "ep : 50 MSE :  0.8063953280448913 R-squqred :  0.28841419881142893\n",
      "ep : 51 MSE :  0.6760474920272828 R-squqred :  0.3387728801958468\n",
      "ep : 52 MSE :  0.8165249228477478 R-squqred :  0.2726415950671027\n",
      "ep : 53 MSE :  0.7756003975868225 R-squqred :  0.27719373269572845\n",
      "ep : 54 MSE :  0.7968388199806213 R-squqred :  0.2790865589130873\n",
      "ep : 55 MSE :  0.7744513511657715 R-squqred :  0.3111272877635134\n",
      "ep : 56 MSE :  0.7094012379646302 R-squqred :  0.30979259118665914\n",
      "ep : 57 MSE :  0.8252027630805969 R-squqred :  0.2535196812864845\n",
      "ep : 58 MSE :  0.7983965873718262 R-squqred :  0.2430050420048359\n",
      "ep : 59 MSE :  0.7895778536796569 R-squqred :  0.2715184156862258\n",
      "ep : 60 MSE :  0.7379579722881318 R-squqred :  0.32306505029170207\n",
      "ep : 61 MSE :  0.7714362859725952 R-squqred :  0.3236726502346025\n",
      "ep : 62 MSE :  0.7611347675323487 R-squqred :  0.30587204210934216\n",
      "ep : 63 MSE :  0.6637103915214538 R-squqred :  0.3147426021364894\n",
      "ep : 64 MSE :  0.6962798714637757 R-squqred :  0.31299607034094123\n",
      "ep : 65 MSE :  0.6905559420585632 R-squqred :  0.3159475999286383\n",
      "ep : 66 MSE :  0.7295766174793243 R-squqred :  0.33453038393975837\n",
      "ep : 67 MSE :  0.6897587895393371 R-squqred :  0.32040643974016897\n",
      "ep : 68 MSE :  0.7577916443347931 R-squqred :  0.31655566457670936\n",
      "ep : 69 MSE :  0.7694467067718506 R-squqred :  0.32163169829522703\n",
      "ep : 70 MSE :  0.772163188457489 R-squqred :  0.33122298075127005\n",
      "ep : 71 MSE :  0.7523319482803345 R-squqred :  0.33586342558360693\n",
      "ep : 72 MSE :  0.7081316709518433 R-squqred :  0.3008203940558308\n",
      "ep : 73 MSE :  0.7573543667793274 R-squqred :  0.3116288972168849\n",
      "ep : 74 MSE :  0.7522259473800659 R-squqred :  0.28982956806366933\n",
      "ep : 75 MSE :  0.7461270153522491 R-squqred :  0.27532863695664955\n",
      "ep : 76 MSE :  0.7159713625907898 R-squqred :  0.33673226015111785\n",
      "ep : 77 MSE :  0.8025118350982666 R-squqred :  0.2874337100020211\n",
      "ep : 78 MSE :  0.7638800024986268 R-squqred :  0.319780014894366\n",
      "ep : 79 MSE :  0.6906970500946045 R-squqred :  0.29853269309848285\n",
      "ep : 80 MSE :  0.7704394221305847 R-squqred :  0.3270391097106363\n",
      "ep : 81 MSE :  0.7043636441230774 R-squqred :  0.3124436652396976\n",
      "ep : 82 MSE :  0.7613868951797486 R-squqred :  0.29660656851198774\n",
      "ep : 83 MSE :  0.757909631729126 R-squqred :  0.2995439595151102\n",
      "ep : 84 MSE :  0.7865756034851075 R-squqred :  0.30995873371872545\n",
      "ep : 85 MSE :  0.7922715783119202 R-squqred :  0.2641593983742333\n",
      "ep : 86 MSE :  0.7828504562377929 R-squqred :  0.30322824352312533\n",
      "ep : 87 MSE :  0.7624275326728821 R-squqred :  0.30734353823305915\n",
      "ep : 88 MSE :  0.7712125539779663 R-squqred :  0.32009655546732124\n",
      "ep : 89 MSE :  0.6067498385906219 R-squqred :  0.3657562684554776\n",
      "ep : 90 MSE :  0.7678980350494384 R-squqred :  0.30293511511148763\n",
      "ep : 91 MSE :  0.7166810631752014 R-squqred :  0.3426074191721026\n",
      "ep : 92 MSE :  0.7492922782897949 R-squqred :  0.34610808041145497\n",
      "ep : 93 MSE :  0.735617172718048 R-squqred :  0.31149835796803027\n",
      "ep : 94 MSE :  0.6698797345161438 R-squqred :  0.35963106435804126\n",
      "ep : 95 MSE :  0.7473435461521148 R-squqred :  0.35527217778008263\n",
      "ep : 96 MSE :  0.7216631412506104 R-squqred :  0.3033643799112131\n",
      "ep : 97 MSE :  0.7357960343360901 R-squqred :  0.32656924794810976\n",
      "ep : 98 MSE :  0.7259126663208008 R-squqred :  0.36556046395765707\n",
      "ep : 99 MSE :  0.7301702618598938 R-squqred :  0.3517581143077321\n"
     ]
    }
   ],
   "source": [
    "m.train()\n",
    "for epoch in range(100):\n",
    "    running_loss = 0.0\n",
    "    running_score = 0.0\n",
    "    \n",
    "    for n_step, (x,y_true) in enumerate(myloader):\n",
    "        y_pred = m(x)\n",
    "        loss = criterion(y_pred, y_true)\n",
    "        score = r2_score(\n",
    "            scaler.inverse_transform(y_true.numpy()),\n",
    "            scaler.inverse_transform(y_pred.detach().numpy()))\n",
    "\n",
    "        optimizer.zero_grad()\n",
    "        loss.backward()\n",
    "        optimizer.step()\n",
    "        \n",
    "        running_loss += loss.item()\n",
    "        running_score += score\n",
    "    \n",
    "    print(f'ep : {epoch}', 'MSE : ', running_loss / len(myloader), 'R-squqred : ', running_score / len(myloader))"
   ]
  },
  {
   "cell_type": "code",
   "execution_count": 8,
   "metadata": {},
   "outputs": [
    {
     "data": {
      "text/plain": [
       "<matplotlib.collections.PathCollection at 0x7fb9183fdb70>"
      ]
     },
     "execution_count": 8,
     "metadata": {},
     "output_type": "execute_result"
    },
    {
     "data": {
      "image/png": "[encoded data removed]",
      "text/plain": [
       "<Figure size 432x288 with 1 Axes>"
      ]
     },
     "metadata": {
      "needs_background": "light"
     },
     "output_type": "display_data"
    }
   ],
   "source": [
    "plt.plot([0, 15], [0, 15], '--k')\n",
    "plt.scatter(scaler.inverse_transform(y_true.numpy()), scaler.inverse_transform(y_pred.detach().numpy()))"
   ]
  },
  {
   "cell_type": "code",
   "execution_count": 9,
   "metadata": {},
   "outputs": [
    {
     "name": "stdout",
     "output_type": "stream",
     "text": [
      "MSE :  4.331094801425934 R-squqred :  0.25202766132063903\n"
     ]
    }
   ],
   "source": [
    "ds = ToyDataset(X_test, y_test)\n",
    "myloader = DataLoader(ds, batch_size=64, shuffle=False, drop_last=True)\n",
    "\n",
    "m.eval()\n",
    "\n",
    "running_mae = 0.0\n",
    "running_score = 0.0\n",
    "for n_step, (x,y_true) in enumerate(myloader):\n",
    "    y_pred = m(x)\n",
    "    loss = criterion(y_pred, y_true)\n",
    "    score = r2_score(\n",
    "        scaler.inverse_transform(y_true.numpy()),\n",
    "        scaler.inverse_transform(y_pred.detach().numpy()))\n",
    "\n",
    "    running_loss += loss.item()\n",
    "    running_score += score\n",
    "\n",
    "print('MSE : ', running_loss / len(myloader), 'R-squqred : ', running_score / len(myloader))"
   ]
  },
  {
   "cell_type": "code",
   "execution_count": 10,
   "metadata": {},
   "outputs": [
    {
     "data": {
      "text/plain": [
       "<matplotlib.collections.PathCollection at 0x7fb918327c18>"
      ]
     },
     "execution_count": 10,
     "metadata": {},
     "output_type": "execute_result"
    },
    {
     "data": {
      "image/png": "[encoded data removed]",
      "text/plain": [
       "<Figure size 432x288 with 1 Axes>"
      ]
     },
     "metadata": {
      "needs_background": "light"
     },
     "output_type": "display_data"
    }
   ],
   "source": [
    "plt.plot([0, 15], [0, 15], '--k')\n",
    "plt.scatter(scaler.inverse_transform(y_true.numpy()), scaler.inverse_transform(y_pred.detach().numpy()))"
   ]
  },
  {
   "cell_type": "code",
   "execution_count": 13,
   "metadata": {},
   "outputs": [
    {
     "name": "stdout",
     "output_type": "stream",
     "text": [
      "(1280, 960)\n"
     ]
    }
   ],
   "source": [
    "from PIL import Image\n",
    "import numpy\n",
    "im = Image.open(\"../tmp/cat.jpg\")\n",
    "np_im = numpy.array(im)[:,:,0]\n",
    "print(np_im.shape)"
   ]
  },
  {
   "cell_type": "code",
   "execution_count": 18,
   "metadata": {},
   "outputs": [],
   "source": [
    "backbone_dims=[64, 64, 128, 256, 512]"
   ]
  },
  {
   "cell_type": "code",
   "execution_count": 19,
   "metadata": {},
   "outputs": [
    {
     "name": "stdout",
     "output_type": "stream",
     "text": [
      "64 64\n",
      "64 128\n",
      "128 256\n",
      "256 512\n"
     ]
    }
   ],
   "source": [
    "for a,b in zip(backbone_dims[:-1], backbone_dims[1:]):\n",
    "    print(a,b)"
   ]
  },
  {
   "cell_type": "code",
   "execution_count": null,
   "metadata": {},
   "outputs": [],
   "source": []
  }
 ],
 "metadata": {
  "kernelspec": {
   "display_name": "Python 3",
   "language": "python",
   "name": "python3"
  },
  "language_info": {
   "codemirror_mode": {
    "name": "ipython",
    "version": 3
   },
   "file_extension": ".py",
   "mimetype": "text/x-python",
   "name": "python",
   "nbconvert_exporter": "python",
   "pygments_lexer": "ipython3",
   "version": "3.6.8"
  }
 },
 "nbformat": 4,
 "nbformat_minor": 2
}

{
 "cells": [
  {
   "cell_type": "markdown",
   "metadata": {},
   "source": [
    "<a id='top'></a>\n",
    "# Code for using Parkinson's Pose Estimation Dataset"
   ]
  },
  {
   "cell_type": "markdown",
   "metadata": {},
   "source": [
    "This notebook describes the dataset accompanying the paper:\n",
    "'Vision-Based Assessment of Parkinsonism and Levodopa-Induced Dyskinesia with Deep Learning Pose Estimation' - Li, Mestre, Fox, Taati (2017).\n",
    "\n",
    "The data includes all movement trajectories extracted from the videos of Parkinson's assessments using Convolutional Pose Machines (CPM) (https://arxiv.org/abs/1602.00134), as well as the confidence values from CPM. The dataset also includes ground truth ratings of parkinsonism and dyskinesia severity using the UDysRS, UPDRS, and CAPSIT.\n",
    "\n",
    "Camera shake has been removed from trajectories as described in the paper. No other preprocessing has been performed.\n",
    "\n",
    "Place data files in the same folder as this file (data_import_demo.py). \n",
    "\n",
    "Files are saved in JSON format, so you'll require a JSON reading package in Python. Python comes with a package called json but we recommend ujson or simplejson (both of which are drop-in replacements for json and included in Anaconda).\n",
    "\n",
    "### Table of contents:\n",
    "\n",
    "1. [Trajectories](#Trajectories)\n",
    "    1. [Communication/Drinking Tasks](#Comm/Drink)\n",
    "    2. [Leg Agility Task](#legagility)\n",
    "    3. [Toe Tapping Task](#toetapping)\n",
    "2. [Ratings](#Ratings)\n",
    "    1. [UDysRS](#UDysRS)\n",
    "    2. [UPDRS](#UPDRS)\n",
    "    3. [CAPSIT](#CAPSIT)\n",
    "3. [Subject numbers](#Subjects)\n",
    "4. [Example](#Demo)"
   ]
  },
  {
   "cell_type": "code",
   "execution_count": 5,
   "metadata": {
    "collapsed": true
   },
   "outputs": [],
   "source": [
    "try:\n",
    "    import ujson as json\n",
    "except ImportError:\n",
    "    try:\n",
    "        import simplejson as json\n",
    "    except ImportError:\n",
    "        import json\n",
    "\n",
    "import numpy as np\n",
    "import matplotlib.pyplot as plt"
   ]
  },
  {
   "cell_type": "markdown",
   "metadata": {},
   "source": [
    "<a id='Trajectories'></a>\n",
    "## 1. Trajectories"
   ]
  },
  {
   "cell_type": "markdown",
   "metadata": {},
   "source": [
    "<a id='Comm/Drink'></a>\n",
    "### A. Communication/Drinking Tasks"
   ]
  },
  {
   "cell_type": "markdown",
   "metadata": {},
   "source": [
    "Let's try loading the data from the communication task. The format of the files for the communication and drinking tasks is the same."
   ]
  },
  {
   "cell_type": "code",
   "execution_count": 94,
   "metadata": {
    "collapsed": false
   },
   "outputs": [
    {
     "data": {
      "text/plain": [
       "387"
      ]
     },
     "execution_count": 94,
     "metadata": {},
     "output_type": "execute_result"
    }
   ],
   "source": [
    "trajectory_file = 'Communication_all_export.txt'\n",
    "\n",
    "with open(trajectory_file, 'r') as infile:\n",
    "    comm_dict = json.load(infile)\n",
    "\n",
    "len(comm_dict.keys())"
   ]
  },
  {
   "cell_type": "markdown",
   "metadata": {},
   "source": [
    "When reading in from the JSON file, the data is formatted as a dictionary. The dictionary has 387 keys. These represent separate trajectories - let's look at the format of the keys."
   ]
  },
  {
   "cell_type": "code",
   "execution_count": 95,
   "metadata": {
    "collapsed": false
   },
   "outputs": [
    {
     "data": {
      "text/plain": [
       "[u'26-1',\n",
       " u'22-3',\n",
       " u'22-2',\n",
       " u'25-1',\n",
       " u'25-3',\n",
       " u'51-1',\n",
       " u'51-3',\n",
       " u'51-2',\n",
       " u'52-3',\n",
       " u'248-1',\n",
       " u'248-3',\n",
       " u'20-2 (occl)',\n",
       " u'79-1',\n",
       " u'74-2',\n",
       " u'74-3',\n",
       " u'74-1',\n",
       " u'289-1',\n",
       " u'240-1',\n",
       " u'240-3',\n",
       " u'21-1']"
      ]
     },
     "execution_count": 95,
     "metadata": {},
     "output_type": "execute_result"
    }
   ],
   "source": [
    "comm_dict.keys()[:20]"
   ]
  },
  {
   "cell_type": "markdown",
   "metadata": {},
   "source": [
    "Each key is a string with the format 'trial number - segment number (noise type)'. Most trials have 3 parts. Some trajectories contain noise such as occlusions or shaking. These may be omitted if you choose, although we kept all trajectories included in this data set. Camera shake has already been removed as described in the paper.\n",
    "\n",
    "Associated with each key is another dictionary containing two parts:"
   ]
  },
  {
   "cell_type": "code",
   "execution_count": 96,
   "metadata": {
    "collapsed": false
   },
   "outputs": [
    {
     "data": {
      "text/plain": [
       "[u'position', u'resp']"
      ]
     },
     "execution_count": 96,
     "metadata": {},
     "output_type": "execute_result"
    }
   ],
   "source": [
    "comm_dict['26-1'].keys()"
   ]
  },
  {
   "cell_type": "markdown",
   "metadata": {},
   "source": [
    "'position' is the trajectory of each joint and 'resp' is the confidence from CPM. These are each provided for 15 joints:"
   ]
  },
  {
   "cell_type": "code",
   "execution_count": 97,
   "metadata": {
    "collapsed": false
   },
   "outputs": [
    {
     "data": {
      "text/plain": [
       "[u'Lank',\n",
       " u'Lelb',\n",
       " u'Lhip',\n",
       " u'Lkne',\n",
       " u'Lsho',\n",
       " u'Lwri',\n",
       " u'Rank',\n",
       " u'Relb',\n",
       " u'Rhip',\n",
       " u'Rkne',\n",
       " u'Rsho',\n",
       " u'Rwri',\n",
       " u'face',\n",
       " u'head',\n",
       " u'neck']"
      ]
     },
     "execution_count": 97,
     "metadata": {},
     "output_type": "execute_result"
    }
   ],
   "source": [
    "sorted(comm_dict['26-1']['position'].keys())"
   ]
  },
  {
   "cell_type": "markdown",
   "metadata": {},
   "source": [
    "Note that 'face' position was produced using the MEEM object tracker, while the confidence is the average of the 'head' and 'neck' confidences. Let's visualize one of the trajectories."
   ]
  },
  {
   "cell_type": "code",
   "execution_count": 98,
   "metadata": {
    "collapsed": false
   },
   "outputs": [
    {
     "data": {
      "text/plain": [
       "[<matplotlib.lines.Line2D at 0x338dd4a8>]"
      ]
     },
     "execution_count": 98,
     "metadata": {},
     "output_type": "execute_result"
    },
    {
     "data": {
      "image/png": "[encoded data removed]",
      "text/plain": [
       "<matplotlib.figure.Figure at 0x27b09208>"
      ]
     },
     "metadata": {},
     "output_type": "display_data"
    }
   ],
   "source": [
    "%matplotlib inline\n",
    "\n",
    "plt.plot(np.array(comm_dict['52-3']['position']['Lsho'])[:,0]) # visualizing the horizontal movement"
   ]
  },
  {
   "cell_type": "markdown",
   "metadata": {},
   "source": [
    "<a id='legagility'></a>\n",
    "### B. Leg Agility Task"
   ]
  },
  {
   "cell_type": "markdown",
   "metadata": {},
   "source": [
    "Load the leg agility task:"
   ]
  },
  {
   "cell_type": "code",
   "execution_count": 99,
   "metadata": {
    "collapsed": false
   },
   "outputs": [
    {
     "data": {
      "text/plain": [
       "132"
      ]
     },
     "execution_count": 99,
     "metadata": {},
     "output_type": "execute_result"
    }
   ],
   "source": [
    "trajectory_file = 'LA_split_all_export.txt'\n",
    "\n",
    "with open(trajectory_file, 'r') as infile:\n",
    "    la_dict = json.load(infile)\n",
    "\n",
    "len(la_dict.keys())"
   ]
  },
  {
   "cell_type": "code",
   "execution_count": 100,
   "metadata": {
    "collapsed": false
   },
   "outputs": [
    {
     "data": {
      "text/plain": [
       "[u'217', u'212', u'90', u'93', u'24']"
      ]
     },
     "execution_count": 100,
     "metadata": {},
     "output_type": "execute_result"
    }
   ],
   "source": [
    "la_dict.keys()[:5]"
   ]
  },
  {
   "cell_type": "markdown",
   "metadata": {},
   "source": [
    "Trials are not separated into segments like for the communication task. However, noise type may need to be stripped from keys (use str.split()). "
   ]
  },
  {
   "cell_type": "code",
   "execution_count": 101,
   "metadata": {
    "collapsed": false
   },
   "outputs": [
    {
     "data": {
      "text/plain": [
       "[u'position', u'resp', u'idx']"
      ]
     },
     "execution_count": 101,
     "metadata": {},
     "output_type": "execute_result"
    }
   ],
   "source": [
    "la_dict['217'].keys()"
   ]
  },
  {
   "cell_type": "markdown",
   "metadata": {},
   "source": [
    "Each entry contains three parts - position and resp (as with communication task) and idx, an index of the frame number."
   ]
  },
  {
   "cell_type": "markdown",
   "metadata": {},
   "source": [
    "For the lower limbs, trajectory are split into active ('\\_act') and rest ('\\_rst'), indicating whether the leg agility task is being performed by that leg."
   ]
  },
  {
   "cell_type": "code",
   "execution_count": 102,
   "metadata": {
    "collapsed": false
   },
   "outputs": [
    {
     "data": {
      "text/plain": [
       "[u'Lank_act',\n",
       " u'Lank_rst',\n",
       " u'Lelb',\n",
       " u'Lhip_act',\n",
       " u'Lhip_rst',\n",
       " u'Lkne_act',\n",
       " u'Lkne_rst',\n",
       " u'Lsho',\n",
       " u'Lwri',\n",
       " u'Rank_act',\n",
       " u'Rank_rst',\n",
       " u'Relb',\n",
       " u'Rhip_act',\n",
       " u'Rhip_rst',\n",
       " u'Rkne_act',\n",
       " u'Rkne_rst',\n",
       " u'Rsho',\n",
       " u'Rwri',\n",
       " u'face',\n",
       " u'head',\n",
       " u'neck']"
      ]
     },
     "execution_count": 102,
     "metadata": {},
     "output_type": "execute_result"
    }
   ],
   "source": [
    "sorted(la_dict['217']['position'].keys())"
   ]
  },
  {
   "cell_type": "markdown",
   "metadata": {},
   "source": [
    "We can visualize the difference between active and rest by plotting the trajectories."
   ]
  },
  {
   "cell_type": "code",
   "execution_count": 103,
   "metadata": {
    "collapsed": false
   },
   "outputs": [
    {
     "data": {
      "text/plain": [
       "(380, 500)"
      ]
     },
     "execution_count": 103,
     "metadata": {},
     "output_type": "execute_result"
    },
    {
     "data": {
      "image/png": "[encoded data removed]",
      "text/plain": [
       "<matplotlib.figure.Figure at 0x16575be0>"
      ]
     },
     "metadata": {},
     "output_type": "display_data"
    }
   ],
   "source": [
    "%matplotlib inline\n",
    "\n",
    "plt.plot(np.array(la_dict['217']['position']['Lank_act'])[:,1]) # visualizing the vertical movement\n",
    "plt.ylim(380, 500)"
   ]
  },
  {
   "cell_type": "code",
   "execution_count": 104,
   "metadata": {
    "collapsed": false
   },
   "outputs": [
    {
     "data": {
      "text/plain": [
       "(380, 500)"
      ]
     },
     "execution_count": 104,
     "metadata": {},
     "output_type": "execute_result"
    },
    {
     "data": {
      "image/png": "[encoded data removed]",
      "text/plain": [
       "<matplotlib.figure.Figure at 0x26b6c668>"
      ]
     },
     "metadata": {},
     "output_type": "display_data"
    }
   ],
   "source": [
    "%matplotlib inline\n",
    "\n",
    "plt.plot(np.array(la_dict['217']['position']['Lank_rst'])[:,1])\n",
    "plt.ylim(380, 500)"
   ]
  },
  {
   "cell_type": "markdown",
   "metadata": {},
   "source": [
    "There is a greater amplitude of movement in the active compared to the rest, as expected."
   ]
  },
  {
   "cell_type": "markdown",
   "metadata": {},
   "source": [
    "<a id='toetapping'></a>\n",
    "### C. Toe Tapping Task"
   ]
  },
  {
   "cell_type": "markdown",
   "metadata": {},
   "source": [
    "Load the toe tapping task:"
   ]
  },
  {
   "cell_type": "code",
   "execution_count": 105,
   "metadata": {
    "collapsed": false
   },
   "outputs": [
    {
     "data": {
      "text/plain": [
       "133"
      ]
     },
     "execution_count": 105,
     "metadata": {},
     "output_type": "execute_result"
    }
   ],
   "source": [
    "trajectory_file = 'TT_opt_flow_export.txt'\n",
    "\n",
    "with open(trajectory_file, 'r') as infile:\n",
    "    tt_dict = json.load(infile)\n",
    "\n",
    "len(tt_dict.keys())"
   ]
  },
  {
   "cell_type": "code",
   "execution_count": 106,
   "metadata": {
    "collapsed": false
   },
   "outputs": [
    {
     "data": {
      "text/plain": [
       "[u'217', u'212', u'228', u'21 (shake)', u'226']"
      ]
     },
     "execution_count": 106,
     "metadata": {},
     "output_type": "execute_result"
    }
   ],
   "source": [
    "tt_dict.keys()[:5]"
   ]
  },
  {
   "cell_type": "code",
   "execution_count": 107,
   "metadata": {
    "collapsed": false
   },
   "outputs": [
    {
     "data": {
      "text/plain": [
       "[u'Lank', u'Rank']"
      ]
     },
     "execution_count": 107,
     "metadata": {},
     "output_type": "execute_result"
    }
   ],
   "source": [
    "tt_dict['217'].keys()"
   ]
  },
  {
   "cell_type": "markdown",
   "metadata": {},
   "source": [
    "There are two flows available, for the left foot and right foot. Flow bounding boxes were based on left and right ankle locations from CPM. Flows have already been normalized by head distance. \n",
    "\n",
    "There are three signals provided for each flow:\n",
    "\n",
    "[0] Total optical flow (norm of X and Y flows)  \n",
    "[1] Total X flow (horizontal)  \n",
    "[2] Total Y flow (vertical)"
   ]
  },
  {
   "cell_type": "code",
   "execution_count": 108,
   "metadata": {
    "collapsed": false
   },
   "outputs": [
    {
     "data": {
      "text/plain": [
       "[<matplotlib.lines.Line2D at 0x103f1dd8>]"
      ]
     },
     "execution_count": 108,
     "metadata": {},
     "output_type": "execute_result"
    },
    {
     "data": {
      "image/png": "[encoded data removed]",
      "text/plain": [
       "<matplotlib.figure.Figure at 0x16556ba8>"
      ]
     },
     "metadata": {},
     "output_type": "display_data"
    }
   ],
   "source": [
    "%matplotlib inline\n",
    "\n",
    "plt.plot(tt_dict['217']['Lank'][1])"
   ]
  },
  {
   "cell_type": "markdown",
   "metadata": {},
   "source": [
    "<a id='Ratings'></a>\n",
    "## 2. Ratings"
   ]
  },
  {
   "cell_type": "markdown",
   "metadata": {},
   "source": [
    "<a id='UDysRS'></a>\n",
    "### A. UDysRS"
   ]
  },
  {
   "cell_type": "code",
   "execution_count": 109,
   "metadata": {
    "collapsed": false
   },
   "outputs": [
    {
     "data": {
      "text/plain": [
       "[u'Communication', u'Drinking', u'Higher']"
      ]
     },
     "execution_count": 109,
     "metadata": {},
     "output_type": "execute_result"
    }
   ],
   "source": [
    "rating_file = 'UDysRS.txt'\n",
    "\n",
    "with open(rating_file, 'r') as infile:\n",
    "    ratings = json.load(infile)\n",
    "\n",
    "ratings.keys()"
   ]
  },
  {
   "cell_type": "code",
   "execution_count": 110,
   "metadata": {
    "collapsed": false
   },
   "outputs": [
    {
     "data": {
      "text/plain": [
       "147"
      ]
     },
     "execution_count": 110,
     "metadata": {},
     "output_type": "execute_result"
    }
   ],
   "source": [
    "len(ratings['Communication'].keys())"
   ]
  },
  {
   "cell_type": "code",
   "execution_count": 111,
   "metadata": {
    "collapsed": false
   },
   "outputs": [
    {
     "data": {
      "text/plain": [
       "[u'217', u'214', u'215', u'212', u'226', u'225', u'24', u'25', u'26', u'27']"
      ]
     },
     "execution_count": 111,
     "metadata": {},
     "output_type": "execute_result"
    }
   ],
   "source": [
    "ratings['Communication'].keys()[:10]"
   ]
  },
  {
   "cell_type": "markdown",
   "metadata": {},
   "source": [
    "There are three parts available in this UDysRS rating - ratings for the communication task, the drinking task, and the highest rating across all tasks that were used. Note that the ambulation task was also used to calculate the 'Higher' score, but is not included as trajectories were not extracted for this task. Ratings are indexed by trial number.\n",
    "\n",
    "Within each rating is the subscores:"
   ]
  },
  {
   "cell_type": "code",
   "execution_count": 112,
   "metadata": {
    "collapsed": false
   },
   "outputs": [
    {
     "data": {
      "text/plain": [
       "[2, 1, 1, 0, 0, 0]"
      ]
     },
     "execution_count": 112,
     "metadata": {},
     "output_type": "execute_result"
    }
   ],
   "source": [
    "ratings['Communication']['215']"
   ]
  },
  {
   "cell_type": "markdown",
   "metadata": {},
   "source": [
    "There are 6 subscores available for UDysRS. Subscore indices are:\n",
    "\n",
    "[0] Neck  \n",
    "[1] Right arm/shoulder  \n",
    "[2] Left arm/shoulder  \n",
    "[3] Trunk  \n",
    "[4] Right leg/hip  \n",
    "[5] Left leg/hip  \n",
    "\n",
    "Note that while the facial dyskinesia score is usually part of UDysRS, we did not analyze facial dyskinesia for this study."
   ]
  },
  {
   "cell_type": "markdown",
   "metadata": {},
   "source": [
    "<a id='UPDRS'></a>\n",
    "### B. UPDRS"
   ]
  },
  {
   "cell_type": "markdown",
   "metadata": {},
   "source": [
    "For the UPDRS, the rating keys correspond to the item number in the MDS-UPDRS. For items where there are two ratings, the first rating is the right side and the second is the left. For item 3.17 (rest tremor amplitude), the items in order are right upper extremity, left upper extremity, right lower extremity, left lower extremity, and lip/jaw. The total score is also included."
   ]
  },
  {
   "cell_type": "code",
   "execution_count": 113,
   "metadata": {
    "collapsed": false
   },
   "outputs": [
    {
     "data": {
      "text/plain": [
       "[u'3.1',\n",
       " u'3.10',\n",
       " u'3.11',\n",
       " u'3.12',\n",
       " u'3.13',\n",
       " u'3.14',\n",
       " u'3.15',\n",
       " u'3.16',\n",
       " u'3.17',\n",
       " u'3.18',\n",
       " u'3.2',\n",
       " u'3.4',\n",
       " u'3.5',\n",
       " u'3.6',\n",
       " u'3.7',\n",
       " u'3.8',\n",
       " u'3.9',\n",
       " u'Total']"
      ]
     },
     "execution_count": 113,
     "metadata": {},
     "output_type": "execute_result"
    }
   ],
   "source": [
    "rating_file = 'UPDRS.txt'\n",
    "\n",
    "with open(rating_file, 'r') as infile:\n",
    "    ratings = json.load(infile)\n",
    "\n",
    "sorted(ratings.keys())"
   ]
  },
  {
   "cell_type": "markdown",
   "metadata": {},
   "source": [
    "<a id='CAPSIT'></a>\n",
    "### C. CAPSIT"
   ]
  },
  {
   "cell_type": "markdown",
   "metadata": {},
   "source": [
    "For the CAPSIT, rating keys also correspond to items from the MDS-UPDRS."
   ]
  },
  {
   "cell_type": "code",
   "execution_count": 114,
   "metadata": {
    "collapsed": false
   },
   "outputs": [
    {
     "data": {
      "text/plain": [
       "[u'3.1', u'3.10', u'3.4', u'3.5', u'3.6', u'3.8', u'3.9']"
      ]
     },
     "execution_count": 114,
     "metadata": {},
     "output_type": "execute_result"
    }
   ],
   "source": [
    "rating_file = 'CAPSIT.txt'\n",
    "\n",
    "with open(rating_file, 'r') as infile:\n",
    "    ratings = json.load(infile)\n",
    "\n",
    "sorted(ratings.keys())"
   ]
  },
  {
   "cell_type": "code",
   "execution_count": 115,
   "metadata": {
    "collapsed": false
   },
   "outputs": [
    {
     "data": {
      "text/plain": [
       "[0, 0, 0, 0, 0, 0, 0]"
      ]
     },
     "execution_count": 115,
     "metadata": {},
     "output_type": "execute_result"
    }
   ],
   "source": [
    "ratings['3.10']['214']"
   ]
  },
  {
   "cell_type": "markdown",
   "metadata": {},
   "source": [
    "Within each item is 6 subscores, numbered as follows:\n",
    "\n",
    "[0] Neck  \n",
    "[1] Trunk  \n",
    "[2] Upper limb right  \n",
    "[3] Upper limb left  \n",
    "[4] Lower limb right  \n",
    "[5] Lower limb left  \n",
    "\n",
    "Face has been omitted."
   ]
  },
  {
   "cell_type": "markdown",
   "metadata": {},
   "source": [
    "<a id='Subjects'></a>\n",
    "## 3. Subject Numbers"
   ]
  },
  {
   "cell_type": "markdown",
   "metadata": {},
   "source": [
    "Subject numbers have also been provided to ensure unbiased cross-validation. Dictionary keys are the trial number and the value is the subject number."
   ]
  },
  {
   "cell_type": "code",
   "execution_count": 116,
   "metadata": {
    "collapsed": false
   },
   "outputs": [
    {
     "data": {
      "text/plain": [
       "135"
      ]
     },
     "execution_count": 116,
     "metadata": {},
     "output_type": "execute_result"
    }
   ],
   "source": [
    "sn_file = 'sn_numbers.txt'\n",
    "\n",
    "with open(sn_file, 'r') as infile:\n",
    "    subj_num = json.load(infile)\n",
    "\n",
    "len(subj_num.keys())"
   ]
  },
  {
   "cell_type": "code",
   "execution_count": 117,
   "metadata": {
    "collapsed": false
   },
   "outputs": [
    {
     "data": {
      "text/plain": [
       "11"
      ]
     },
     "execution_count": 117,
     "metadata": {},
     "output_type": "execute_result"
    }
   ],
   "source": [
    "subj_num['217']"
   ]
  },
  {
   "cell_type": "markdown",
   "metadata": {
    "collapsed": true
   },
   "source": [
    "<a id='Demo'></a>\n",
    "## 4. Example "
   ]
  },
  {
   "cell_type": "markdown",
   "metadata": {},
   "source": [
    "Let's look at a sample trajectory, the right shoulder for the communication task, trial 56-2."
   ]
  },
  {
   "cell_type": "code",
   "execution_count": 118,
   "metadata": {
    "collapsed": false
   },
   "outputs": [
    {
     "data": {
      "text/plain": [
       "[<matplotlib.lines.Line2D at 0x10624860>]"
      ]
     },
     "execution_count": 118,
     "metadata": {},
     "output_type": "execute_result"
    },
    {
     "data": {
      "image/png": "[encoded data removed]",
      "text/plain": [
       "<matplotlib.figure.Figure at 0xea77c88>"
      ]
     },
     "metadata": {},
     "output_type": "display_data"
    }
   ],
   "source": [
    "%matplotlib inline\n",
    "\n",
    "trial_num = '56-2'\n",
    "\n",
    "plt.plot(np.array(comm_dict[trial_num]['position']['Rsho'])[:,0])"
   ]
  },
  {
   "cell_type": "markdown",
   "metadata": {},
   "source": [
    "Based on the amount of movement, we would likely expect a non-zero dyskinesia severity score. Let's check the UDysRS."
   ]
  },
  {
   "cell_type": "code",
   "execution_count": 120,
   "metadata": {
    "collapsed": false
   },
   "outputs": [
    {
     "data": {
      "text/plain": [
       "[1, 2, 1.5, 1.5, 2, 2]"
      ]
     },
     "execution_count": 120,
     "metadata": {},
     "output_type": "execute_result"
    }
   ],
   "source": [
    "rating_file = 'UDysRS.txt'\n",
    "\n",
    "with open(rating_file, 'r') as infile:\n",
    "    ratings = json.load(infile)\n",
    "\n",
    "# If using communication task, will have to split the trial num to get the key\n",
    "# split can also be done using str.split(), but regexp allows split on space or hyphen\n",
    "import re\n",
    "\n",
    "trial_key = re.split(\"\\s|-\", trial_num)[0]  \n",
    "ratings['Communication'][trial_key]"
   ]
  },
  {
   "cell_type": "markdown",
   "metadata": {},
   "source": [
    "The right shoulder/arm score for the UDysRS is the 2nd rating, which is 2. We can also check the subject number for this trajectory."
   ]
  },
  {
   "cell_type": "code",
   "execution_count": 71,
   "metadata": {
    "collapsed": false
   },
   "outputs": [
    {
     "data": {
      "text/plain": [
       "6"
      ]
     },
     "execution_count": 71,
     "metadata": {},
     "output_type": "execute_result"
    }
   ],
   "source": [
    "subj_num[trial_key]"
   ]
  }
 ],
 "metadata": {
  "kernelspec": {
   "display_name": "Python 2",
   "language": "python",
   "name": "python2"
  },
  "language_info": {
   "codemirror_mode": {
    "name": "ipython",
    "version": 2
   },
   "file_extension": ".py",
   "mimetype": "text/x-python",
   "name": "python",
   "nbconvert_exporter": "python",
   "pygments_lexer": "ipython2",
   "version": "2.7.9"
  }
 },
 "nbformat": 4,
 "nbformat_minor": 0
}

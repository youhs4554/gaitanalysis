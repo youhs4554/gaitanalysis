{
 "cells": [
  {
   "cell_type": "code",
   "execution_count": 2,
   "metadata": {},
   "outputs": [],
   "source": [
    "import pandas as pd\n",
    "import numpy as np\n",
    "import os\n",
    "import cv2\n",
    "import natsort\n",
    "import matplotlib.pyplot as plt\n",
    "from tqdm import tqdm\n",
    "import glob"
   ]
  },
  {
   "cell_type": "markdown",
   "metadata": {},
   "source": [
    "# data 1 : URFD\n",
    "- step 1 : pack each directory containing .png files as .avi file (to follow UCF format)\n",
    "- step 2 : re-arange video files according to the class label\n",
    "- step 3 : copy-and-paste UCF clip generation code..."
   ]
  },
  {
   "cell_type": "code",
   "execution_count": 2,
   "metadata": {},
   "outputs": [
    {
     "name": "stderr",
     "output_type": "stream",
     "text": [
      "0it [00:00, ?it/s]\n"
     ]
    }
   ],
   "source": [
    "root = '/data/FallDownData/URFD_origin/raw'\n",
    "video_files = natsort.natsorted(glob.glob(root + '/*/*'))\n",
    "for video in tqdm(video_files):\n",
    "    prefix, ext = os.path.splitext(video)\n",
    "    save_path = prefix.replace('raw', 'video') + '.avi'\n",
    "    \n",
    "    frame_list = natsort.natsorted(glob.glob(video+'/*'))        \n",
    "    first_frame = cv2.imread(frame_list[0])\n",
    "    out = cv2.VideoWriter(save_path,\n",
    "                          cv2.VideoWriter_fourcc('M','J','P','G'), \n",
    "                          30, (first_frame.shape[:-1][::-1]))\n",
    "    for img_file in frame_list:\n",
    "        img_arr = cv2.imread(img_file)\n",
    "        out.write(img_arr)\n",
    "        \n",
    "    os.system('mkdir -p {}'.format(os.path.dirname(save_path)))\n",
    "    out.release()"
   ]
  },
  {
   "cell_type": "code",
   "execution_count": null,
   "metadata": {},
   "outputs": [],
   "source": [
    "# root = '/data/FallDownData/URFD/raw'\n",
    "# video_files = natsort.natsorted(glob.glob(root + '/*/*'))\n",
    "# for video in tqdm(video_files):\n",
    "#     prefix, ext = os.path.splitext(video)\n",
    "#     save_path = prefix.replace('raw', 'video') + '.avi'\n",
    "    \n",
    "#     frames = []\n",
    "    \n",
    "#     cap = cv2.VideoCapture(video)\n",
    "#     frame_height, frame_width = int(cap.get(cv2.CAP_PROP_FRAME_HEIGHT)), int(cap.get(cv2.CAP_PROP_FRAME_WIDTH))\n",
    "    \n",
    "#     out = cv2.VideoWriter(save_path,\n",
    "#                           cv2.VideoWriter_fourcc('M','J','P','G'), \n",
    "#                           30, (frame_width//2,frame_height))\n",
    "    \n",
    "#     while True:\n",
    "#         ret, frame = cap.read()\n",
    "#         if not ret:\n",
    "#             break\n",
    "            \n",
    "#         # left : depth, right : color\n",
    "#         color_frame = frame[:, frame_width//2:]\n",
    "#         out.write(color_frame)\n",
    "\n",
    "#     os.system('mkdir -p {}'.format(os.path.dirname(save_path)))\n",
    "#     out.release()"
   ]
  },
  {
   "cell_type": "markdown",
   "metadata": {},
   "source": [
    "# data 2 : Multicam FDD\n",
    "- this dataset is bullshit!\n",
    "- syncronization is not matched well"
   ]
  },
  {
   "cell_type": "code",
   "execution_count": 96,
   "metadata": {},
   "outputs": [],
   "source": [
    "root = '/data/FallDownData/MulticamFD/raw'\n",
    "df = pd.read_csv(os.path.join(os.path.dirname(root), 'Multicam_Annotations.csv'))"
   ]
  },
  {
   "cell_type": "code",
   "execution_count": 97,
   "metadata": {},
   "outputs": [
    {
     "data": {
      "text/plain": [
       "(163, 5)"
      ]
     },
     "execution_count": 97,
     "metadata": {},
     "output_type": "execute_result"
    }
   ],
   "source": [
    "df.shape"
   ]
  },
  {
   "cell_type": "code",
   "execution_count": 98,
   "metadata": {},
   "outputs": [
    {
     "name": "stdout",
     "output_type": "stream",
     "text": [
      "Counter({'Walking, standing up': 36, 'Moving up': 29, 'Moving down': 26, 'Falling': 25, 'Lying on the ground': 23, 'Crounching': 11, 'Sitting': 9, 'Lying on a sofa': 4})\n"
     ]
    },
    {
     "data": {
      "text/plain": [
       "138"
      ]
     },
     "execution_count": 98,
     "metadata": {},
     "output_type": "execute_result"
    }
   ],
   "source": [
    "ix2label = {1: \"Walking, standing up\",\n",
    "2 : \"Falling\",\n",
    "3 : \"Lying on the ground\",\n",
    "4 : \"Crounching\",\n",
    "5 : \"Moving down\",\n",
    "6 : \"Moving up\",\n",
    "7 : \"Sitting\",\n",
    "8 : \"Lying on a sofa\",\n",
    "9 : \"Moving horizontaly\"}\n",
    "\n",
    "\n",
    "from collections import Counter\n",
    "\n",
    "foo = Counter(df.code.map(ix2label))\n",
    "print(foo)\n",
    "foo.pop(\"Falling\")\n",
    "sum(foo.values())\n",
    "\n",
    "# df[\"camera_reference\"].unique()"
   ]
  },
  {
   "cell_type": "code",
   "execution_count": 45,
   "metadata": {},
   "outputs": [
    {
     "data": {
      "text/html": [
       "<div>\n",
       "<style scoped>\n",
       "    .dataframe tbody tr th:only-of-type {\n",
       "        vertical-align: middle;\n",
       "    }\n",
       "\n",
       "    .dataframe tbody tr th {\n",
       "        vertical-align: top;\n",
       "    }\n",
       "\n",
       "    .dataframe thead th {\n",
       "        text-align: right;\n",
       "    }\n",
       "</style>\n",
       "<table border=\"1\" class=\"dataframe\">\n",
       "  <thead>\n",
       "    <tr style=\"text-align: right;\">\n",
       "      <th></th>\n",
       "      <th>id</th>\n",
       "      <th>camera_reference</th>\n",
       "      <th>start</th>\n",
       "      <th>end</th>\n",
       "      <th>code</th>\n",
       "    </tr>\n",
       "  </thead>\n",
       "  <tbody>\n",
       "    <tr>\n",
       "      <th>0</th>\n",
       "      <td>1</td>\n",
       "      <td>11</td>\n",
       "      <td>874</td>\n",
       "      <td>1011</td>\n",
       "      <td>1</td>\n",
       "    </tr>\n",
       "    <tr>\n",
       "      <th>1</th>\n",
       "      <td>1</td>\n",
       "      <td>11</td>\n",
       "      <td>1012</td>\n",
       "      <td>1079</td>\n",
       "      <td>6</td>\n",
       "    </tr>\n",
       "    <tr>\n",
       "      <th>2</th>\n",
       "      <td>1</td>\n",
       "      <td>11</td>\n",
       "      <td>1080</td>\n",
       "      <td>1108</td>\n",
       "      <td>2</td>\n",
       "    </tr>\n",
       "    <tr>\n",
       "      <th>3</th>\n",
       "      <td>1</td>\n",
       "      <td>11</td>\n",
       "      <td>1109</td>\n",
       "      <td>1285</td>\n",
       "      <td>3</td>\n",
       "    </tr>\n",
       "  </tbody>\n",
       "</table>\n",
       "</div>"
      ],
      "text/plain": [
       "   id  camera_reference  start   end  code\n",
       "0   1                11    874  1011     1\n",
       "1   1                11   1012  1079     6\n",
       "2   1                11   1080  1108     2\n",
       "3   1                11   1109  1285     3"
      ]
     },
     "execution_count": 45,
     "metadata": {},
     "output_type": "execute_result"
    }
   ],
   "source": [
    "df[df.id==1]"
   ]
  },
  {
   "cell_type": "code",
   "execution_count": null,
   "metadata": {},
   "outputs": [
    {
     "name": "stderr",
     "output_type": "stream",
     "text": [
      "\r",
      "  0%|          | 0/24 [00:00<?, ?it/s]"
     ]
    },
    {
     "name": "stdout",
     "output_type": "stream",
     "text": [
      "/data/FallDownData/MulticamFD/raw/chute01 cam:1, delay:3\n",
      "/data/FallDownData/MulticamFD/raw/chute01 cam:2, delay:3\n",
      "/data/FallDownData/MulticamFD/raw/chute01 cam:3, delay:8\n",
      "/data/FallDownData/MulticamFD/raw/chute01 cam:4, delay:4\n",
      "/data/FallDownData/MulticamFD/raw/chute01 cam:5, delay:23\n",
      "/data/FallDownData/MulticamFD/raw/chute01 cam:6, delay:6\n",
      "/data/FallDownData/MulticamFD/raw/chute01 cam:7, delay:6\n",
      "/data/FallDownData/MulticamFD/raw/chute01 cam:8, delay:0\n"
     ]
    },
    {
     "name": "stderr",
     "output_type": "stream",
     "text": [
      "\r",
      "  4%|▍         | 1/24 [01:28<33:59, 88.69s/it]"
     ]
    },
    {
     "name": "stdout",
     "output_type": "stream",
     "text": [
      "/data/FallDownData/MulticamFD/raw/chute02 cam:1, delay:25\n",
      "/data/FallDownData/MulticamFD/raw/chute02 cam:2, delay:40\n",
      "/data/FallDownData/MulticamFD/raw/chute02 cam:3, delay:0\n",
      "/data/FallDownData/MulticamFD/raw/chute02 cam:4, delay:16\n",
      "/data/FallDownData/MulticamFD/raw/chute02 cam:5, delay:18\n",
      "/data/FallDownData/MulticamFD/raw/chute02 cam:6, delay:33\n",
      "/data/FallDownData/MulticamFD/raw/chute02 cam:7, delay:33\n",
      "/data/FallDownData/MulticamFD/raw/chute02 cam:8, delay:6\n"
     ]
    },
    {
     "name": "stderr",
     "output_type": "stream",
     "text": [
      "\r",
      "  8%|▊         | 2/24 [02:04<26:44, 72.93s/it]"
     ]
    },
    {
     "name": "stdout",
     "output_type": "stream",
     "text": [
      "/data/FallDownData/MulticamFD/raw/chute03 cam:1, delay:12\n",
      "/data/FallDownData/MulticamFD/raw/chute03 cam:2, delay:16\n",
      "/data/FallDownData/MulticamFD/raw/chute03 cam:3, delay:8\n",
      "/data/FallDownData/MulticamFD/raw/chute03 cam:4, delay:16\n",
      "/data/FallDownData/MulticamFD/raw/chute03 cam:5, delay:35\n",
      "/data/FallDownData/MulticamFD/raw/chute03 cam:6, delay:20\n",
      "/data/FallDownData/MulticamFD/raw/chute03 cam:7, delay:20\n",
      "/data/FallDownData/MulticamFD/raw/chute03 cam:8, delay:0\n"
     ]
    },
    {
     "name": "stderr",
     "output_type": "stream",
     "text": [
      "\r",
      " 12%|█▎        | 3/24 [02:51<22:46, 65.08s/it]"
     ]
    },
    {
     "name": "stdout",
     "output_type": "stream",
     "text": [
      "/data/FallDownData/MulticamFD/raw/chute04 cam:1, delay:72\n",
      "/data/FallDownData/MulticamFD/raw/chute04 cam:2, delay:79\n",
      "/data/FallDownData/MulticamFD/raw/chute04 cam:3, delay:78\n",
      "/data/FallDownData/MulticamFD/raw/chute04 cam:4, delay:0\n",
      "/data/FallDownData/MulticamFD/raw/chute04 cam:5, delay:68\n",
      "/data/FallDownData/MulticamFD/raw/chute04 cam:6, delay:82\n",
      "/data/FallDownData/MulticamFD/raw/chute04 cam:7, delay:83\n",
      "/data/FallDownData/MulticamFD/raw/chute04 cam:8, delay:56\n"
     ]
    },
    {
     "name": "stderr",
     "output_type": "stream",
     "text": [
      "\r",
      " 17%|█▋        | 4/24 [04:07<22:43, 68.19s/it]"
     ]
    },
    {
     "name": "stdout",
     "output_type": "stream",
     "text": [
      "/data/FallDownData/MulticamFD/raw/chute05 cam:1, delay:17\n",
      "/data/FallDownData/MulticamFD/raw/chute05 cam:2, delay:24\n",
      "/data/FallDownData/MulticamFD/raw/chute05 cam:3, delay:5\n",
      "/data/FallDownData/MulticamFD/raw/chute05 cam:4, delay:11\n",
      "/data/FallDownData/MulticamFD/raw/chute05 cam:5, delay:187\n",
      "/data/FallDownData/MulticamFD/raw/chute05 cam:6, delay:26\n",
      "/data/FallDownData/MulticamFD/raw/chute05 cam:7, delay:28\n",
      "/data/FallDownData/MulticamFD/raw/chute05 cam:8, delay:0\n"
     ]
    },
    {
     "name": "stderr",
     "output_type": "stream",
     "text": [
      "\r",
      " 21%|██        | 5/24 [04:38<18:03, 57.05s/it]"
     ]
    },
    {
     "name": "stdout",
     "output_type": "stream",
     "text": [
      "/data/FallDownData/MulticamFD/raw/chute06 cam:1, delay:0\n",
      "/data/FallDownData/MulticamFD/raw/chute06 cam:2, delay:100\n",
      "/data/FallDownData/MulticamFD/raw/chute06 cam:3, delay:106\n",
      "/data/FallDownData/MulticamFD/raw/chute06 cam:4, delay:90\n",
      "/data/FallDownData/MulticamFD/raw/chute06 cam:5, delay:89\n",
      "/data/FallDownData/MulticamFD/raw/chute06 cam:6, delay:103\n",
      "/data/FallDownData/MulticamFD/raw/chute06 cam:7, delay:104\n",
      "/data/FallDownData/MulticamFD/raw/chute06 cam:8, delay:89\n"
     ]
    },
    {
     "name": "stderr",
     "output_type": "stream",
     "text": [
      "\r",
      " 25%|██▌       | 6/24 [05:46<18:08, 60.46s/it]"
     ]
    },
    {
     "name": "stdout",
     "output_type": "stream",
     "text": [
      "/data/FallDownData/MulticamFD/raw/chute07 cam:1, delay:28\n",
      "/data/FallDownData/MulticamFD/raw/chute07 cam:2, delay:14\n",
      "/data/FallDownData/MulticamFD/raw/chute07 cam:3, delay:16\n",
      "/data/FallDownData/MulticamFD/raw/chute07 cam:4, delay:0\n",
      "/data/FallDownData/MulticamFD/raw/chute07 cam:5, delay:1\n",
      "/data/FallDownData/MulticamFD/raw/chute07 cam:6, delay:17\n",
      "/data/FallDownData/MulticamFD/raw/chute07 cam:7, delay:18\n",
      "/data/FallDownData/MulticamFD/raw/chute07 cam:8, delay:20\n"
     ]
    },
    {
     "name": "stderr",
     "output_type": "stream",
     "text": [
      "\r",
      " 29%|██▉       | 7/24 [06:30<15:44, 55.56s/it]"
     ]
    },
    {
     "name": "stdout",
     "output_type": "stream",
     "text": [
      "/data/FallDownData/MulticamFD/raw/chute08 cam:1, delay:92\n",
      "/data/FallDownData/MulticamFD/raw/chute08 cam:2, delay:79\n",
      "/data/FallDownData/MulticamFD/raw/chute08 cam:3, delay:0\n",
      "/data/FallDownData/MulticamFD/raw/chute08 cam:4, delay:81\n",
      "/data/FallDownData/MulticamFD/raw/chute08 cam:5, delay:64\n",
      "/data/FallDownData/MulticamFD/raw/chute08 cam:6, delay:81\n",
      "/data/FallDownData/MulticamFD/raw/chute08 cam:7, delay:82\n",
      "/data/FallDownData/MulticamFD/raw/chute08 cam:8, delay:56\n"
     ]
    },
    {
     "name": "stderr",
     "output_type": "stream",
     "text": [
      "\r",
      " 33%|███▎      | 8/24 [07:01<12:50, 48.17s/it]"
     ]
    },
    {
     "name": "stdout",
     "output_type": "stream",
     "text": [
      "/data/FallDownData/MulticamFD/raw/chute09 cam:1, delay:18\n",
      "/data/FallDownData/MulticamFD/raw/chute09 cam:2, delay:9\n",
      "/data/FallDownData/MulticamFD/raw/chute09 cam:3, delay:1\n",
      "/data/FallDownData/MulticamFD/raw/chute09 cam:4, delay:19\n",
      "/data/FallDownData/MulticamFD/raw/chute09 cam:5, delay:13\n",
      "/data/FallDownData/MulticamFD/raw/chute09 cam:6, delay:11\n",
      "/data/FallDownData/MulticamFD/raw/chute09 cam:7, delay:12\n",
      "/data/FallDownData/MulticamFD/raw/chute09 cam:8, delay:0\n"
     ]
    },
    {
     "name": "stderr",
     "output_type": "stream",
     "text": [
      "\r",
      " 38%|███▊      | 9/24 [08:08<13:27, 53.86s/it]"
     ]
    },
    {
     "name": "stdout",
     "output_type": "stream",
     "text": [
      "/data/FallDownData/MulticamFD/raw/chute10 cam:1, delay:14\n",
      "/data/FallDownData/MulticamFD/raw/chute10 cam:2, delay:15\n",
      "/data/FallDownData/MulticamFD/raw/chute10 cam:3, delay:19\n",
      "/data/FallDownData/MulticamFD/raw/chute10 cam:4, delay:33\n",
      "/data/FallDownData/MulticamFD/raw/chute10 cam:5, delay:12\n",
      "/data/FallDownData/MulticamFD/raw/chute10 cam:6, delay:17\n",
      "/data/FallDownData/MulticamFD/raw/chute10 cam:7, delay:19\n",
      "/data/FallDownData/MulticamFD/raw/chute10 cam:8, delay:0\n"
     ]
    },
    {
     "name": "stderr",
     "output_type": "stream",
     "text": [
      "\r",
      " 42%|████▏     | 10/24 [09:00<12:25, 53.25s/it]"
     ]
    },
    {
     "name": "stdout",
     "output_type": "stream",
     "text": [
      "/data/FallDownData/MulticamFD/raw/chute11 cam:1, delay:23\n",
      "/data/FallDownData/MulticamFD/raw/chute11 cam:2, delay:4\n",
      "/data/FallDownData/MulticamFD/raw/chute11 cam:3, delay:20\n",
      "/data/FallDownData/MulticamFD/raw/chute11 cam:4, delay:14\n",
      "/data/FallDownData/MulticamFD/raw/chute11 cam:5, delay:0\n",
      "/data/FallDownData/MulticamFD/raw/chute11 cam:6, delay:6\n",
      "/data/FallDownData/MulticamFD/raw/chute11 cam:7, delay:7\n",
      "/data/FallDownData/MulticamFD/raw/chute11 cam:8, delay:12\n"
     ]
    },
    {
     "name": "stderr",
     "output_type": "stream",
     "text": [
      "\r",
      " 46%|████▌     | 11/24 [09:38<10:31, 48.60s/it]"
     ]
    },
    {
     "name": "stdout",
     "output_type": "stream",
     "text": [
      "/data/FallDownData/MulticamFD/raw/chute12 cam:1, delay:21\n",
      "/data/FallDownData/MulticamFD/raw/chute12 cam:2, delay:16\n",
      "/data/FallDownData/MulticamFD/raw/chute12 cam:3, delay:13\n",
      "/data/FallDownData/MulticamFD/raw/chute12 cam:4, delay:8\n",
      "/data/FallDownData/MulticamFD/raw/chute12 cam:5, delay:0\n",
      "/data/FallDownData/MulticamFD/raw/chute12 cam:6, delay:3\n",
      "/data/FallDownData/MulticamFD/raw/chute12 cam:7, delay:7\n",
      "/data/FallDownData/MulticamFD/raw/chute12 cam:8, delay:0\n"
     ]
    },
    {
     "name": "stderr",
     "output_type": "stream",
     "text": [
      "\r",
      " 50%|█████     | 12/24 [10:33<10:05, 50.47s/it]"
     ]
    },
    {
     "name": "stdout",
     "output_type": "stream",
     "text": [
      "/data/FallDownData/MulticamFD/raw/chute13 cam:1, delay:16\n",
      "/data/FallDownData/MulticamFD/raw/chute13 cam:2, delay:33\n",
      "/data/FallDownData/MulticamFD/raw/chute13 cam:3, delay:0\n",
      "/data/FallDownData/MulticamFD/raw/chute13 cam:4, delay:7\n",
      "/data/FallDownData/MulticamFD/raw/chute13 cam:5, delay:27\n",
      "/data/FallDownData/MulticamFD/raw/chute13 cam:6, delay:27\n",
      "/data/FallDownData/MulticamFD/raw/chute13 cam:7, delay:36\n",
      "/data/FallDownData/MulticamFD/raw/chute13 cam:8, delay:13\n"
     ]
    }
   ],
   "source": [
    "# def arange_multicam_dataset(root):\n",
    "videos = []\n",
    "\n",
    "for dirpath, dirnames, filenames in os.walk(root):\n",
    "    for fn in filenames:\n",
    "        name, ext = os.path.splitext(fn)\n",
    "        if ext == '.avi':\n",
    "            videos.append(os.path.join(dirpath, fn))\n",
    "\n",
    "\n",
    "videos = natsort.natsorted(videos)\n",
    "scenarios = np.unique([os.path.dirname(p) for p in videos])\n",
    "\n",
    "num_cameras = 8\n",
    "\n",
    "import json\n",
    "\n",
    "delays_file = \"/data/FallDownData/MulticamFD/delays_multicam.json\"\n",
    "with open(delays_file, 'r') as json_file:\n",
    "    delays = json.load(json_file)\n",
    "\n",
    "for scenario in tqdm(scenarios):\n",
    "    scenario_id = eval(os.path.basename(scenario).split('chute')[1].lstrip('0'))\n",
    "    scenario_video_home = os.path.dirname(scenario).replace('raw', 'video')\n",
    "\n",
    "    syncronized = []\n",
    "    for i in range(1,num_cameras+1):\n",
    "        vpath = os.path.join(scenario, f'cam{i}.avi')\n",
    "        # Delay of this camara for this scenario\n",
    "        delay = delays['camera{}'.format(i)][str(scenario_id)]\n",
    "        \n",
    "        print(scenario, f\"cam:{i}, delay:{delay}\")\n",
    "\n",
    "        cap = cv2.VideoCapture(vpath)\n",
    "        frames = []\n",
    "        while True:\n",
    "            ret, frame = cap.read()\n",
    "            if not ret:\n",
    "                break\n",
    "            frames.append(frame)\n",
    "\n",
    "        syncronized.append(frames[delay:])\n",
    "\n",
    "    for seg_ix, (start, end, code) in enumerate(df[df.id==scenario_id][[\"start\",\"end\",\"code\"]].values):\n",
    "\n",
    "        label = 'fall' if code == 2 else 'adl'\n",
    "        scenario_video = os.path.join(scenario_video_home, label)\n",
    "\n",
    "        os.system('mkdir -p {}'.format(scenario_video))\n",
    "\n",
    "        for i in range(1,num_cameras+1):\n",
    "            subclip = np.array(syncronized[i-1])[start:end]\n",
    "            seg_ix_str = str(seg_ix+1).zfill(2)\n",
    "            vpath = os.path.join(scenario, f'cam{i}.avi')\n",
    "            scenario_indicator = os.path.basename(scenario)\n",
    "\n",
    "            seg_vpath = os.path.join(scenario_video, f'{scenario_indicator}-cam{i}-s{seg_ix_str}.avi')\n",
    "\n",
    "            frame_height, frame_width = subclip[0].shape[:2]\n",
    "\n",
    "            fps = cv2.VideoCapture(vpath).get(cv2.CAP_PROP_FPS)\n",
    "\n",
    "            out = cv2.VideoWriter(seg_vpath,\n",
    "                              cv2.VideoWriter_fourcc('M','J','P','G'), \n",
    "                              fps, (frame_width,frame_height))\n",
    "\n",
    "            for frame in subclip:\n",
    "                out.write(frame)\n",
    "\n",
    "                    \n",
    "# arange_multicam_dataset(root)"
   ]
  },
  {
   "cell_type": "code",
   "execution_count": 162,
   "metadata": {},
   "outputs": [
    {
     "data": {
      "text/plain": [
       "[750, 750, 750, 750, 581, 750, 750, 750]"
      ]
     },
     "execution_count": 162,
     "metadata": {},
     "output_type": "execute_result"
    }
   ],
   "source": [
    "[ len(j) for j in syncronized ]"
   ]
  },
  {
   "cell_type": "code",
   "execution_count": 25,
   "metadata": {},
   "outputs": [
    {
     "data": {
      "text/plain": [
       "<matplotlib.image.AxesImage at 0x7f400ef48fd0>"
      ]
     },
     "execution_count": 25,
     "metadata": {},
     "output_type": "execute_result"
    },
    {
     "data": {
      "image/png": "[encoded data removed]",
      "text/plain": [
       "<Figure size 432x288 with 1 Axes>"
      ]
     },
     "metadata": {
      "needs_background": "light"
     },
     "output_type": "display_data"
    }
   ],
   "source": [
    "cap = cv2.VideoCapture('/data/FallDownData/MulticamFD/video/fall/chute09-cam6-s05.avi')\n",
    "\n",
    "frames = []\n",
    "while True:\n",
    "    ret, frame = cap.read()\n",
    "    if not ret:\n",
    "        break\n",
    "    frames.append(frame)\n",
    "\n",
    "def check_detection_result(img, box):\n",
    "    #bx,by,bw,bh = 307.466186523,196.785614014,86.6007080078,166.478393555\n",
    "    bx,by,bw,bh = box\n",
    "    xmin, ymin, xmax, ymax = int(bx-bw/2), int(by-bh/2), int(bx+bw/2), int(by+bh/2)\n",
    "    return img[ymin:ymax, xmin:xmax]\n",
    "\n",
    "plt.imshow(check_detection_result(frames[16], (370.211120605,174.12197876,88.2487030029,67.7461776733)))"
   ]
  },
  {
   "cell_type": "code",
   "execution_count": null,
   "metadata": {},
   "outputs": [],
   "source": [
    "plt.imshow(frames[17])"
   ]
  },
  {
   "cell_type": "code",
   "execution_count": 123,
   "metadata": {},
   "outputs": [
    {
     "name": "stdout",
     "output_type": "stream",
     "text": [
      "/data/FallDownData/URFD/video/fall/fall-02-cam0-rgb.avi 110.0\n",
      "/data/FallDownData/URFD/video/fall/fall-03-cam0-rgb.avi 215.0\n",
      "/data/FallDownData/URFD/video/fall/fall-04-cam0-rgb.avi 96.0\n",
      "/data/FallDownData/URFD/video/fall/fall-05-cam0-rgb.avi 151.0\n",
      "/data/FallDownData/URFD/video/fall/fall-06-cam0-rgb.avi 100.0\n",
      "/data/FallDownData/URFD/video/fall/fall-07-cam0-rgb.avi 156.0\n",
      "/data/FallDownData/URFD/video/fall/fall-08-cam0-rgb.avi 91.0\n",
      "/data/FallDownData/URFD/video/fall/fall-09-cam0-rgb.avi 185.0\n",
      "/data/FallDownData/URFD/video/fall/fall-10-cam0-rgb.avi 130.0\n",
      "/data/FallDownData/URFD/video/fall/fall-11-cam0-rgb.avi 130.0\n",
      "/data/FallDownData/URFD/video/fall/fall-12-cam0-rgb.avi 110.0\n",
      "/data/FallDownData/URFD/video/fall/fall-13-cam0-rgb.avi 85.0\n",
      "/data/FallDownData/URFD/video/fall/fall-14-cam0-rgb.avi 61.0\n",
      "/data/FallDownData/URFD/video/fall/fall-15-cam0-rgb.avi 71.0\n",
      "/data/FallDownData/URFD/video/fall/fall-16-cam0-rgb.avi 55.0\n",
      "/data/FallDownData/URFD/video/fall/fall-17-cam0-rgb.avi 95.0\n",
      "/data/FallDownData/URFD/video/fall/fall-18-cam0-rgb.avi 65.0\n",
      "/data/FallDownData/URFD/video/fall/fall-19-cam0-rgb.avi 100.0\n",
      "/data/FallDownData/URFD/video/fall/fall-20-cam0-rgb.avi 110.0\n",
      "/data/FallDownData/URFD/video/fall/fall-21-cam0-rgb.avi 55.0\n",
      "/data/FallDownData/URFD/video/fall/fall-22-cam0-rgb.avi 56.0\n",
      "/data/FallDownData/URFD/video/fall/fall-23-cam0-rgb.avi 75.0\n",
      "/data/FallDownData/URFD/video/fall/fall-24-cam0-rgb.avi 60.0\n",
      "/data/FallDownData/URFD/video/fall/fall-25-cam0-rgb.avi 85.0\n",
      "/data/FallDownData/URFD/video/fall/fall-26-cam0-rgb.avi 61.0\n",
      "/data/FallDownData/URFD/video/fall/fall-27-cam0-rgb.avi 92.0\n",
      "/data/FallDownData/URFD/video/fall/fall-28-cam0-rgb.avi 66.0\n",
      "/data/FallDownData/URFD/video/fall/fall-29-cam0-rgb.avi 99.0\n",
      "/data/FallDownData/URFD/video/fall/fall-30-cam0-rgb.avi 70.0\n",
      "2835.0 59\n"
     ]
    }
   ],
   "source": [
    "fall_videos = natsort.natsorted(glob.glob('/data/FallDownData/URFD/video/fall/*.avi'))\n",
    "len(fall_videos)\n",
    "\n",
    "fall_frame_cnt = 0\n",
    "L = 10\n",
    "for v in fall_videos:\n",
    "    if \"cam1\" in v:\n",
    "        continue\n",
    "    cap = cv2.VideoCapture(v)\n",
    "    n = cap.get(cv2.CAP_PROP_FRAME_COUNT)\n",
    "    fps = cap.get(cv2.CAP_PROP_FPS)\n",
    "    print(v, n)\n",
    "    \n",
    "    fall_frame_cnt += n\n",
    "print(fall_frame_cnt, len(fall_videos))"
   ]
  },
  {
   "cell_type": "code",
   "execution_count": 126,
   "metadata": {},
   "outputs": [
    {
     "data": {
      "text/plain": [
       "3.1537918871252204"
      ]
     },
     "execution_count": 126,
     "metadata": {},
     "output_type": "execute_result"
    }
   ],
   "source": [
    "8941/2835"
   ]
  },
  {
   "cell_type": "code",
   "execution_count": 125,
   "metadata": {},
   "outputs": [
    {
     "data": {
      "text/plain": [
       "12.262222222222222"
      ]
     },
     "execution_count": 125,
     "metadata": {},
     "output_type": "execute_result"
    }
   ],
   "source": [
    "11036/900"
   ]
  },
  {
   "cell_type": "code",
   "execution_count": 75,
   "metadata": {},
   "outputs": [
    {
     "data": {
      "text/plain": [
       "912"
      ]
     },
     "execution_count": 75,
     "metadata": {},
     "output_type": "execute_result"
    }
   ],
   "source": [
    "train_list = pd.read_csv(\"/data/FallDownData/MulticamFD/TrainTestlist/trainlist01.txt\", sep=\" \", names=[\"id\", \"lab\"])\n",
    "test_list = pd.read_csv(\"/data/FallDownData/MulticamFD/TrainTestlist/testlist01.txt\", sep=\" \", names=[\"id\", \"lab\"])\n",
    "# len(train_list[train_list.lab != 1]) + len(test_list[test_list.lab != 1])\n",
    "len(train_list) + len(test_list)"
   ]
  },
  {
   "cell_type": "code",
   "execution_count": null,
   "metadata": {},
   "outputs": [],
   "source": [
    "with open('/data/torch_data/UCF-101/ucfTrainTestlist/trainlist01.txt') as f:\n",
    "    ucfList = f.readlines()\n",
    "    labels = [ line.strip().split()[1] for line in ucfList ]"
   ]
  },
  {
   "cell_type": "code",
   "execution_count": null,
   "metadata": {},
   "outputs": [],
   "source": [
    "np.unique(labels, return_counts=True)"
   ]
  },
  {
   "cell_type": "markdown",
   "metadata": {},
   "source": [
    "# Create Traintests-plit for cross-validation"
   ]
  },
  {
   "cell_type": "code",
   "execution_count": 129,
   "metadata": {},
   "outputs": [],
   "source": [
    "from sklearn.model_selection import StratifiedKFold, LeaveOneOut\n",
    "import itertools"
   ]
  },
  {
   "cell_type": "code",
   "execution_count": 154,
   "metadata": {},
   "outputs": [],
   "source": [
    "def create_traintestList(root, annotation_path, random_state=0, n_splits=5):\n",
    "    dataset_name = os.path.basename(os.path.dirname(root.rstrip('/')))\n",
    "    \n",
    "    os.system(f'mkdir -p {annotation_path}')\n",
    "\n",
    "    video_dirs = natsort.natsorted(glob.glob(root + '/*/*'))\n",
    "\n",
    "    np.random.seed(random_state)\n",
    "    np.random.shuffle(video_dirs)\n",
    "\n",
    "    class2idx = {'adl':0, 'fall':1}\n",
    "\n",
    "    formated_video_dirs = np.array([ x[len(root.rstrip('/'))+1:] for x in video_dirs ])\n",
    "    \n",
    "    # split based on scenario\n",
    "#     scenarios = np.array(\n",
    "#         list(set([ os.path.basename(x).split('-')[0] for x in formated_video_dirs ]))\n",
    "#     )\n",
    "\n",
    "    # split based on camera\n",
    "    scenarios = np.array(\n",
    "        natsort.natsorted(list(set([ os.path.basename(x).split('-')[1] for x in formated_video_dirs ]))\n",
    "    ))\n",
    "\n",
    "    loo = LeaveOneOut()\n",
    "    kf = StratifiedKFold(n_splits=n_splits)\n",
    "    \n",
    "    data_to_split = None\n",
    "    if dataset_name == 'URFD':\n",
    "        data_to_split = formated_video_dirs\n",
    "        formated_video_dirs = [ j for j in formated_video_dirs if \"cam0\" in j]\n",
    "    elif dataset_name == 'MulticamFD':\n",
    "        data_to_split = scenarios    \n",
    "        \n",
    "    def get_train_test_split(train_ix, test_ix):\n",
    "        if dataset_name == 'URFD':\n",
    "            _train, _test = np.array(formated_video_dirs)[train_ix], np.array(formated_video_dirs)[test_ix]\n",
    "        elif dataset_name == 'MulticamFD':\n",
    "            train_scenario_str, test_scenario_str = scenarios[train_ix], scenarios[test_ix]\n",
    "            print(f'[splist-{k}] train : {np.unique(train_scenario_str)}, test : {np.unique(test_scenario_str)}')\n",
    "            \n",
    "            _test = []\n",
    "            for s in test_scenario_str:\n",
    "                _test.append(formated_video_dirs[np.char.find(formated_video_dirs, s) != -1])\n",
    "\n",
    "                \n",
    "            _test = list(itertools.chain(*_test))\n",
    "            _train = list(set(formated_video_dirs)-set(_test))\n",
    "\n",
    "        return _train, _test\n",
    "\n",
    "\n",
    "    for k, (train_ix, test_ix) in enumerate(kf.split(formated_video_dirs, [os.path.dirname(x) for x in formated_video_dirs])):\n",
    "#     for k, (train_ix, test_ix) in enumerate(loo.split(scenarios)):\n",
    "        print()\n",
    "\n",
    "#         _train, _test = get_train_test_split(train_ix, test_ix)\n",
    "        _train, _test = np.array(formated_video_dirs)[train_ix], np.array(formated_video_dirs)[test_ix]\n",
    "    \n",
    "        _train_lab = [ os.path.dirname(x) for x in _train ]\n",
    "        _test_lab = [ os.path.dirname(x) for x in _test ]\n",
    "        print()\n",
    "        print(f'[splist-{k}] train : {np.unique(_train_lab, return_counts=True)}, test : {np.unique(_test_lab, return_counts=True)}')\n",
    "        for _split, _data in zip(['train', 'test'], [_train, _test]):\n",
    "            lines = []\n",
    "            for i in range(len(_data)):\n",
    "                line = os.path.splitext(_data[i])[0] + \" \"\n",
    "                line += str(class2idx[os.path.dirname(_data[i])])\n",
    "\n",
    "                lines.append(line + '\\n')\n",
    "\n",
    "            with open(os.path.join(annotation_path, f\"{_split}list{k+1:02d}.txt\"), 'w') as fp:\n",
    "                fp.writelines(lines)"
   ]
  },
  {
   "cell_type": "code",
   "execution_count": 155,
   "metadata": {},
   "outputs": [
    {
     "name": "stdout",
     "output_type": "stream",
     "text": [
      "\n",
      "\n",
      "[splist-0] train : (array(['adl', 'fall'], dtype='<U4'), array([32, 23])), test : (array(['adl', 'fall'], dtype='<U4'), array([8, 6]))\n",
      "\n",
      "\n",
      "[splist-1] train : (array(['adl', 'fall'], dtype='<U4'), array([32, 23])), test : (array(['adl', 'fall'], dtype='<U4'), array([8, 6]))\n",
      "\n",
      "\n",
      "[splist-2] train : (array(['adl', 'fall'], dtype='<U4'), array([32, 23])), test : (array(['adl', 'fall'], dtype='<U4'), array([8, 6]))\n",
      "\n",
      "\n",
      "[splist-3] train : (array(['adl', 'fall'], dtype='<U4'), array([32, 23])), test : (array(['adl', 'fall'], dtype='<U4'), array([8, 6]))\n",
      "\n",
      "\n",
      "[splist-4] train : (array(['adl', 'fall'], dtype='<U4'), array([32, 24])), test : (array(['adl', 'fall'], dtype='<U4'), array([8, 5]))\n"
     ]
    }
   ],
   "source": [
    "# URFD\n",
    "create_traintestList(root = '/data/FallDownData/URFD/video',\n",
    "                     annotation_path = '/data/FallDownData/URFD/TrainTestlist',\n",
    "                     n_splits=5)"
   ]
  },
  {
   "cell_type": "code",
   "execution_count": 137,
   "metadata": {
    "scrolled": true
   },
   "outputs": [
    {
     "name": "stdout",
     "output_type": "stream",
     "text": [
      "['cam1' 'cam2' 'cam3' 'cam4' 'cam5' 'cam6' 'cam7' 'cam8']\n",
      "\n",
      "[splist-0] train : ['cam2' 'cam3' 'cam4' 'cam5' 'cam6' 'cam7' 'cam8'], test : ['cam1']\n",
      "\n",
      "[splist-0] train : (array(['adl', 'fall'], dtype='<U4'), array([966, 175])), test : (array(['adl', 'fall'], dtype='<U4'), array([138,  25]))\n",
      "\n",
      "[splist-1] train : ['cam1' 'cam3' 'cam4' 'cam5' 'cam6' 'cam7' 'cam8'], test : ['cam2']\n",
      "\n",
      "[splist-1] train : (array(['adl', 'fall'], dtype='<U4'), array([966, 175])), test : (array(['adl', 'fall'], dtype='<U4'), array([138,  25]))\n",
      "\n",
      "[splist-2] train : ['cam1' 'cam2' 'cam4' 'cam5' 'cam6' 'cam7' 'cam8'], test : ['cam3']\n",
      "\n",
      "[splist-2] train : (array(['adl', 'fall'], dtype='<U4'), array([966, 175])), test : (array(['adl', 'fall'], dtype='<U4'), array([138,  25]))\n",
      "\n",
      "[splist-3] train : ['cam1' 'cam2' 'cam3' 'cam5' 'cam6' 'cam7' 'cam8'], test : ['cam4']\n",
      "\n",
      "[splist-3] train : (array(['adl', 'fall'], dtype='<U4'), array([966, 175])), test : (array(['adl', 'fall'], dtype='<U4'), array([138,  25]))\n",
      "\n",
      "[splist-4] train : ['cam1' 'cam2' 'cam3' 'cam4' 'cam6' 'cam7' 'cam8'], test : ['cam5']\n",
      "\n",
      "[splist-4] train : (array(['adl', 'fall'], dtype='<U4'), array([966, 175])), test : (array(['adl', 'fall'], dtype='<U4'), array([138,  25]))\n",
      "\n",
      "[splist-5] train : ['cam1' 'cam2' 'cam3' 'cam4' 'cam5' 'cam7' 'cam8'], test : ['cam6']\n",
      "\n",
      "[splist-5] train : (array(['adl', 'fall'], dtype='<U4'), array([966, 175])), test : (array(['adl', 'fall'], dtype='<U4'), array([138,  25]))\n",
      "\n",
      "[splist-6] train : ['cam1' 'cam2' 'cam3' 'cam4' 'cam5' 'cam6' 'cam8'], test : ['cam7']\n",
      "\n",
      "[splist-6] train : (array(['adl', 'fall'], dtype='<U4'), array([966, 175])), test : (array(['adl', 'fall'], dtype='<U4'), array([138,  25]))\n",
      "\n",
      "[splist-7] train : ['cam1' 'cam2' 'cam3' 'cam4' 'cam5' 'cam6' 'cam7'], test : ['cam8']\n",
      "\n",
      "[splist-7] train : (array(['adl', 'fall'], dtype='<U4'), array([966, 175])), test : (array(['adl', 'fall'], dtype='<U4'), array([138,  25]))\n"
     ]
    }
   ],
   "source": [
    "# MulticamFD\n",
    "create_traintestList(root = '/data/FallDownData/MulticamFD/video',\n",
    "                     annotation_path = '/data/FallDownData/MulticamFD/TrainTestlist')"
   ]
  },
  {
   "cell_type": "code",
   "execution_count": null,
   "metadata": {},
   "outputs": [],
   "source": [
    "LeaveOneOut()"
   ]
  }
 ],
 "metadata": {
  "kernelspec": {
   "display_name": "Python 3",
   "language": "python",
   "name": "python3"
  },
  "language_info": {
   "codemirror_mode": {
    "name": "ipython",
    "version": 3
   },
   "file_extension": ".py",
   "mimetype": "text/x-python",
   "name": "python",
   "nbconvert_exporter": "python",
   "pygments_lexer": "ipython3",
   "version": "3.7.6"
  }
 },
 "nbformat": 4,
 "nbformat_minor": 2
}

{
 "cells": [
  {
   "cell_type": "code",
   "execution_count": 1,
   "metadata": {},
   "outputs": [],
   "source": [
    "import os\n",
    "os.environ[\"CUDA_VISIBLE_DEVICES\"] = \"1\"  # titan RTX"
   ]
  },
  {
   "cell_type": "code",
   "execution_count": 2,
   "metadata": {},
   "outputs": [],
   "source": [
    "import warnings\n",
    "warnings.filterwarnings(\"ignore\")"
   ]
  },
  {
   "cell_type": "markdown",
   "metadata": {},
   "source": [
    "# Load configurations"
   ]
  },
  {
   "cell_type": "code",
   "execution_count": 3,
   "metadata": {
    "pixiedust": {
     "displayParams": {}
    }
   },
   "outputs": [],
   "source": [
    "import json\n",
    "\n",
    "class Opt():\n",
    "    def __init__(self):\n",
    "        pass\n",
    "\n",
    "opt = Opt()\n",
    "with open('manifest/FineTunedConvNet_MulticamFD@r2plus1d_18_cv.cfg', 'r') as f: \n",
    "    opt.__dict__ = json.load(f)"
   ]
  },
  {
   "cell_type": "code",
   "execution_count": 4,
   "metadata": {},
   "outputs": [],
   "source": [
    "import utils.engine\n",
    "from datasets import get_data_loader\n",
    "from models import generate_network\n",
    "\n",
    "import torch\n",
    "import torch.optim as optim\n",
    "import torch.nn as nn\n",
    "import pytorch_warmup as warmup  # for LR warmup\n",
    "import os\n",
    "import numpy as np\n",
    "import sklearn.metrics"
   ]
  },
  {
   "cell_type": "code",
   "execution_count": null,
   "metadata": {},
   "outputs": [],
   "source": [
    "def train_one_fold(fold, metrics=['f1-score', 'accuracy', 'ap', 'roc_auc']):\n",
    "    \n",
    "    # Load data\n",
    "    train_loader, test_loader, target_transform, n_outputs = get_data_loader(\n",
    "            opt, fold=fold)\n",
    "    \n",
    "    # Init model\n",
    "    model = generate_network(opt, n_outputs=n_outputs, target_transform=target_transform)\n",
    "    \n",
    "    # Define optimizer & schedulers\n",
    "    params = [p for p in model.parameters() if p.requires_grad]\n",
    "    warmup_period = len(train_loader) * 3\n",
    "\n",
    "    torch.nn.utils.clip_grad_norm_(params, opt.max_gradnorm)\n",
    "\n",
    "    optimizer = optim.AdamW(params, lr=opt.learning_rate, weight_decay=opt.weight_decay)\n",
    "    lr_scheduler = optim.lr_scheduler.MultiStepLR(optimizer, milestones=[5, 10], gamma=0.1)\n",
    "    warmup_scheduler = warmup.LinearWarmup(optimizer, warmup_period=warmup_period)\n",
    "    warmup_scheduler.last_step = -1\n",
    "    \n",
    "    # Define NeuralNetwork Wrapper Class\n",
    "    net = utils.engine.VideoClassifier(model, optimizer, \n",
    "                                   n_folds=opt.n_folds,\n",
    "                                   lr_scheduler=lr_scheduler, warmup_scheduler=warmup_scheduler)\n",
    "    \n",
    "    net.train(train_loader, test_loader, \n",
    "              n_epochs=opt.n_iter, validation_freq=20,\n",
    "              multiple_clip=True, metrics=metrics, \n",
    "              save_dir=os.path.join(opt.ckpt_dir, opt.model_indicator))"
   ]
  },
  {
   "cell_type": "markdown",
   "metadata": {},
   "source": [
    "# LOO(Leave-One-Out) cross validation"
   ]
  },
  {
   "cell_type": "code",
   "execution_count": null,
   "metadata": {
    "scrolled": true
   },
   "outputs": [],
   "source": [
    "for fold in range(1,opt.n_folds+1):\n",
    "    # LOO cross-validation loop\n",
    "    train_one_fold(fold, metrics={\n",
    "        'f1-score': (lambda y_true, y_pred: sklearn.metrics.accuracy_score(y_true, y_pred), False),\n",
    "        'roc_auc': (lambda y_true, y_score: sklearn.metrics.roc_auc_score(y_true, y_score), True),\n",
    "        'ap': (lambda y_true, y_score: sklearn.metrics.average_precision_score(y_true, y_score), True),\n",
    "        'f1-score': (lambda y_true, y_pred: sklearn.metrics.f1_score(y_true, y_pred), False),\n",
    "        # custom callbacks\n",
    "        'sensitivity': (lambda y_true, y_pred: np.logical_and(y_true==1, y_pred == 1).sum() / (y_true==1).sum(), False),\n",
    "        'specificity': (lambda y_true, y_pred: np.logical_and(y_true==0, y_pred == 0).sum() / (y_true==0).sum(), False)\n",
    "    })"
   ]
  },
  {
   "cell_type": "code",
   "execution_count": 5,
   "metadata": {
    "scrolled": true
   },
   "outputs": [
    {
     "name": "stderr",
     "output_type": "stream",
     "text": [
      "  0%|          | 0/22 [00:00<?, ?it/s]\n",
      "class-balancing...:   0%|          | 0/54 [00:00<?, ?it/s]\u001b[A\n",
      "class-balancing...:   2%|▏         | 1/54 [00:14<12:56, 14.64s/it]\u001b[A\n",
      "class-balancing...:  15%|█▍        | 8/54 [00:17<07:56, 10.36s/it]\u001b[A\n",
      "class-balancing...:  17%|█▋        | 9/54 [00:27<07:39, 10.22s/it]\u001b[A\n",
      "class-balancing...:  30%|██▉       | 16/54 [00:29<04:36,  7.27s/it]\u001b[A\n",
      "class-balancing...:  31%|███▏      | 17/54 [00:35<04:11,  6.79s/it]\u001b[A\n",
      "class-balancing...:  44%|████▍     | 24/54 [00:35<02:23,  4.77s/it]\u001b[A\n",
      "class-balancing...:  46%|████▋     | 25/54 [00:41<02:29,  5.15s/it]\u001b[A\n",
      "class-balancing...:  61%|██████    | 33/54 [00:48<01:21,  3.87s/it]\u001b[A\n",
      "class-balancing...:  67%|██████▋   | 36/54 [00:51<00:53,  2.96s/it]\u001b[A\n",
      "class-balancing...:  69%|██████▊   | 37/54 [00:57<01:05,  3.86s/it]\u001b[A\n",
      "class-balancing...:  76%|███████▌  | 41/54 [01:00<00:38,  2.93s/it]\u001b[A\n",
      "class-balancing...:  83%|████████▎ | 45/54 [01:02<00:19,  2.20s/it]\u001b[A\n",
      "class-balancing...:  91%|█████████ | 49/54 [01:05<00:08,  1.79s/it]\u001b[A\n",
      "class-balancing...:  98%|█████████▊| 53/54 [01:10<00:01,  1.62s/it]\u001b[A\n",
      "class-balancing...: 100%|██████████| 54/54 [01:10<00:00,  1.31s/it]\u001b[A"
     ]
    },
    {
     "name": "stdout",
     "output_type": "stream",
     "text": [
      "train : 856, test : 56\n",
      "\n",
      "Load pretrained model from /data/GaitData/ckpt_dir/FineTunedConvNet_MulticamFD@r2plus1d_18/model_fold-1.pth...\n",
      "Start Evaluation...\n"
     ]
    },
    {
     "name": "stderr",
     "output_type": "stream",
     "text": [
      "  5%|▍         | 1/22 [01:43<36:14, 103.54s/it]\n",
      "class-balancing...:   0%|          | 0/53 [00:00<?, ?it/s]\u001b[A\n",
      "class-balancing...:   2%|▏         | 1/53 [00:13<11:48, 13.62s/it]\u001b[A\n",
      "class-balancing...:   6%|▌         | 3/53 [00:14<08:02,  9.66s/it]\u001b[A\n",
      "class-balancing...:   8%|▊         | 4/53 [00:15<05:40,  6.95s/it]\u001b[A\n",
      "class-balancing...:  15%|█▌        | 8/53 [00:15<03:41,  4.93s/it]\u001b[A\n",
      "class-balancing...:  17%|█▋        | 9/53 [00:25<04:41,  6.39s/it]\u001b[A\n",
      "class-balancing...:  28%|██▊       | 15/53 [00:26<02:51,  4.50s/it]\u001b[A\n",
      "class-balancing...:  30%|███       | 16/53 [00:28<02:25,  3.94s/it]\u001b[A\n",
      "class-balancing...:  32%|███▏      | 17/53 [00:36<03:05,  5.16s/it]\u001b[A\n",
      "class-balancing...:  47%|████▋     | 25/53 [00:44<01:48,  3.88s/it]\u001b[A\n",
      "class-balancing...:  62%|██████▏   | 33/53 [00:52<01:00,  3.04s/it]\u001b[A\n",
      "class-balancing...:  68%|██████▊   | 36/53 [00:56<00:43,  2.53s/it]\u001b[A\n",
      "class-balancing...:  77%|███████▋  | 41/53 [01:04<00:27,  2.26s/it]\u001b[A\n",
      "class-balancing...:  92%|█████████▏| 49/53 [01:11<00:07,  1.81s/it]\u001b[A\n",
      "class-balancing...: 100%|██████████| 53/53 [01:11<00:00,  1.34s/it]\u001b[A"
     ]
    },
    {
     "name": "stdout",
     "output_type": "stream",
     "text": [
      "train : 840, test : 72\n",
      "\n",
      "Load pretrained model from /data/GaitData/ckpt_dir/FineTunedConvNet_MulticamFD@r2plus1d_18/model_fold-2.pth...\n",
      "Start Evaluation...\n"
     ]
    },
    {
     "name": "stderr",
     "output_type": "stream",
     "text": [
      "  9%|▉         | 2/22 [03:16<33:24, 100.24s/it]\n",
      "class-balancing...:   0%|          | 0/54 [00:00<?, ?it/s]\u001b[A\n",
      "class-balancing...:   2%|▏         | 1/54 [00:13<12:14, 13.86s/it]\u001b[A\n",
      "class-balancing...:   6%|▌         | 3/54 [00:15<08:26,  9.94s/it]\u001b[A\n",
      "class-balancing...:  11%|█         | 6/54 [00:15<05:36,  7.00s/it]\u001b[A\n",
      "class-balancing...:  17%|█▋        | 9/54 [00:22<04:10,  5.56s/it]\u001b[A\n",
      "class-balancing...:  20%|██        | 11/54 [00:27<03:17,  4.60s/it]\u001b[A\n",
      "class-balancing...:  31%|███▏      | 17/54 [00:30<02:05,  3.40s/it]\u001b[A\n",
      "class-balancing...:  33%|███▎      | 18/54 [00:31<01:34,  2.63s/it]\u001b[A\n",
      "class-balancing...:  35%|███▌      | 19/54 [00:38<02:14,  3.85s/it]\u001b[A\n",
      "class-balancing...:  50%|█████     | 27/54 [00:44<01:18,  2.92s/it]\u001b[A\n",
      "class-balancing...:  63%|██████▎   | 34/54 [00:45<00:41,  2.08s/it]\u001b[A\n",
      "class-balancing...:  65%|██████▍   | 35/54 [00:52<01:08,  3.61s/it]\u001b[A\n",
      "class-balancing...:  69%|██████▊   | 37/54 [00:53<00:46,  2.76s/it]\u001b[A\n",
      "class-balancing...:  70%|███████   | 38/54 [00:59<00:57,  3.58s/it]\u001b[A\n",
      "class-balancing...:  80%|███████▉  | 43/54 [01:02<00:29,  2.71s/it]\u001b[A\n",
      "class-balancing...:  85%|████████▌ | 46/54 [01:04<00:16,  2.07s/it]\u001b[A\n",
      "class-balancing...:  94%|█████████▍| 51/54 [01:08<00:05,  1.67s/it]\u001b[A\n",
      "class-balancing...:  98%|█████████▊| 53/54 [01:08<00:01,  1.19s/it]\u001b[A\n",
      "class-balancing...: 100%|██████████| 54/54 [01:09<00:00,  1.21s/it]\u001b[A"
     ]
    },
    {
     "name": "stdout",
     "output_type": "stream",
     "text": [
      "train : 864, test : 48\n",
      "\n",
      "Load pretrained model from /data/GaitData/ckpt_dir/FineTunedConvNet_MulticamFD@r2plus1d_18/model_fold-3.pth...\n",
      "Start Evaluation...\n"
     ]
    },
    {
     "name": "stderr",
     "output_type": "stream",
     "text": [
      " 14%|█▎        | 3/22 [04:49<31:07, 98.27s/it] \n",
      "class-balancing...:   0%|          | 0/56 [00:00<?, ?it/s]\u001b[A\n",
      "class-balancing...:   2%|▏         | 1/56 [00:13<12:03, 13.15s/it]\u001b[A\n",
      "class-balancing...:   4%|▎         | 2/56 [00:14<08:31,  9.46s/it]\u001b[A\n",
      "class-balancing...:   5%|▌         | 3/56 [00:14<06:04,  6.88s/it]\u001b[A\n",
      "class-balancing...:   7%|▋         | 4/56 [00:15<04:13,  4.88s/it]\u001b[A\n",
      "class-balancing...:  14%|█▍        | 8/56 [00:16<02:50,  3.55s/it]\u001b[A\n",
      "class-balancing...:  16%|█▌        | 9/56 [00:25<03:59,  5.09s/it]\u001b[A\n",
      "class-balancing...:  25%|██▌       | 14/56 [00:25<02:30,  3.57s/it]\u001b[A\n",
      "class-balancing...:  29%|██▊       | 16/56 [00:27<01:49,  2.74s/it]\u001b[A\n",
      "class-balancing...:  30%|███       | 17/56 [00:34<02:36,  4.02s/it]\u001b[A\n",
      "class-balancing...:  36%|███▌      | 20/56 [00:36<01:48,  3.01s/it]\u001b[A\n",
      "class-balancing...:  38%|███▊      | 21/56 [00:36<01:20,  2.31s/it]\u001b[A\n",
      "class-balancing...:  45%|████▍     | 25/56 [00:40<00:58,  1.90s/it]\u001b[A\n",
      "class-balancing...:  50%|█████     | 28/56 [00:42<00:42,  1.52s/it]\u001b[A\n",
      "class-balancing...:  52%|█████▏    | 29/56 [00:42<00:31,  1.17s/it]\u001b[A\n",
      "class-balancing...:  55%|█████▌    | 31/56 [00:43<00:23,  1.08it/s]\u001b[A\n",
      "class-balancing...:  59%|█████▉    | 33/56 [00:47<00:29,  1.28s/it]\u001b[A\n",
      "class-balancing...:  64%|██████▍   | 36/56 [00:50<00:24,  1.20s/it]\u001b[A\n",
      "class-balancing...:  68%|██████▊   | 38/56 [00:53<00:21,  1.21s/it]\u001b[A\n",
      "class-balancing...:  70%|██████▉   | 39/56 [01:01<00:53,  3.15s/it]\u001b[A\n",
      "class-balancing...:  84%|████████▍ | 47/56 [01:06<00:21,  2.39s/it]\u001b[A\n",
      "class-balancing...:  98%|█████████▊| 55/56 [01:15<00:02,  2.02s/it]\u001b[A\n",
      "class-balancing...: 100%|██████████| 56/56 [01:15<00:00,  1.35s/it]\u001b[A"
     ]
    },
    {
     "name": "stdout",
     "output_type": "stream",
     "text": [
      "train : 888, test : 24\n",
      "\n",
      "Load pretrained model from /data/GaitData/ckpt_dir/FineTunedConvNet_MulticamFD@r2plus1d_18/model_fold-4.pth...\n",
      "Start Evaluation...\n"
     ]
    },
    {
     "name": "stderr",
     "output_type": "stream",
     "text": [
      " 18%|█▊        | 4/22 [06:16<28:27, 94.87s/it]\n",
      "class-balancing...:   0%|          | 0/51 [00:00<?, ?it/s]\u001b[A\n",
      "class-balancing...:   2%|▏         | 1/51 [00:13<11:26, 13.73s/it]\u001b[A\n",
      "class-balancing...:   4%|▍         | 2/51 [00:13<07:52,  9.65s/it]\u001b[A\n",
      "class-balancing...:   6%|▌         | 3/51 [00:14<05:39,  7.08s/it]\u001b[A\n",
      "class-balancing...:   8%|▊         | 4/51 [00:15<04:02,  5.16s/it]\u001b[A\n",
      "class-balancing...:  16%|█▌        | 8/51 [00:17<02:40,  3.73s/it]\u001b[A\n",
      "class-balancing...:  18%|█▊        | 9/51 [00:26<03:41,  5.26s/it]\u001b[A\n",
      "class-balancing...:  29%|██▉       | 15/51 [00:26<02:13,  3.72s/it]\u001b[A\n",
      "class-balancing...:  31%|███▏      | 16/51 [00:28<01:50,  3.16s/it]\u001b[A\n",
      "class-balancing...:  33%|███▎      | 17/51 [00:34<02:14,  3.95s/it]\u001b[A\n",
      "class-balancing...:  41%|████      | 21/51 [00:35<01:25,  2.86s/it]\u001b[A\n",
      "class-balancing...:  45%|████▌     | 23/51 [00:36<00:59,  2.13s/it]\u001b[A\n",
      "class-balancing...:  47%|████▋     | 24/51 [00:37<00:48,  1.81s/it]\u001b[A\n",
      "class-balancing...:  49%|████▉     | 25/51 [00:43<01:23,  3.20s/it]\u001b[A\n",
      "class-balancing...:  63%|██████▎   | 32/51 [00:45<00:43,  2.30s/it]\u001b[A\n",
      "class-balancing...:  65%|██████▍   | 33/51 [00:52<01:07,  3.75s/it]\u001b[A\n",
      "class-balancing...:  67%|██████▋   | 34/51 [00:54<00:54,  3.18s/it]\u001b[A\n",
      "class-balancing...:  78%|███████▊  | 40/51 [00:55<00:25,  2.28s/it]\u001b[A\n",
      "class-balancing...:  80%|████████  | 41/51 [00:57<00:21,  2.10s/it]\u001b[A\n",
      "class-balancing...:  82%|████████▏ | 42/51 [00:59<00:19,  2.13s/it]\u001b[A\n",
      "class-balancing...:  94%|█████████▍| 48/51 [01:00<00:04,  1.54s/it]\u001b[A\n",
      "class-balancing...:  96%|█████████▌| 49/51 [01:02<00:03,  1.73s/it]\u001b[A\n",
      "class-balancing...:  98%|█████████▊| 50/51 [01:09<00:03,  3.41s/it]\u001b[A\n",
      "class-balancing...: 100%|██████████| 51/51 [01:10<00:00,  1.37s/it]\u001b[A"
     ]
    },
    {
     "name": "stdout",
     "output_type": "stream",
     "text": [
      "train : 816, test : 96\n",
      "\n",
      "Load pretrained model from /data/GaitData/ckpt_dir/FineTunedConvNet_MulticamFD@r2plus1d_18/model_fold-5.pth...\n",
      "Start Evaluation...\n"
     ]
    },
    {
     "name": "stderr",
     "output_type": "stream",
     "text": [
      " 23%|██▎       | 5/22 [07:47<26:34, 93.77s/it]\n",
      "class-balancing...:   0%|          | 0/56 [00:00<?, ?it/s]\u001b[A\n",
      "class-balancing...:   2%|▏         | 1/56 [00:12<11:27, 12.51s/it]\u001b[A\n",
      "class-balancing...:   4%|▎         | 2/56 [00:15<08:33,  9.50s/it]\u001b[A\n",
      "class-balancing...:   5%|▌         | 3/56 [00:15<05:58,  6.76s/it]\u001b[A\n",
      "class-balancing...:  12%|█▎        | 7/56 [00:16<03:54,  4.80s/it]\u001b[A\n",
      "class-balancing...:  16%|█▌        | 9/56 [00:22<03:23,  4.34s/it]\u001b[A\n",
      "class-balancing...:  18%|█▊        | 10/56 [00:24<02:41,  3.51s/it]\u001b[A\n",
      "class-balancing...:  20%|█▉        | 11/56 [00:24<01:58,  2.62s/it]\u001b[A\n",
      "class-balancing...:  25%|██▌       | 14/56 [00:27<01:28,  2.11s/it]\u001b[A\n",
      "class-balancing...:  27%|██▋       | 15/56 [00:28<01:06,  1.61s/it]\u001b[A\n",
      "class-balancing...:  30%|███       | 17/56 [00:31<01:01,  1.57s/it]\u001b[A\n",
      "class-balancing...:  32%|███▏      | 18/56 [00:32<01:00,  1.59s/it]\u001b[A\n",
      "class-balancing...:  34%|███▍      | 19/56 [00:34<01:01,  1.67s/it]\u001b[A\n",
      "class-balancing...:  36%|███▌      | 20/56 [00:35<00:47,  1.31s/it]\u001b[A\n",
      "class-balancing...:  39%|███▉      | 22/56 [00:38<00:50,  1.50s/it]\u001b[A\n",
      "class-balancing...:  46%|████▋     | 26/56 [00:39<00:31,  1.07s/it]\u001b[A\n",
      "class-balancing...:  48%|████▊     | 27/56 [00:40<00:37,  1.28s/it]\u001b[A\n",
      "class-balancing...:  50%|█████     | 28/56 [00:41<00:31,  1.13s/it]\u001b[A\n",
      "class-balancing...:  54%|█████▎    | 30/56 [00:45<00:34,  1.32s/it]\u001b[A\n",
      "class-balancing...:  62%|██████▎   | 35/56 [00:47<00:22,  1.08s/it]\u001b[A\n",
      "class-balancing...:  64%|██████▍   | 36/56 [00:50<00:29,  1.48s/it]\u001b[A\n",
      "class-balancing...:  66%|██████▌   | 37/56 [00:50<00:22,  1.20s/it]\u001b[A\n",
      "class-balancing...:  68%|██████▊   | 38/56 [00:59<01:04,  3.56s/it]\u001b[A\n",
      "class-balancing...:  79%|███████▊  | 44/56 [01:00<00:30,  2.51s/it]\u001b[A\n",
      "class-balancing...:  82%|████████▏ | 46/56 [01:04<00:24,  2.45s/it]\u001b[A\n",
      "class-balancing...:  93%|█████████▎| 52/56 [01:05<00:06,  1.73s/it]\u001b[A\n",
      "class-balancing...:  95%|█████████▍| 53/56 [01:05<00:04,  1.35s/it]\u001b[A\n",
      "class-balancing...:  96%|█████████▋| 54/56 [01:13<00:06,  3.19s/it]\u001b[A\n",
      "class-balancing...: 100%|██████████| 56/56 [01:13<00:00,  1.31s/it]\u001b[A"
     ]
    },
    {
     "name": "stdout",
     "output_type": "stream",
     "text": [
      "train : 888, test : 24\n",
      "\n",
      "Load pretrained model from /data/GaitData/ckpt_dir/FineTunedConvNet_MulticamFD@r2plus1d_18/model_fold-6.pth...\n",
      "Start Evaluation...\n"
     ]
    },
    {
     "name": "stderr",
     "output_type": "stream",
     "text": [
      " 27%|██▋       | 6/22 [09:17<24:38, 92.42s/it]\n",
      "class-balancing...:   0%|          | 0/55 [00:00<?, ?it/s]\u001b[A\n",
      "class-balancing...:   2%|▏         | 1/55 [00:13<12:15, 13.61s/it]\u001b[A\n",
      "class-balancing...:   4%|▎         | 2/55 [00:13<08:26,  9.56s/it]\u001b[A\n",
      "class-balancing...:   5%|▌         | 3/55 [00:15<06:19,  7.29s/it]\u001b[A\n",
      "class-balancing...:  15%|█▍        | 8/55 [00:15<04:00,  5.12s/it]\u001b[A\n",
      "class-balancing...:  16%|█▋        | 9/55 [00:26<05:04,  6.62s/it]\u001b[A\n",
      "class-balancing...:  25%|██▌       | 14/55 [00:26<03:11,  4.66s/it]\u001b[A\n",
      "class-balancing...:  31%|███       | 17/55 [00:34<02:33,  4.04s/it]\u001b[A\n",
      "class-balancing...:  35%|███▍      | 19/55 [00:35<01:45,  2.93s/it]\u001b[A\n",
      "class-balancing...:  42%|████▏     | 23/55 [00:35<01:05,  2.06s/it]\u001b[A\n",
      "class-balancing...:  45%|████▌     | 25/55 [00:40<01:09,  2.31s/it]\u001b[A\n",
      "class-balancing...:  49%|████▉     | 27/55 [00:41<00:47,  1.69s/it]\u001b[A\n",
      "class-balancing...:  60%|██████    | 33/55 [00:47<00:33,  1.50s/it]\u001b[A\n",
      "class-balancing...:  64%|██████▎   | 35/55 [00:48<00:22,  1.13s/it]\u001b[A\n",
      "class-balancing...:  67%|██████▋   | 37/55 [00:50<00:19,  1.06s/it]\u001b[A\n",
      "class-balancing...:  69%|██████▉   | 38/55 [00:58<00:57,  3.36s/it]\u001b[A\n",
      "class-balancing...:  84%|████████▎ | 46/55 [01:03<00:22,  2.53s/it]\u001b[A\n",
      "class-balancing...:  95%|█████████▍| 52/55 [01:04<00:05,  1.82s/it]\u001b[A\n",
      "class-balancing...:  98%|█████████▊| 54/55 [01:13<00:02,  2.55s/it]\u001b[A\n",
      "class-balancing...: 100%|██████████| 55/55 [01:13<00:00,  1.33s/it]\u001b[A"
     ]
    },
    {
     "name": "stdout",
     "output_type": "stream",
     "text": [
      "train : 880, test : 32\n",
      "\n",
      "Load pretrained model from /data/GaitData/ckpt_dir/FineTunedConvNet_MulticamFD@r2plus1d_18/model_fold-7.pth...\n",
      "Start Evaluation...\n"
     ]
    },
    {
     "name": "stderr",
     "output_type": "stream",
     "text": [
      " 32%|███▏      | 7/22 [10:46<22:53, 91.60s/it]\n",
      "class-balancing...:   0%|          | 0/56 [00:00<?, ?it/s]\u001b[A\n",
      "class-balancing...:   2%|▏         | 1/56 [00:13<12:16, 13.40s/it]\u001b[A\n",
      "class-balancing...:   5%|▌         | 3/56 [00:15<08:29,  9.62s/it]\u001b[A\n",
      "class-balancing...:  16%|█▌        | 9/56 [00:23<05:37,  7.18s/it]\u001b[A\n",
      "class-balancing...:  21%|██▏       | 12/56 [00:25<03:49,  5.21s/it]\u001b[A\n",
      "class-balancing...:  30%|███       | 17/56 [00:33<02:39,  4.09s/it]\u001b[A\n",
      "class-balancing...:  34%|███▍      | 19/56 [00:34<01:54,  3.08s/it]\u001b[A\n",
      "class-balancing...:  36%|███▌      | 20/56 [00:36<01:36,  2.67s/it]\u001b[A\n",
      "class-balancing...:  45%|████▍     | 25/56 [00:39<01:04,  2.08s/it]\u001b[A\n",
      "class-balancing...:  48%|████▊     | 27/56 [00:41<00:47,  1.65s/it]\u001b[A\n",
      "class-balancing...:  50%|█████     | 28/56 [00:42<00:43,  1.56s/it]\u001b[A\n",
      "class-balancing...:  59%|█████▉    | 33/56 [00:47<00:31,  1.36s/it]\u001b[A\n",
      "class-balancing...:  62%|██████▎   | 35/56 [00:48<00:23,  1.14s/it]\u001b[A\n",
      "class-balancing...:  64%|██████▍   | 36/56 [00:50<00:30,  1.54s/it]\u001b[A\n",
      "class-balancing...:  70%|██████▉   | 39/56 [00:57<00:29,  1.76s/it]\u001b[A\n",
      "class-balancing...:  73%|███████▎  | 41/56 [00:58<00:19,  1.31s/it]\u001b[A\n",
      "class-balancing...:  77%|███████▋  | 43/56 [00:59<00:15,  1.21s/it]\u001b[A\n",
      "class-balancing...:  79%|███████▊  | 44/56 [01:01<00:15,  1.30s/it]\u001b[A\n",
      "class-balancing...:  84%|████████▍ | 47/56 [01:02<00:09,  1.01s/it]\u001b[A\n",
      "class-balancing...:  91%|█████████ | 51/56 [01:05<00:04,  1.06it/s]\u001b[A\n",
      "class-balancing...:  93%|█████████▎| 52/56 [01:06<00:04,  1.02s/it]\u001b[A\n",
      "class-balancing...:  98%|█████████▊| 55/56 [01:10<00:01,  1.08s/it]\u001b[A\n",
      "class-balancing...: 100%|██████████| 56/56 [01:10<00:00,  1.26s/it]\u001b[A"
     ]
    },
    {
     "name": "stdout",
     "output_type": "stream",
     "text": [
      "train : 888, test : 24\n",
      "\n",
      "Load pretrained model from /data/GaitData/ckpt_dir/FineTunedConvNet_MulticamFD@r2plus1d_18/model_fold-8.pth...\n",
      "Start Evaluation...\n"
     ]
    },
    {
     "name": "stderr",
     "output_type": "stream",
     "text": [
      " 36%|███▋      | 8/22 [12:12<20:58, 89.88s/it]\n",
      "class-balancing...:   0%|          | 0/56 [00:00<?, ?it/s]\u001b[A\n",
      "class-balancing...:   2%|▏         | 1/56 [00:14<13:00, 14.20s/it]\u001b[A\n",
      "class-balancing...:   5%|▌         | 3/56 [00:14<08:51, 10.02s/it]\u001b[A\n",
      "class-balancing...:  14%|█▍        | 8/56 [00:15<05:39,  7.08s/it]\u001b[A\n",
      "class-balancing...:  16%|█▌        | 9/56 [00:27<06:34,  8.40s/it]\u001b[A\n",
      "class-balancing...:  29%|██▊       | 16/56 [00:27<03:55,  5.89s/it]\u001b[A\n",
      "class-balancing...:  30%|███       | 17/56 [00:37<04:35,  7.07s/it]\u001b[A\n",
      "class-balancing...:  45%|████▍     | 25/56 [00:50<02:48,  5.42s/it]\u001b[A\n",
      "class-balancing...:  59%|█████▉    | 33/56 [00:56<01:32,  4.03s/it]\u001b[A\n",
      "class-balancing...:  71%|███████▏  | 40/56 [00:57<00:46,  2.88s/it]\u001b[A\n",
      "class-balancing...:  73%|███████▎  | 41/56 [01:06<01:12,  4.82s/it]\u001b[A\n",
      "class-balancing...:  88%|████████▊ | 49/56 [01:11<00:24,  3.55s/it]\u001b[A\n",
      "class-balancing...: 100%|██████████| 56/56 [01:11<00:00,  1.28s/it]\u001b[A"
     ]
    },
    {
     "name": "stdout",
     "output_type": "stream",
     "text": [
      "train : 888, test : 24\n",
      "\n",
      "Load pretrained model from /data/GaitData/ckpt_dir/FineTunedConvNet_MulticamFD@r2plus1d_18/model_fold-9.pth...\n",
      "Start Evaluation...\n"
     ]
    },
    {
     "name": "stderr",
     "output_type": "stream",
     "text": [
      " 41%|████      | 9/22 [13:41<19:24, 89.55s/it]\n",
      "class-balancing...:   0%|          | 0/56 [00:00<?, ?it/s]\u001b[A\n",
      "class-balancing...:   2%|▏         | 1/56 [00:13<12:02, 13.14s/it]\u001b[A\n",
      "class-balancing...:   4%|▎         | 2/56 [00:13<08:28,  9.41s/it]\u001b[A\n",
      "class-balancing...:   5%|▌         | 3/56 [00:14<05:57,  6.75s/it]\u001b[A\n",
      "class-balancing...:  16%|█▌        | 9/56 [00:23<04:02,  5.17s/it]\u001b[A\n",
      "class-balancing...:  21%|██▏       | 12/56 [00:25<02:47,  3.80s/it]\u001b[A\n",
      "class-balancing...:  30%|███       | 17/56 [00:31<01:58,  3.04s/it]\u001b[A\n",
      "class-balancing...:  34%|███▍      | 19/56 [00:32<01:23,  2.27s/it]\u001b[A\n",
      "class-balancing...:  36%|███▌      | 20/56 [00:35<01:33,  2.59s/it]\u001b[A\n",
      "class-balancing...:  45%|████▍     | 25/56 [00:37<01:00,  1.94s/it]\u001b[A\n",
      "class-balancing...:  48%|████▊     | 27/56 [00:38<00:42,  1.46s/it]\u001b[A\n",
      "class-balancing...:  50%|█████     | 28/56 [00:41<00:55,  1.99s/it]\u001b[A\n",
      "class-balancing...:  59%|█████▉    | 33/56 [00:44<00:36,  1.57s/it]\u001b[A\n",
      "class-balancing...:  62%|██████▎   | 35/56 [00:44<00:24,  1.17s/it]\u001b[A\n",
      "class-balancing...:  64%|██████▍   | 36/56 [00:49<00:44,  2.23s/it]\u001b[A\n",
      "class-balancing...:  66%|██████▌   | 37/56 [00:49<00:30,  1.62s/it]\u001b[A\n",
      "class-balancing...:  68%|██████▊   | 38/56 [00:51<00:29,  1.66s/it]\u001b[A\n",
      "class-balancing...:  70%|██████▉   | 39/56 [00:57<00:48,  2.83s/it]\u001b[A\n",
      "class-balancing...:  79%|███████▊  | 44/56 [00:59<00:25,  2.13s/it]\u001b[A\n",
      "class-balancing...:  84%|████████▍ | 47/56 [01:01<00:15,  1.71s/it]\u001b[A\n",
      "class-balancing...:  93%|█████████▎| 52/56 [01:04<00:05,  1.36s/it]\u001b[A\n",
      "class-balancing...:  98%|█████████▊| 55/56 [01:10<00:01,  1.51s/it]\u001b[A\n",
      "class-balancing...: 100%|██████████| 56/56 [01:10<00:00,  1.26s/it]\u001b[A"
     ]
    },
    {
     "name": "stdout",
     "output_type": "stream",
     "text": [
      "train : 888, test : 24\n",
      "\n",
      "Load pretrained model from /data/GaitData/ckpt_dir/FineTunedConvNet_MulticamFD@r2plus1d_18/model_fold-10.pth...\n",
      "Start Evaluation...\n"
     ]
    },
    {
     "name": "stderr",
     "output_type": "stream",
     "text": [
      " 45%|████▌     | 10/22 [15:06<17:39, 88.30s/it]\n",
      "class-balancing...:   0%|          | 0/55 [00:00<?, ?it/s]\u001b[A\n",
      "class-balancing...:   2%|▏         | 1/55 [00:13<12:27, 13.85s/it]\u001b[A\n",
      "class-balancing...:   4%|▎         | 2/55 [00:17<09:32, 10.80s/it]\u001b[A\n",
      "class-balancing...:  11%|█         | 6/55 [00:17<06:11,  7.57s/it]\u001b[A\n",
      "class-balancing...:  16%|█▋        | 9/55 [00:23<04:31,  5.89s/it]\u001b[A\n",
      "class-balancing...:  18%|█▊        | 10/55 [00:25<03:35,  4.79s/it]\u001b[A\n",
      "class-balancing...:  25%|██▌       | 14/55 [00:34<02:43,  4.00s/it]\u001b[A\n",
      "class-balancing...:  35%|███▍      | 19/55 [00:34<01:41,  2.82s/it]\u001b[A\n",
      "class-balancing...:  40%|████      | 22/55 [00:44<01:37,  2.95s/it]\u001b[A\n",
      "class-balancing...:  55%|█████▍    | 30/55 [00:51<00:58,  2.32s/it]\u001b[A\n",
      "class-balancing...:  69%|██████▉   | 38/55 [01:11<00:40,  2.39s/it]\u001b[A\n",
      "class-balancing...:  84%|████████▎ | 46/55 [01:16<00:16,  1.86s/it]\u001b[A\n",
      "class-balancing...:  98%|█████████▊| 54/55 [01:27<00:01,  1.70s/it]\u001b[A\n",
      "class-balancing...: 100%|██████████| 55/55 [01:27<00:00,  1.60s/it]\u001b[A"
     ]
    },
    {
     "name": "stdout",
     "output_type": "stream",
     "text": [
      "train : 880, test : 32\n",
      "\n",
      "Load pretrained model from /data/GaitData/ckpt_dir/FineTunedConvNet_MulticamFD@r2plus1d_18/model_fold-11.pth...\n",
      "Start Evaluation...\n"
     ]
    },
    {
     "name": "stderr",
     "output_type": "stream",
     "text": [
      " 50%|█████     | 11/22 [16:51<17:06, 93.32s/it]\n",
      "class-balancing...:   0%|          | 0/56 [00:00<?, ?it/s]\u001b[A\n",
      "class-balancing...:   2%|▏         | 1/56 [00:13<12:36, 13.75s/it]\u001b[A\n",
      "class-balancing...:   5%|▌         | 3/56 [00:14<08:37,  9.76s/it]\u001b[A\n",
      "class-balancing...:   7%|▋         | 4/56 [00:16<06:17,  7.27s/it]\u001b[A\n",
      "class-balancing...:  11%|█         | 6/56 [00:16<04:18,  5.18s/it]\u001b[A\n",
      "class-balancing...:  16%|█▌        | 9/56 [00:22<03:19,  4.25s/it]\u001b[A\n",
      "class-balancing...:  20%|█▉        | 11/56 [00:23<02:19,  3.10s/it]\u001b[A\n",
      "class-balancing...:  21%|██▏       | 12/56 [00:27<02:22,  3.23s/it]\u001b[A\n",
      "class-balancing...:  25%|██▌       | 14/56 [00:31<02:02,  2.91s/it]\u001b[A\n",
      "class-balancing...:  34%|███▍      | 19/56 [00:33<01:19,  2.15s/it]\u001b[A\n",
      "class-balancing...:  36%|███▌      | 20/56 [00:37<01:43,  2.87s/it]\u001b[A\n",
      "class-balancing...:  39%|███▉      | 22/56 [00:42<01:28,  2.61s/it]\u001b[A\n",
      "class-balancing...:  50%|█████     | 28/56 [00:43<00:53,  1.92s/it]\u001b[A\n",
      "class-balancing...:  54%|█████▎    | 30/56 [00:47<00:50,  1.96s/it]\u001b[A\n",
      "class-balancing...:  55%|█████▌    | 31/56 [00:48<00:35,  1.42s/it]\u001b[A\n",
      "class-balancing...:  64%|██████▍   | 36/56 [00:51<00:23,  1.20s/it]\u001b[A\n",
      "class-balancing...:  68%|██████▊   | 38/56 [01:00<00:39,  2.22s/it]\u001b[A\n",
      "class-balancing...:  70%|██████▉   | 39/56 [01:04<00:46,  2.72s/it]\u001b[A\n",
      "class-balancing...:  82%|████████▏ | 46/56 [01:05<00:19,  1.94s/it]\u001b[A\n",
      "class-balancing...:  84%|████████▍ | 47/56 [01:09<00:22,  2.51s/it]\u001b[A\n",
      "class-balancing...:  96%|█████████▋| 54/56 [01:11<00:03,  1.88s/it]\u001b[A\n",
      "class-balancing...:  98%|█████████▊| 55/56 [01:16<00:02,  2.80s/it]\u001b[A\n",
      "class-balancing...: 100%|██████████| 56/56 [01:17<00:00,  1.38s/it]\u001b[A"
     ]
    },
    {
     "name": "stdout",
     "output_type": "stream",
     "text": [
      "train : 888, test : 24\n",
      "\n",
      "Load pretrained model from /data/GaitData/ckpt_dir/FineTunedConvNet_MulticamFD@r2plus1d_18/model_fold-12.pth...\n",
      "Start Evaluation...\n"
     ]
    },
    {
     "name": "stderr",
     "output_type": "stream",
     "text": [
      " 55%|█████▍    | 12/22 [18:20<15:19, 91.92s/it]\n",
      "class-balancing...:   0%|          | 0/51 [00:00<?, ?it/s]\u001b[A\n",
      "class-balancing...:   2%|▏         | 1/51 [00:12<10:44, 12.90s/it]\u001b[A\n",
      "class-balancing...:   4%|▍         | 2/51 [00:13<07:24,  9.07s/it]\u001b[A\n",
      "class-balancing...:   6%|▌         | 3/51 [00:14<05:31,  6.92s/it]\u001b[A\n",
      "class-balancing...:  16%|█▌        | 8/51 [00:16<03:32,  4.93s/it]\u001b[A\n",
      "class-balancing...:  18%|█▊        | 9/51 [00:25<04:15,  6.09s/it]\u001b[A\n",
      "class-balancing...:  29%|██▉       | 15/51 [00:25<02:34,  4.29s/it]\u001b[A\n",
      "class-balancing...:  31%|███▏      | 16/51 [00:28<02:10,  3.72s/it]\u001b[A\n",
      "class-balancing...:  33%|███▎      | 17/51 [00:33<02:21,  4.17s/it]\u001b[A\n",
      "class-balancing...:  41%|████      | 21/51 [00:35<01:31,  3.06s/it]\u001b[A\n",
      "class-balancing...:  47%|████▋     | 24/51 [00:37<01:03,  2.34s/it]\u001b[A\n",
      "class-balancing...:  49%|████▉     | 25/51 [00:43<01:32,  3.57s/it]\u001b[A\n",
      "class-balancing...:  63%|██████▎   | 32/51 [00:44<00:48,  2.55s/it]\u001b[A\n",
      "class-balancing...:  65%|██████▍   | 33/51 [00:53<01:17,  4.31s/it]\u001b[A\n",
      "class-balancing...:  67%|██████▋   | 34/51 [00:54<00:55,  3.26s/it]\u001b[A\n",
      "class-balancing...:  78%|███████▊  | 40/51 [00:55<00:25,  2.34s/it]\u001b[A\n",
      "class-balancing...:  80%|████████  | 41/51 [00:58<00:25,  2.51s/it]\u001b[A\n",
      "class-balancing...:  82%|████████▏ | 42/51 [00:58<00:18,  2.00s/it]\u001b[A\n",
      "class-balancing...:  94%|█████████▍| 48/51 [01:00<00:04,  1.47s/it]\u001b[A\n",
      "class-balancing...:  96%|█████████▌| 49/51 [01:04<00:04,  2.44s/it]\u001b[A\n",
      "class-balancing...:  98%|█████████▊| 50/51 [01:09<00:03,  3.09s/it]\u001b[A\n",
      "class-balancing...: 100%|██████████| 51/51 [01:09<00:00,  1.37s/it]\u001b[A"
     ]
    },
    {
     "name": "stdout",
     "output_type": "stream",
     "text": [
      "train : 816, test : 96\n",
      "\n",
      "Load pretrained model from /data/GaitData/ckpt_dir/FineTunedConvNet_MulticamFD@r2plus1d_18/model_fold-13.pth...\n",
      "Start Evaluation...\n"
     ]
    },
    {
     "name": "stderr",
     "output_type": "stream",
     "text": [
      " 59%|█████▉    | 13/22 [19:48<13:37, 90.84s/it]\n",
      "class-balancing...:   0%|          | 0/56 [00:00<?, ?it/s]\u001b[A\n",
      "class-balancing...:   2%|▏         | 1/56 [00:14<13:00, 14.20s/it]\u001b[A\n",
      "class-balancing...:  12%|█▎        | 7/56 [00:16<08:12, 10.05s/it]\u001b[A\n",
      "class-balancing...:  16%|█▌        | 9/56 [00:24<06:24,  8.17s/it]\u001b[A\n",
      "class-balancing...:  21%|██▏       | 12/56 [00:24<04:13,  5.76s/it]\u001b[A\n",
      "class-balancing...:  25%|██▌       | 14/56 [00:26<03:00,  4.31s/it]\u001b[A\n",
      "class-balancing...:  27%|██▋       | 15/56 [00:27<02:22,  3.48s/it]\u001b[A\n",
      "class-balancing...:  30%|███       | 17/56 [00:32<01:59,  3.07s/it]\u001b[A\n",
      "class-balancing...:  36%|███▌      | 20/56 [00:35<01:29,  2.48s/it]\u001b[A\n",
      "class-balancing...:  39%|███▉      | 22/56 [00:36<01:03,  1.85s/it]\u001b[A\n",
      "class-balancing...:  41%|████      | 23/56 [00:36<00:49,  1.49s/it]\u001b[A\n",
      "class-balancing...:  45%|████▍     | 25/56 [00:38<00:39,  1.26s/it]\u001b[A\n",
      "class-balancing...:  50%|█████     | 28/56 [00:41<00:34,  1.23s/it]\u001b[A\n",
      "class-balancing...:  55%|█████▌    | 31/56 [00:43<00:25,  1.01s/it]\u001b[A\n",
      "class-balancing...:  59%|█████▉    | 33/56 [00:45<00:24,  1.05s/it]\u001b[A\n",
      "class-balancing...:  64%|██████▍   | 36/56 [00:50<00:24,  1.21s/it]\u001b[A\n",
      "class-balancing...:  68%|██████▊   | 38/56 [00:55<00:27,  1.55s/it]\u001b[A\n",
      "class-balancing...:  70%|██████▉   | 39/56 [00:59<00:40,  2.36s/it]\u001b[A\n",
      "class-balancing...:  79%|███████▊  | 44/56 [01:00<00:20,  1.72s/it]\u001b[A\n",
      "class-balancing...:  84%|████████▍ | 47/56 [01:03<00:13,  1.54s/it]\u001b[A\n",
      "class-balancing...:  93%|█████████▎| 52/56 [01:05<00:04,  1.17s/it]\u001b[A\n",
      "class-balancing...:  96%|█████████▋| 54/56 [01:06<00:02,  1.05s/it]\u001b[A\n",
      "class-balancing...:  98%|█████████▊| 55/56 [01:11<00:02,  2.14s/it]\u001b[A\n",
      "class-balancing...: 100%|██████████| 56/56 [01:11<00:00,  1.28s/it]\u001b[A"
     ]
    },
    {
     "name": "stdout",
     "output_type": "stream",
     "text": [
      "train : 888, test : 24\n",
      "\n",
      "Load pretrained model from /data/GaitData/ckpt_dir/FineTunedConvNet_MulticamFD@r2plus1d_18/model_fold-14.pth...\n",
      "Start Evaluation...\n"
     ]
    },
    {
     "name": "stderr",
     "output_type": "stream",
     "text": [
      " 64%|██████▎   | 14/22 [21:17<12:01, 90.17s/it]\n",
      "class-balancing...:   0%|          | 0/54 [00:00<?, ?it/s]\u001b[A\n",
      "class-balancing...:   2%|▏         | 1/54 [00:13<11:32, 13.06s/it]\u001b[A\n",
      "class-balancing...:   6%|▌         | 3/54 [00:15<08:03,  9.47s/it]\u001b[A\n",
      "class-balancing...:  15%|█▍        | 8/54 [00:16<05:08,  6.71s/it]\u001b[A\n",
      "class-balancing...:  17%|█▋        | 9/54 [00:25<05:29,  7.33s/it]\u001b[A\n",
      "class-balancing...:  28%|██▊       | 15/54 [00:27<03:23,  5.23s/it]\u001b[A\n",
      "class-balancing...:  30%|██▉       | 16/54 [00:28<02:30,  3.95s/it]\u001b[A\n",
      "class-balancing...:  31%|███▏      | 17/54 [00:33<02:42,  4.39s/it]\u001b[A\n",
      "class-balancing...:  39%|███▉      | 21/54 [00:35<01:46,  3.21s/it]\u001b[A\n",
      "class-balancing...:  43%|████▎     | 23/54 [00:36<01:15,  2.44s/it]\u001b[A\n",
      "class-balancing...:  44%|████▍     | 24/54 [00:37<00:54,  1.81s/it]\u001b[A\n",
      "class-balancing...:  46%|████▋     | 25/54 [00:43<01:28,  3.07s/it]\u001b[A\n",
      "class-balancing...:  59%|█████▉    | 32/54 [00:43<00:47,  2.17s/it]\u001b[A\n",
      "class-balancing...:  61%|██████    | 33/54 [00:48<01:04,  3.09s/it]\u001b[A\n",
      "class-balancing...:  69%|██████▊   | 37/54 [00:50<00:38,  2.24s/it]\u001b[A\n",
      "class-balancing...:  72%|███████▏  | 39/54 [00:54<00:34,  2.28s/it]\u001b[A\n",
      "class-balancing...:  74%|███████▍  | 40/54 [01:00<00:44,  3.18s/it]\u001b[A\n",
      "class-balancing...:  76%|███████▌  | 41/54 [01:02<00:37,  2.85s/it]\u001b[A\n",
      "class-balancing...:  89%|████████▉ | 48/54 [01:04<00:12,  2.09s/it]\u001b[A\n",
      "class-balancing...:  91%|█████████ | 49/54 [01:06<00:10,  2.02s/it]\u001b[A\n",
      "class-balancing...: 100%|██████████| 54/54 [01:06<00:00,  1.23s/it]\u001b[A"
     ]
    },
    {
     "name": "stdout",
     "output_type": "stream",
     "text": [
      "train : 864, test : 48\n",
      "\n",
      "Load pretrained model from /data/GaitData/ckpt_dir/FineTunedConvNet_MulticamFD@r2plus1d_18/model_fold-15.pth...\n",
      "Start Evaluation...\n"
     ]
    },
    {
     "name": "stderr",
     "output_type": "stream",
     "text": [
      " 68%|██████▊   | 15/22 [22:44<10:25, 89.31s/it]\n",
      "class-balancing...:   0%|          | 0/54 [00:00<?, ?it/s]\u001b[A\n",
      "class-balancing...:   2%|▏         | 1/54 [00:13<12:08, 13.74s/it]\u001b[A\n",
      "class-balancing...:   6%|▌         | 3/54 [00:16<08:28,  9.97s/it]\u001b[A\n",
      "class-balancing...:  17%|█▋        | 9/54 [00:25<05:36,  7.47s/it]\u001b[A\n",
      "class-balancing...:  28%|██▊       | 15/54 [00:26<03:24,  5.25s/it]\u001b[A\n",
      "class-balancing...:  30%|██▉       | 16/54 [00:26<02:26,  3.85s/it]\u001b[A\n",
      "class-balancing...:  31%|███▏      | 17/54 [00:34<02:57,  4.81s/it]\u001b[A\n",
      "class-balancing...:  39%|███▉      | 21/54 [00:36<01:56,  3.52s/it]\u001b[A\n",
      "class-balancing...:  46%|████▋     | 25/54 [00:40<01:20,  2.76s/it]\u001b[A\n",
      "class-balancing...:  50%|█████     | 27/54 [00:40<00:53,  1.97s/it]\u001b[A\n",
      "class-balancing...:  54%|█████▎    | 29/54 [00:42<00:41,  1.64s/it]\u001b[A\n",
      "class-balancing...:  61%|██████    | 33/54 [00:46<00:31,  1.50s/it]\u001b[A\n",
      "class-balancing...:  65%|██████▍   | 35/54 [00:49<00:26,  1.39s/it]\u001b[A\n",
      "class-balancing...:  69%|██████▊   | 37/54 [00:59<00:42,  2.53s/it]\u001b[A\n",
      "class-balancing...:  80%|███████▉  | 43/54 [00:59<00:19,  1.78s/it]\u001b[A\n",
      "class-balancing...:  83%|████████▎ | 45/54 [01:04<00:17,  1.96s/it]\u001b[A\n",
      "class-balancing...:  94%|█████████▍| 51/54 [01:05<00:04,  1.45s/it]\u001b[A\n",
      "class-balancing...:  98%|█████████▊| 53/54 [01:14<00:02,  2.35s/it]\u001b[A\n",
      "class-balancing...: 100%|██████████| 54/54 [01:15<00:00,  1.39s/it]\u001b[A"
     ]
    },
    {
     "name": "stdout",
     "output_type": "stream",
     "text": [
      "train : 864, test : 48\n",
      "\n",
      "Load pretrained model from /data/GaitData/ckpt_dir/FineTunedConvNet_MulticamFD@r2plus1d_18/model_fold-16.pth...\n",
      "Start Evaluation...\n"
     ]
    },
    {
     "name": "stderr",
     "output_type": "stream",
     "text": [
      " 73%|███████▎  | 16/22 [24:16<08:59, 89.95s/it]\n",
      "class-balancing...:   0%|          | 0/56 [00:00<?, ?it/s]\u001b[A\n",
      "class-balancing...:   2%|▏         | 1/56 [00:12<11:43, 12.79s/it]\u001b[A\n",
      "class-balancing...:   4%|▎         | 2/56 [00:13<08:17,  9.21s/it]\u001b[A\n",
      "class-balancing...:   5%|▌         | 3/56 [00:15<06:03,  6.86s/it]\u001b[A\n",
      "class-balancing...:  14%|█▍        | 8/56 [00:17<03:57,  4.94s/it]\u001b[A\n",
      "class-balancing...:  16%|█▌        | 9/56 [00:24<04:26,  5.68s/it]\u001b[A\n",
      "class-balancing...:  29%|██▊       | 16/56 [00:25<02:39,  3.99s/it]\u001b[A\n",
      "class-balancing...:  30%|███       | 17/56 [00:32<03:17,  5.06s/it]\u001b[A\n",
      "class-balancing...:  34%|███▍      | 19/56 [00:32<02:11,  3.56s/it]\u001b[A\n",
      "class-balancing...:  36%|███▌      | 20/56 [00:34<01:44,  2.90s/it]\u001b[A\n",
      "class-balancing...:  38%|███▊      | 21/56 [00:35<01:22,  2.36s/it]\u001b[A\n",
      "class-balancing...:  45%|████▍     | 25/56 [00:38<00:58,  1.90s/it]\u001b[A\n",
      "class-balancing...:  48%|████▊     | 27/56 [00:38<00:39,  1.37s/it]\u001b[A\n",
      "class-balancing...:  50%|█████     | 28/56 [00:40<00:43,  1.54s/it]\u001b[A\n",
      "class-balancing...:  52%|█████▏    | 29/56 [00:41<00:32,  1.20s/it]\u001b[A\n",
      "class-balancing...:  59%|█████▉    | 33/56 [00:45<00:26,  1.16s/it]\u001b[A\n",
      "class-balancing...:  62%|██████▎   | 35/56 [00:46<00:18,  1.14it/s]\u001b[A\n",
      "class-balancing...:  64%|██████▍   | 36/56 [00:49<00:33,  1.68s/it]\u001b[A\n",
      "class-balancing...:  70%|██████▉   | 39/56 [00:56<00:31,  1.83s/it]\u001b[A\n",
      "class-balancing...:  73%|███████▎  | 41/56 [00:56<00:21,  1.40s/it]\u001b[A\n",
      "class-balancing...:  77%|███████▋  | 43/56 [00:57<00:13,  1.05s/it]\u001b[A\n",
      "class-balancing...:  79%|███████▊  | 44/56 [00:59<00:17,  1.44s/it]\u001b[A\n",
      "class-balancing...:  84%|████████▍ | 47/56 [01:01<00:10,  1.17s/it]\u001b[A\n",
      "class-balancing...:  88%|████████▊ | 49/56 [01:02<00:06,  1.09it/s]\u001b[A\n",
      "class-balancing...:  91%|█████████ | 51/56 [01:02<00:03,  1.47it/s]\u001b[A\n",
      "class-balancing...:  93%|█████████▎| 52/56 [01:04<00:04,  1.20s/it]\u001b[A\n",
      "class-balancing...:  98%|█████████▊| 55/56 [01:10<00:01,  1.42s/it]\u001b[A\n",
      "class-balancing...: 100%|██████████| 56/56 [01:10<00:00,  1.26s/it]\u001b[A"
     ]
    },
    {
     "name": "stdout",
     "output_type": "stream",
     "text": [
      "train : 888, test : 24\n",
      "\n",
      "Load pretrained model from /data/GaitData/ckpt_dir/FineTunedConvNet_MulticamFD@r2plus1d_18/model_fold-17.pth...\n",
      "Start Evaluation...\n"
     ]
    },
    {
     "name": "stderr",
     "output_type": "stream",
     "text": [
      " 77%|███████▋  | 17/22 [25:44<07:26, 89.31s/it]\n",
      "class-balancing...:   0%|          | 0/54 [00:00<?, ?it/s]\u001b[A\n",
      "class-balancing...:   2%|▏         | 1/54 [00:13<11:46, 13.32s/it]\u001b[A\n",
      "class-balancing...:   6%|▌         | 3/54 [00:16<08:19,  9.79s/it]\u001b[A\n",
      "class-balancing...:  17%|█▋        | 9/54 [00:25<05:28,  7.30s/it]\u001b[A\n",
      "class-balancing...:  20%|██        | 11/54 [00:30<04:09,  5.81s/it]\u001b[A\n",
      "class-balancing...:  31%|███▏      | 17/54 [00:33<02:36,  4.24s/it]\u001b[A\n",
      "class-balancing...:  33%|███▎      | 18/54 [00:34<02:01,  3.37s/it]\u001b[A\n",
      "class-balancing...:  35%|███▌      | 19/54 [00:42<02:43,  4.67s/it]\u001b[A\n",
      "class-balancing...:  50%|█████     | 27/54 [00:49<01:34,  3.51s/it]\u001b[A\n",
      "class-balancing...:  63%|██████▎   | 34/54 [00:50<00:50,  2.50s/it]\u001b[A\n",
      "class-balancing...:  65%|██████▍   | 35/54 [00:57<01:17,  4.06s/it]\u001b[A\n",
      "class-balancing...:  69%|██████▊   | 37/54 [01:01<00:56,  3.35s/it]\u001b[A\n",
      "class-balancing...:  80%|███████▉  | 43/54 [01:10<00:31,  2.83s/it]\u001b[A\n",
      "class-balancing...:  94%|█████████▍| 51/54 [01:16<00:06,  2.20s/it]\u001b[A\n",
      "class-balancing...: 100%|██████████| 54/54 [01:16<00:00,  1.42s/it]\u001b[A"
     ]
    },
    {
     "name": "stdout",
     "output_type": "stream",
     "text": [
      "train : 864, test : 48\n",
      "\n",
      "Load pretrained model from /data/GaitData/ckpt_dir/FineTunedConvNet_MulticamFD@r2plus1d_18/model_fold-18.pth...\n",
      "Start Evaluation...\n"
     ]
    },
    {
     "name": "stderr",
     "output_type": "stream",
     "text": [
      " 82%|████████▏ | 18/22 [27:19<06:04, 91.17s/it]\n",
      "class-balancing...:   0%|          | 0/56 [00:00<?, ?it/s]\u001b[A\n",
      "class-balancing...:   2%|▏         | 1/56 [00:13<12:38, 13.78s/it]\u001b[A\n",
      "class-balancing...:   5%|▌         | 3/56 [00:16<08:51, 10.04s/it]\u001b[A\n",
      "class-balancing...:  14%|█▍        | 8/56 [00:17<05:39,  7.07s/it]\u001b[A\n",
      "class-balancing...:  16%|█▌        | 9/56 [00:26<05:59,  7.65s/it]\u001b[A\n",
      "class-balancing...:  29%|██▊       | 16/56 [00:28<03:38,  5.47s/it]\u001b[A\n",
      "class-balancing...:  30%|███       | 17/56 [00:33<03:27,  5.32s/it]\u001b[A\n",
      "class-balancing...:  38%|███▊      | 21/56 [00:34<02:11,  3.75s/it]\u001b[A\n",
      "class-balancing...:  41%|████      | 23/56 [00:35<01:31,  2.78s/it]\u001b[A\n",
      "class-balancing...:  43%|████▎     | 24/56 [00:37<01:28,  2.75s/it]\u001b[A\n",
      "class-balancing...:  45%|████▍     | 25/56 [00:43<01:47,  3.48s/it]\u001b[A\n",
      "class-balancing...:  57%|█████▋    | 32/56 [00:44<00:59,  2.48s/it]\u001b[A\n",
      "class-balancing...:  59%|█████▉    | 33/56 [00:48<01:10,  3.07s/it]\u001b[A\n",
      "class-balancing...:  66%|██████▌   | 37/56 [00:49<00:41,  2.18s/it]\u001b[A\n",
      "class-balancing...:  70%|██████▉   | 39/56 [00:53<00:36,  2.14s/it]\u001b[A\n",
      "class-balancing...:  71%|███████▏  | 40/56 [00:57<00:42,  2.68s/it]\u001b[A\n",
      "class-balancing...:  73%|███████▎  | 41/56 [00:59<00:38,  2.57s/it]\u001b[A\n",
      "class-balancing...:  86%|████████▌ | 48/56 [01:02<00:15,  1.91s/it]\u001b[A\n",
      "class-balancing...:  88%|████████▊ | 49/56 [01:04<00:13,  1.93s/it]\u001b[A\n",
      "class-balancing...:  98%|█████████▊| 55/56 [01:06<00:01,  1.48s/it]\u001b[A\n",
      "class-balancing...: 100%|██████████| 56/56 [01:06<00:00,  1.19s/it]\u001b[A"
     ]
    },
    {
     "name": "stdout",
     "output_type": "stream",
     "text": [
      "train : 888, test : 24\n",
      "\n",
      "Load pretrained model from /data/GaitData/ckpt_dir/FineTunedConvNet_MulticamFD@r2plus1d_18/model_fold-19.pth...\n",
      "Start Evaluation...\n"
     ]
    },
    {
     "name": "stderr",
     "output_type": "stream",
     "text": [
      " 86%|████████▋ | 19/22 [28:44<04:27, 89.15s/it]\n",
      "class-balancing...:   0%|          | 0/54 [00:00<?, ?it/s]\u001b[A\n",
      "class-balancing...:   2%|▏         | 1/54 [00:13<11:40, 13.21s/it]\u001b[A\n",
      "class-balancing...:   4%|▎         | 2/54 [00:13<08:07,  9.37s/it]\u001b[A\n",
      "class-balancing...:   6%|▌         | 3/54 [00:14<05:46,  6.80s/it]\u001b[A\n",
      "class-balancing...:   7%|▋         | 4/54 [00:14<04:05,  4.91s/it]\u001b[A\n",
      "class-balancing...:  15%|█▍        | 8/54 [00:15<02:41,  3.51s/it]\u001b[A\n",
      "class-balancing...:  17%|█▋        | 9/54 [00:25<04:00,  5.35s/it]\u001b[A\n",
      "class-balancing...:  30%|██▉       | 16/54 [00:27<02:25,  3.83s/it]\u001b[A\n",
      "class-balancing...:  31%|███▏      | 17/54 [00:33<02:46,  4.51s/it]\u001b[A\n",
      "class-balancing...:  39%|███▉      | 21/54 [00:35<01:48,  3.30s/it]\u001b[A\n",
      "class-balancing...:  44%|████▍     | 24/54 [00:36<01:12,  2.40s/it]\u001b[A\n",
      "class-balancing...:  46%|████▋     | 25/54 [00:43<01:46,  3.69s/it]\u001b[A\n",
      "class-balancing...:  61%|██████    | 33/54 [00:48<00:58,  2.80s/it]\u001b[A\n",
      "class-balancing...:  69%|██████▊   | 37/54 [00:50<00:35,  2.06s/it]\u001b[A\n",
      "class-balancing...:  72%|███████▏  | 39/54 [00:50<00:22,  1.50s/it]\u001b[A\n",
      "class-balancing...:  74%|███████▍  | 40/54 [00:59<00:50,  3.60s/it]\u001b[A\n",
      "class-balancing...:  76%|███████▌  | 41/54 [01:02<00:44,  3.43s/it]\u001b[A\n",
      "class-balancing...:  89%|████████▉ | 48/54 [01:03<00:14,  2.46s/it]\u001b[A\n",
      "class-balancing...:  91%|█████████ | 49/54 [01:06<00:12,  2.57s/it]\u001b[A\n",
      "class-balancing...: 100%|██████████| 54/54 [01:06<00:00,  1.23s/it]\u001b[A"
     ]
    },
    {
     "name": "stdout",
     "output_type": "stream",
     "text": [
      "train : 864, test : 48\n",
      "\n",
      "Load pretrained model from /data/GaitData/ckpt_dir/FineTunedConvNet_MulticamFD@r2plus1d_18/model_fold-20.pth...\n",
      "Start Evaluation...\n"
     ]
    },
    {
     "name": "stderr",
     "output_type": "stream",
     "text": [
      " 91%|█████████ | 20/22 [30:14<02:59, 89.64s/it]\n",
      "class-balancing...:   0%|          | 0/56 [00:00<?, ?it/s]\u001b[A\n",
      "class-balancing...:   2%|▏         | 1/56 [00:14<12:52, 14.05s/it]\u001b[A\n",
      "class-balancing...:   5%|▌         | 3/56 [00:15<08:53, 10.07s/it]\u001b[A\n",
      "class-balancing...:   7%|▋         | 4/56 [00:16<06:22,  7.35s/it]\u001b[A\n",
      "class-balancing...:  16%|█▌        | 9/56 [00:25<04:27,  5.69s/it]\u001b[A\n",
      "class-balancing...:  21%|██▏       | 12/56 [00:27<03:03,  4.17s/it]\u001b[A\n",
      "class-balancing...:  30%|███       | 17/56 [00:33<02:08,  3.29s/it]\u001b[A\n",
      "class-balancing...:  36%|███▌      | 20/56 [00:38<01:38,  2.73s/it]\u001b[A\n",
      "class-balancing...:  45%|████▍     | 25/56 [00:40<01:03,  2.04s/it]\u001b[A\n",
      "class-balancing...:  50%|█████     | 28/56 [00:43<00:50,  1.81s/it]\u001b[A\n",
      "class-balancing...:  59%|█████▉    | 33/56 [00:47<00:33,  1.47s/it]\u001b[A\n",
      "class-balancing...:  64%|██████▍   | 36/56 [00:52<00:29,  1.49s/it]\u001b[A\n",
      "class-balancing...:  68%|██████▊   | 38/56 [00:52<00:19,  1.09s/it]\u001b[A\n",
      "class-balancing...:  70%|██████▉   | 39/56 [00:59<00:47,  2.77s/it]\u001b[A\n",
      "class-balancing...:  79%|███████▊  | 44/56 [01:02<00:25,  2.12s/it]\u001b[A\n",
      "class-balancing...:  84%|████████▍ | 47/56 [01:04<00:15,  1.72s/it]\u001b[A\n",
      "class-balancing...:  91%|█████████ | 51/56 [01:04<00:06,  1.24s/it]\u001b[A\n",
      "class-balancing...:  93%|█████████▎| 52/56 [01:06<00:05,  1.48s/it]\u001b[A\n",
      "class-balancing...:  98%|█████████▊| 55/56 [01:14<00:01,  1.82s/it]\u001b[A\n",
      "class-balancing...: 100%|██████████| 56/56 [01:14<00:00,  1.34s/it]\u001b[A"
     ]
    },
    {
     "name": "stdout",
     "output_type": "stream",
     "text": [
      "train : 888, test : 24\n",
      "\n",
      "Load pretrained model from /data/GaitData/ckpt_dir/FineTunedConvNet_MulticamFD@r2plus1d_18/model_fold-21.pth...\n",
      "Start Evaluation...\n"
     ]
    },
    {
     "name": "stderr",
     "output_type": "stream",
     "text": [
      " 95%|█████████▌| 21/22 [31:40<01:28, 88.57s/it]\n",
      "class-balancing...:   0%|          | 0/54 [00:00<?, ?it/s]\u001b[A\n",
      "class-balancing...:   2%|▏         | 1/54 [00:13<11:30, 13.03s/it]\u001b[A\n",
      "class-balancing...:   4%|▎         | 2/54 [00:13<07:58,  9.20s/it]\u001b[A\n",
      "class-balancing...:   6%|▌         | 3/54 [00:15<05:59,  7.05s/it]\u001b[A\n",
      "class-balancing...:  15%|█▍        | 8/54 [00:16<03:49,  5.00s/it]\u001b[A\n",
      "class-balancing...:  17%|█▋        | 9/54 [00:25<04:43,  6.30s/it]\u001b[A\n",
      "class-balancing...:  30%|██▉       | 16/54 [00:29<02:53,  4.57s/it]\u001b[A\n",
      "class-balancing...:  31%|███▏      | 17/54 [00:34<02:49,  4.57s/it]\u001b[A\n",
      "class-balancing...:  39%|███▉      | 21/54 [00:36<01:50,  3.35s/it]\u001b[A\n",
      "class-balancing...:  44%|████▍     | 24/54 [00:39<01:20,  2.67s/it]\u001b[A\n",
      "class-balancing...:  46%|████▋     | 25/54 [00:43<01:29,  3.09s/it]\u001b[A\n",
      "class-balancing...:  59%|█████▉    | 32/54 [00:47<00:51,  2.33s/it]\u001b[A\n",
      "class-balancing...:  61%|██████    | 33/54 [00:49<00:48,  2.30s/it]\u001b[A\n",
      "class-balancing...:  69%|██████▊   | 37/54 [01:04<00:46,  2.76s/it]\u001b[A\n",
      "class-balancing...:  83%|████████▎ | 45/54 [01:10<00:19,  2.15s/it]\u001b[A\n",
      "class-balancing...:  98%|█████████▊| 53/54 [01:22<00:01,  1.96s/it]\u001b[A\n",
      "class-balancing...: 100%|██████████| 54/54 [01:22<00:00,  1.53s/it]\u001b[A"
     ]
    },
    {
     "name": "stdout",
     "output_type": "stream",
     "text": [
      "train : 864, test : 48\n",
      "\n",
      "Load pretrained model from /data/GaitData/ckpt_dir/FineTunedConvNet_MulticamFD@r2plus1d_18/model_fold-22.pth...\n",
      "Start Evaluation...\n"
     ]
    },
    {
     "name": "stderr",
     "output_type": "stream",
     "text": [
      "100%|██████████| 22/22 [33:22<00:00, 92.57s/it]\n"
     ]
    }
   ],
   "source": [
    "import tqdm\n",
    "\n",
    "res = []\n",
    "for fold in tqdm.tqdm(range(1, opt.n_folds+1)):\n",
    "    # Load data\n",
    "    train_loader, test_loader, target_transform, n_outputs = get_data_loader(\n",
    "            opt, fold=fold)\n",
    "\n",
    "    # Init model\n",
    "    model = generate_network(opt, n_outputs=n_outputs, target_transform=target_transform)\n",
    "\n",
    "    # Define NeuralNetwork Wrapper Class\n",
    "    net = utils.engine.VideoClassifier(model, optimizer=None)\n",
    "    \n",
    "    mpath = os.path.join(opt.ckpt_dir, opt.model_indicator) + '/' + 'model_fold-{}.pth'.format(fold)\n",
    "    \n",
    "    res.append(net.test(test_loader, metrics=['f1-score', 'accuracy', 'ap', 'roc_auc'], multiple_clip=True, \n",
    "             pretrained_path=mpath))"
   ]
  },
  {
   "cell_type": "code",
   "execution_count": 25,
   "metadata": {},
   "outputs": [
    {
     "data": {
      "text/plain": [
       "video_f1-score    0.955187\n",
       "video_accuracy    0.982008\n",
       "video_ap          0.962618\n",
       "video_roc_auc     0.989123\n",
       "dtype: float64"
      ]
     },
     "execution_count": 25,
     "metadata": {},
     "output_type": "execute_result"
    }
   ],
   "source": [
    "import pandas as pd\n",
    "pd.DataFrame([ res[i][1]['video'] for i in range(opt.n_folds) ] ).mean()"
   ]
  },
  {
   "cell_type": "code",
   "execution_count": 26,
   "metadata": {},
   "outputs": [
    {
     "data": {
      "text/plain": [
       "clip_f1-score    0.659726\n",
       "clip_accuracy    0.911503\n",
       "clip_ap          0.804851\n",
       "clip_roc_auc     0.919610\n",
       "dtype: float64"
      ]
     },
     "execution_count": 26,
     "metadata": {},
     "output_type": "execute_result"
    }
   ],
   "source": [
    "import pandas as pd\n",
    "pd.DataFrame([ res[i][1]['clip'] for i in range(opt.n_folds) ] ).mean()"
   ]
  },
  {
   "cell_type": "code",
   "execution_count": 28,
   "metadata": {},
   "outputs": [
    {
     "data": {
      "text/plain": [
       "DataParallel(\n",
       "  (module): FineTunedConvNet(\n",
       "    (backbone): Sequential(\n",
       "      (0): R2Plus1dStem(\n",
       "        (0): Conv3d(3, 45, kernel_size=(1, 7, 7), stride=(1, 2, 2), padding=(0, 3, 3), bias=False)\n",
       "        (1): BatchNorm3d(45, eps=1e-05, momentum=0.1, affine=True, track_running_stats=True)\n",
       "        (2): ReLU(inplace=True)\n",
       "        (3): Conv3d(45, 64, kernel_size=(3, 1, 1), stride=(1, 1, 1), padding=(1, 0, 0), bias=False)\n",
       "        (4): BatchNorm3d(64, eps=1e-05, momentum=0.1, affine=True, track_running_stats=True)\n",
       "        (5): ReLU(inplace=True)\n",
       "      )\n",
       "      (1): Sequential(\n",
       "        (0): BasicBlock(\n",
       "          (conv1): Sequential(\n",
       "            (0): Conv2Plus1D(\n",
       "              (0): Conv3d(64, 144, kernel_size=(1, 3, 3), stride=(1, 1, 1), padding=(0, 1, 1), bias=False)\n",
       "              (1): BatchNorm3d(144, eps=1e-05, momentum=0.1, affine=True, track_running_stats=True)\n",
       "              (2): ReLU(inplace=True)\n",
       "              (3): Conv3d(144, 64, kernel_size=(3, 1, 1), stride=(1, 1, 1), padding=(1, 0, 0), bias=False)\n",
       "            )\n",
       "            (1): BatchNorm3d(64, eps=1e-05, momentum=0.1, affine=True, track_running_stats=True)\n",
       "            (2): ReLU(inplace=True)\n",
       "          )\n",
       "          (conv2): Sequential(\n",
       "            (0): Conv2Plus1D(\n",
       "              (0): Conv3d(64, 144, kernel_size=(1, 3, 3), stride=(1, 1, 1), padding=(0, 1, 1), bias=False)\n",
       "              (1): BatchNorm3d(144, eps=1e-05, momentum=0.1, affine=True, track_running_stats=True)\n",
       "              (2): ReLU(inplace=True)\n",
       "              (3): Conv3d(144, 64, kernel_size=(3, 1, 1), stride=(1, 1, 1), padding=(1, 0, 0), bias=False)\n",
       "            )\n",
       "            (1): BatchNorm3d(64, eps=1e-05, momentum=0.1, affine=True, track_running_stats=True)\n",
       "          )\n",
       "          (relu): ReLU(inplace=True)\n",
       "        )\n",
       "        (1): BasicBlock(\n",
       "          (conv1): Sequential(\n",
       "            (0): Conv2Plus1D(\n",
       "              (0): Conv3d(64, 144, kernel_size=(1, 3, 3), stride=(1, 1, 1), padding=(0, 1, 1), bias=False)\n",
       "              (1): BatchNorm3d(144, eps=1e-05, momentum=0.1, affine=True, track_running_stats=True)\n",
       "              (2): ReLU(inplace=True)\n",
       "              (3): Conv3d(144, 64, kernel_size=(3, 1, 1), stride=(1, 1, 1), padding=(1, 0, 0), bias=False)\n",
       "            )\n",
       "            (1): BatchNorm3d(64, eps=1e-05, momentum=0.1, affine=True, track_running_stats=True)\n",
       "            (2): ReLU(inplace=True)\n",
       "          )\n",
       "          (conv2): Sequential(\n",
       "            (0): Conv2Plus1D(\n",
       "              (0): Conv3d(64, 144, kernel_size=(1, 3, 3), stride=(1, 1, 1), padding=(0, 1, 1), bias=False)\n",
       "              (1): BatchNorm3d(144, eps=1e-05, momentum=0.1, affine=True, track_running_stats=True)\n",
       "              (2): ReLU(inplace=True)\n",
       "              (3): Conv3d(144, 64, kernel_size=(3, 1, 1), stride=(1, 1, 1), padding=(1, 0, 0), bias=False)\n",
       "            )\n",
       "            (1): BatchNorm3d(64, eps=1e-05, momentum=0.1, affine=True, track_running_stats=True)\n",
       "          )\n",
       "          (relu): ReLU(inplace=True)\n",
       "        )\n",
       "      )\n",
       "      (2): Sequential(\n",
       "        (0): BasicBlock(\n",
       "          (conv1): Sequential(\n",
       "            (0): Conv2Plus1D(\n",
       "              (0): Conv3d(64, 230, kernel_size=(1, 3, 3), stride=(1, 2, 2), padding=(0, 1, 1), bias=False)\n",
       "              (1): BatchNorm3d(230, eps=1e-05, momentum=0.1, affine=True, track_running_stats=True)\n",
       "              (2): ReLU(inplace=True)\n",
       "              (3): Conv3d(230, 128, kernel_size=(3, 1, 1), stride=(2, 1, 1), padding=(1, 0, 0), bias=False)\n",
       "            )\n",
       "            (1): BatchNorm3d(128, eps=1e-05, momentum=0.1, affine=True, track_running_stats=True)\n",
       "            (2): ReLU(inplace=True)\n",
       "          )\n",
       "          (conv2): Sequential(\n",
       "            (0): Conv2Plus1D(\n",
       "              (0): Conv3d(128, 230, kernel_size=(1, 3, 3), stride=(1, 1, 1), padding=(0, 1, 1), bias=False)\n",
       "              (1): BatchNorm3d(230, eps=1e-05, momentum=0.1, affine=True, track_running_stats=True)\n",
       "              (2): ReLU(inplace=True)\n",
       "              (3): Conv3d(230, 128, kernel_size=(3, 1, 1), stride=(1, 1, 1), padding=(1, 0, 0), bias=False)\n",
       "            )\n",
       "            (1): BatchNorm3d(128, eps=1e-05, momentum=0.1, affine=True, track_running_stats=True)\n",
       "          )\n",
       "          (relu): ReLU(inplace=True)\n",
       "          (downsample): Sequential(\n",
       "            (0): Conv3d(64, 128, kernel_size=(1, 1, 1), stride=(2, 2, 2), bias=False)\n",
       "            (1): BatchNorm3d(128, eps=1e-05, momentum=0.1, affine=True, track_running_stats=True)\n",
       "          )\n",
       "        )\n",
       "        (1): BasicBlock(\n",
       "          (conv1): Sequential(\n",
       "            (0): Conv2Plus1D(\n",
       "              (0): Conv3d(128, 288, kernel_size=(1, 3, 3), stride=(1, 1, 1), padding=(0, 1, 1), bias=False)\n",
       "              (1): BatchNorm3d(288, eps=1e-05, momentum=0.1, affine=True, track_running_stats=True)\n",
       "              (2): ReLU(inplace=True)\n",
       "              (3): Conv3d(288, 128, kernel_size=(3, 1, 1), stride=(1, 1, 1), padding=(1, 0, 0), bias=False)\n",
       "            )\n",
       "            (1): BatchNorm3d(128, eps=1e-05, momentum=0.1, affine=True, track_running_stats=True)\n",
       "            (2): ReLU(inplace=True)\n",
       "          )\n",
       "          (conv2): Sequential(\n",
       "            (0): Conv2Plus1D(\n",
       "              (0): Conv3d(128, 288, kernel_size=(1, 3, 3), stride=(1, 1, 1), padding=(0, 1, 1), bias=False)\n",
       "              (1): BatchNorm3d(288, eps=1e-05, momentum=0.1, affine=True, track_running_stats=True)\n",
       "              (2): ReLU(inplace=True)\n",
       "              (3): Conv3d(288, 128, kernel_size=(3, 1, 1), stride=(1, 1, 1), padding=(1, 0, 0), bias=False)\n",
       "            )\n",
       "            (1): BatchNorm3d(128, eps=1e-05, momentum=0.1, affine=True, track_running_stats=True)\n",
       "          )\n",
       "          (relu): ReLU(inplace=True)\n",
       "        )\n",
       "      )\n",
       "      (3): Sequential(\n",
       "        (0): BasicBlock(\n",
       "          (conv1): Sequential(\n",
       "            (0): Conv2Plus1D(\n",
       "              (0): Conv3d(128, 460, kernel_size=(1, 3, 3), stride=(1, 2, 2), padding=(0, 1, 1), bias=False)\n",
       "              (1): BatchNorm3d(460, eps=1e-05, momentum=0.1, affine=True, track_running_stats=True)\n",
       "              (2): ReLU(inplace=True)\n",
       "              (3): Conv3d(460, 256, kernel_size=(3, 1, 1), stride=(2, 1, 1), padding=(1, 0, 0), bias=False)\n",
       "            )\n",
       "            (1): BatchNorm3d(256, eps=1e-05, momentum=0.1, affine=True, track_running_stats=True)\n",
       "            (2): ReLU(inplace=True)\n",
       "          )\n",
       "          (conv2): Sequential(\n",
       "            (0): Conv2Plus1D(\n",
       "              (0): Conv3d(256, 460, kernel_size=(1, 3, 3), stride=(1, 1, 1), padding=(0, 1, 1), bias=False)\n",
       "              (1): BatchNorm3d(460, eps=1e-05, momentum=0.1, affine=True, track_running_stats=True)\n",
       "              (2): ReLU(inplace=True)\n",
       "              (3): Conv3d(460, 256, kernel_size=(3, 1, 1), stride=(1, 1, 1), padding=(1, 0, 0), bias=False)\n",
       "            )\n",
       "            (1): BatchNorm3d(256, eps=1e-05, momentum=0.1, affine=True, track_running_stats=True)\n",
       "          )\n",
       "          (relu): ReLU(inplace=True)\n",
       "          (downsample): Sequential(\n",
       "            (0): Conv3d(128, 256, kernel_size=(1, 1, 1), stride=(2, 2, 2), bias=False)\n",
       "            (1): BatchNorm3d(256, eps=1e-05, momentum=0.1, affine=True, track_running_stats=True)\n",
       "          )\n",
       "        )\n",
       "        (1): BasicBlock(\n",
       "          (conv1): Sequential(\n",
       "            (0): Conv2Plus1D(\n",
       "              (0): Conv3d(256, 576, kernel_size=(1, 3, 3), stride=(1, 1, 1), padding=(0, 1, 1), bias=False)\n",
       "              (1): BatchNorm3d(576, eps=1e-05, momentum=0.1, affine=True, track_running_stats=True)\n",
       "              (2): ReLU(inplace=True)\n",
       "              (3): Conv3d(576, 256, kernel_size=(3, 1, 1), stride=(1, 1, 1), padding=(1, 0, 0), bias=False)\n",
       "            )\n",
       "            (1): BatchNorm3d(256, eps=1e-05, momentum=0.1, affine=True, track_running_stats=True)\n",
       "            (2): ReLU(inplace=True)\n",
       "          )\n",
       "          (conv2): Sequential(\n",
       "            (0): Conv2Plus1D(\n",
       "              (0): Conv3d(256, 576, kernel_size=(1, 3, 3), stride=(1, 1, 1), padding=(0, 1, 1), bias=False)\n",
       "              (1): BatchNorm3d(576, eps=1e-05, momentum=0.1, affine=True, track_running_stats=True)\n",
       "              (2): ReLU(inplace=True)\n",
       "              (3): Conv3d(576, 256, kernel_size=(3, 1, 1), stride=(1, 1, 1), padding=(1, 0, 0), bias=False)\n",
       "            )\n",
       "            (1): BatchNorm3d(256, eps=1e-05, momentum=0.1, affine=True, track_running_stats=True)\n",
       "          )\n",
       "          (relu): ReLU(inplace=True)\n",
       "        )\n",
       "      )\n",
       "      (4): Sequential(\n",
       "        (0): BasicBlock(\n",
       "          (conv1): Sequential(\n",
       "            (0): Conv2Plus1D(\n",
       "              (0): Conv3d(256, 921, kernel_size=(1, 3, 3), stride=(1, 2, 2), padding=(0, 1, 1), bias=False)\n",
       "              (1): BatchNorm3d(921, eps=1e-05, momentum=0.1, affine=True, track_running_stats=True)\n",
       "              (2): ReLU(inplace=True)\n",
       "              (3): Conv3d(921, 512, kernel_size=(3, 1, 1), stride=(2, 1, 1), padding=(1, 0, 0), bias=False)\n",
       "            )\n",
       "            (1): BatchNorm3d(512, eps=1e-05, momentum=0.1, affine=True, track_running_stats=True)\n",
       "            (2): ReLU(inplace=True)\n",
       "          )\n",
       "          (conv2): Sequential(\n",
       "            (0): Conv2Plus1D(\n",
       "              (0): Conv3d(512, 921, kernel_size=(1, 3, 3), stride=(1, 1, 1), padding=(0, 1, 1), bias=False)\n",
       "              (1): BatchNorm3d(921, eps=1e-05, momentum=0.1, affine=True, track_running_stats=True)\n",
       "              (2): ReLU(inplace=True)\n",
       "              (3): Conv3d(921, 512, kernel_size=(3, 1, 1), stride=(1, 1, 1), padding=(1, 0, 0), bias=False)\n",
       "            )\n",
       "            (1): BatchNorm3d(512, eps=1e-05, momentum=0.1, affine=True, track_running_stats=True)\n",
       "          )\n",
       "          (relu): ReLU(inplace=True)\n",
       "          (downsample): Sequential(\n",
       "            (0): Conv3d(256, 512, kernel_size=(1, 1, 1), stride=(2, 2, 2), bias=False)\n",
       "            (1): BatchNorm3d(512, eps=1e-05, momentum=0.1, affine=True, track_running_stats=True)\n",
       "          )\n",
       "        )\n",
       "        (1): BasicBlock(\n",
       "          (conv1): Sequential(\n",
       "            (0): Conv2Plus1D(\n",
       "              (0): Conv3d(512, 1152, kernel_size=(1, 3, 3), stride=(1, 1, 1), padding=(0, 1, 1), bias=False)\n",
       "              (1): BatchNorm3d(1152, eps=1e-05, momentum=0.1, affine=True, track_running_stats=True)\n",
       "              (2): ReLU(inplace=True)\n",
       "              (3): Conv3d(1152, 512, kernel_size=(3, 1, 1), stride=(1, 1, 1), padding=(1, 0, 0), bias=False)\n",
       "            )\n",
       "            (1): BatchNorm3d(512, eps=1e-05, momentum=0.1, affine=True, track_running_stats=True)\n",
       "            (2): ReLU(inplace=True)\n",
       "          )\n",
       "          (conv2): Sequential(\n",
       "            (0): Conv2Plus1D(\n",
       "              (0): Conv3d(512, 1152, kernel_size=(1, 3, 3), stride=(1, 1, 1), padding=(0, 1, 1), bias=False)\n",
       "              (1): BatchNorm3d(1152, eps=1e-05, momentum=0.1, affine=True, track_running_stats=True)\n",
       "              (2): ReLU(inplace=True)\n",
       "              (3): Conv3d(1152, 512, kernel_size=(3, 1, 1), stride=(1, 1, 1), padding=(1, 0, 0), bias=False)\n",
       "            )\n",
       "            (1): BatchNorm3d(512, eps=1e-05, momentum=0.1, affine=True, track_running_stats=True)\n",
       "          )\n",
       "          (relu): ReLU(inplace=True)\n",
       "        )\n",
       "      )\n",
       "    )\n",
       "    (predictor): DefaultPredictor(\n",
       "      (m): Sequential(\n",
       "        (0): Linear(in_features=512, out_features=256, bias=True)\n",
       "        (1): ReLU(inplace=True)\n",
       "        (2): Linear(in_features=256, out_features=2, bias=True)\n",
       "      )\n",
       "      (criterion): CrossEntropyLoss()\n",
       "    )\n",
       "  )\n",
       ")"
      ]
     },
     "execution_count": 28,
     "metadata": {},
     "output_type": "execute_result"
    }
   ],
   "source": [
    "model = generate_network(opt, n_outputs=n_outputs, target_transform=target_transform)\n",
    "model"
   ]
  },
  {
   "cell_type": "code",
   "execution_count": null,
   "metadata": {},
   "outputs": [],
   "source": [
    "ls /data/GaitData/ckpt_dir/DefaultAGNet_MulticamFD@r2plus1d_18/"
   ]
  },
  {
   "cell_type": "code",
   "execution_count": null,
   "metadata": {},
   "outputs": [],
   "source": [
    "# sklearn.metrics.classification_report(out_history_cat.argmax(1).detach().cpu().numpy(), target_history_cat.detach().cpu().numpy())"
   ]
  },
  {
   "cell_type": "code",
   "execution_count": null,
   "metadata": {},
   "outputs": [],
   "source": [
    "import os\n",
    "os.path.basename(os.path.join(opt.ckpt_dir, opt.model_indicator))"
   ]
  },
  {
   "cell_type": "code",
   "execution_count": null,
   "metadata": {},
   "outputs": [],
   "source": [
    "import torch\n",
    "y_true = torch.tensor([0, 0, 0,0, 0])\n",
    "y_pred = torch.tensor([1, 1, 1,0, 0])"
   ]
  },
  {
   "cell_type": "code",
   "execution_count": null,
   "metadata": {},
   "outputs": [],
   "source": [
    "# sensitivity\n",
    "np.logical_and(y_true==1, y_pred == 1).sum() / (y_true==1).sum()"
   ]
  },
  {
   "cell_type": "code",
   "execution_count": null,
   "metadata": {},
   "outputs": [],
   "source": [
    "# specificity\n",
    "np.logical_and(y_true==0, y_pred == 0).sum() / (y_true==0).sum()"
   ]
  },
  {
   "cell_type": "code",
   "execution_count": null,
   "metadata": {},
   "outputs": [],
   "source": [
    "print(sklearn.metrics.classification_report(y_true, y_pred))"
   ]
  },
  {
   "cell_type": "code",
   "execution_count": null,
   "metadata": {},
   "outputs": [],
   "source": [
    "len(y_true.unique())"
   ]
  },
  {
   "cell_type": "code",
   "execution_count": null,
   "metadata": {},
   "outputs": [],
   "source": []
  }
 ],
 "metadata": {
  "kernelspec": {
   "display_name": "Python 3",
   "language": "python",
   "name": "python3"
  },
  "language_info": {
   "codemirror_mode": {
    "name": "ipython",
    "version": 3
   },
   "file_extension": ".py",
   "mimetype": "text/x-python",
   "name": "python",
   "nbconvert_exporter": "python",
   "pygments_lexer": "ipython3",
   "version": "3.6.8"
  }
 },
 "nbformat": 4,
 "nbformat_minor": 2
}
